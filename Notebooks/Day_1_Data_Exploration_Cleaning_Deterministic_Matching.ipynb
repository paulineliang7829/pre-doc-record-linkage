{
 "cells": [
  {
   "cell_type": "markdown",
   "metadata": {
    "toc": true
   },
   "source": [
    "<h1>Table of Contents<span class=\"tocSkip\"></span></h1>\n",
    "<div class=\"toc\"><ul class=\"toc-item\"><li><span><a href=\"#Record-Linkage\" data-toc-modified-id=\"Record-Linkage-1\"><span class=\"toc-item-num\">1&nbsp;&nbsp;</span>Record Linkage</a></span><ul class=\"toc-item\"><li><span><a href=\"#The-Principles-of-Record-Linkage\" data-toc-modified-id=\"The-Principles-of-Record-Linkage-1.1\"><span class=\"toc-item-num\">1.1&nbsp;&nbsp;</span>The Principles of Record Linkage</a></span></li><li><span><a href=\"#Linking-Patents-to-Grants:-individual-and-organization-levels\" data-toc-modified-id=\"Linking-Patents-to-Grants:-individual-and-organization-levels-1.2\"><span class=\"toc-item-num\">1.2&nbsp;&nbsp;</span>Linking Patents to Grants: individual and organization levels</a></span></li><li><span><a href=\"#Python-Setup\" data-toc-modified-id=\"Python-Setup-1.3\"><span class=\"toc-item-num\">1.3&nbsp;&nbsp;</span>Python Setup</a></span></li></ul></li><li><span><a href=\"#Data-Exploration:-Know-Your-Data\" data-toc-modified-id=\"Data-Exploration:-Know-Your-Data-2\"><span class=\"toc-item-num\">2&nbsp;&nbsp;</span>Data Exploration: Know Your Data</a></span><ul class=\"toc-item\"><li><ul class=\"toc-item\"><li><span><a href=\"#Individual-level-links:-inventor-(patent)-<->-principal-investigator-(grant)\" data-toc-modified-id=\"Individual-level-links:-inventor-(patent)-<->-principal-investigator-(grant)-2.0.1\"><span class=\"toc-item-num\">2.0.1&nbsp;&nbsp;</span>Individual-level links: inventor (patent) &lt;-&gt; principal investigator (grant)</a></span><ul class=\"toc-item\"><li><span><a href=\"#PatentsView:-inventor-names-on-patents\" data-toc-modified-id=\"PatentsView:-inventor-names-on-patents-2.0.1.1\"><span class=\"toc-item-num\">2.0.1.1&nbsp;&nbsp;</span>PatentsView: inventor names on patents</a></span></li><li><span><a href=\"#FedRePORTER:-principal-investigator-names-on-grants\" data-toc-modified-id=\"FedRePORTER:-principal-investigator-names-on-grants-2.0.1.2\"><span class=\"toc-item-num\">2.0.1.2&nbsp;&nbsp;</span>FedRePORTER: principal investigator names on grants</a></span></li></ul></li></ul></li></ul></li><li><span><a href=\"#Data-Cleaning\" data-toc-modified-id=\"Data-Cleaning-3\"><span class=\"toc-item-num\">3&nbsp;&nbsp;</span>Data Cleaning</a></span><ul class=\"toc-item\"><li><span><a href=\"#The-Importance-of-Pre-Processing\" data-toc-modified-id=\"The-Importance-of-Pre-Processing-3.1\"><span class=\"toc-item-num\">3.1&nbsp;&nbsp;</span>The Importance of Pre-Processing</a></span><ul class=\"toc-item\"><li><span><a href=\"#Individual-level-links\" data-toc-modified-id=\"Individual-level-links-3.1.1\"><span class=\"toc-item-num\">3.1.1&nbsp;&nbsp;</span>Individual-level links</a></span><ul class=\"toc-item\"><li><span><a href=\"#Clean-Inventor-Data\" data-toc-modified-id=\"Clean-Inventor-Data-3.1.1.1\"><span class=\"toc-item-num\">3.1.1.1&nbsp;&nbsp;</span>Clean Inventor Data</a></span></li><li><span><a href=\"#Clean-Grant-Data\" data-toc-modified-id=\"Clean-Grant-Data-3.1.1.2\"><span class=\"toc-item-num\">3.1.1.2&nbsp;&nbsp;</span>Clean Grant Data</a></span></li></ul></li></ul></li></ul></li><li><span><a href=\"#Deterministic-Matching\" data-toc-modified-id=\"Deterministic-Matching-4\"><span class=\"toc-item-num\">4&nbsp;&nbsp;</span>Deterministic Matching</a></span><ul class=\"toc-item\"><li><ul class=\"toc-item\"><li><span><a href=\"#Individual-level-links\" data-toc-modified-id=\"Individual-level-links-4.0.1\"><span class=\"toc-item-num\">4.0.1&nbsp;&nbsp;</span>Individual-level links</a></span><ul class=\"toc-item\"><li><span><a href=\"#REGEX-CHEATSHEET\" data-toc-modified-id=\"REGEX-CHEATSHEET-4.0.1.1\"><span class=\"toc-item-num\">4.0.1.1&nbsp;&nbsp;</span>REGEX CHEATSHEET</a></span></li><li><span><a href=\"#EXAMPLES\" data-toc-modified-id=\"EXAMPLES-4.0.1.2\"><span class=\"toc-item-num\">4.0.1.2&nbsp;&nbsp;</span>EXAMPLES</a></span></li></ul></li></ul></li><li><span><a href=\"#References-and-Further-Readings\" data-toc-modified-id=\"References-and-Further-Readings-4.1\"><span class=\"toc-item-num\">4.1&nbsp;&nbsp;</span>References and Further Readings</a></span><ul class=\"toc-item\"><li><span><a href=\"#Record-Linkage\" data-toc-modified-id=\"Record-Linkage-4.1.1\"><span class=\"toc-item-num\">4.1.1&nbsp;&nbsp;</span>Record Linkage</a></span></li><li><span><a href=\"#Parsing\" data-toc-modified-id=\"Parsing-4.1.2\"><span class=\"toc-item-num\">4.1.2&nbsp;&nbsp;</span>Parsing</a></span></li><li><span><a href=\"#Regular-Expression\" data-toc-modified-id=\"Regular-Expression-4.1.3\"><span class=\"toc-item-num\">4.1.3&nbsp;&nbsp;</span>Regular Expression</a></span></li><li><span><a href=\"#Record-Linkage-Python-package\" data-toc-modified-id=\"Record-Linkage-Python-package-4.1.4\"><span class=\"toc-item-num\">4.1.4&nbsp;&nbsp;</span>Record Linkage Python package</a></span></li></ul></li></ul></li></ul></div>"
   ]
  },
  {
   "cell_type": "markdown",
   "metadata": {},
   "source": [
    "Contributors:\n",
    "Rayid Ghani, Frauke Kreuter, Julia Lane, Brian Kim, Adrianne Bradford, Alex Engler, Nicolas Guetta Jeanrenaud, Graham Henke, Daniela Hochfellner, Clayton Hunter, Avishek Kumar, Jonathan Morgan, Ekaterina Levitskaya."
   ]
  },
  {
   "cell_type": "markdown",
   "metadata": {},
   "source": [
    "# Record Linkage"
   ]
  },
  {
   "cell_type": "markdown",
   "metadata": {},
   "source": [
    "This notebook will provide you with an instruction into Record Linkage using Python. Upon completion of this notebook you will be able to apply record linkage techniques using the `recordlinkage` package to combine data from different sources in Python. \n",
    "It will lead you through all the steps necessary for a sucessful record linkage starting with data preparation  including pre-processing, cleaning and standardization of data."
   ]
  },
  {
   "cell_type": "markdown",
   "metadata": {},
   "source": [
    "## The Principles of Record Linkage\n",
    "The goal of record linkage is to determine if pairs of records describe the same entity. For instance, this is important for removing duplicates from a data source or joining two separate data sources together. Record linkage also goes by the terms data matching, merge/purge, duplication detection, de-duping, reference matching, entity resolution, disambiguation, co-reference/anaphora in various fields.\n",
    "\n",
    "There are several approaches to record linkage that include \n",
    "    - exact matching,\n",
    "    - rule-based linking, \n",
    "    - probabilistic linking. \n",
    "- An example of **exact matching** is joining records based on a direct identifier. This is what we have already have done in SQL by joining tables. \n",
    "- **Rule-based matching** involves applying a cascading set of rules that reflect the domain knowledge of the records being linked. \n",
    "- In **probabilistic record linkages**, linkage weights are estimated to calculate the probability of a certain match.\n",
    "\n",
    "In practical applications you will need record linkage techiques to combine information addressing the same entity that is stored in different data sources. Record linkage will also help you to address the quality of different data sources. For example, if one of your databases has missing values you might be able to fill those by finding an identical pair in a different data source. Overall, the main applications of record linkage are:\n",
    "    1. Merging two or more data files. \n",
    "    2. Identifying the intersection of the two data sets. \n",
    "    3. Updating data files (with the data row of the other data files) and imputing missing data.\n",
    "    4. Entity disambiguation and de-duplication."
   ]
  },
  {
   "cell_type": "markdown",
   "metadata": {},
   "source": [
    "## Linking Patents to Grants: individual and organization levels\n",
    "\n",
    "In this class we will link records obtained from the **PatentsView** (https://www.patentsview.org/download/) to the data on federal grants in **FedRePORTER** (https://federalreporter.nih.gov/FileDownload). In both datasets we have names that we can use to link: inventor names on patents and principal investigator names on grants."
   ]
  },
  {
   "cell_type": "markdown",
   "metadata": {
    "ExecuteTime": {
     "end_time": "2020-01-24T00:05:31.897322Z",
     "start_time": "2020-01-24T00:05:31.874358Z"
    }
   },
   "source": [
    "**About USPTO/PatentsView**\n",
    "\n",
    "The PatentsView platform links inventors, organizations, locations, and patenting activity since 1976. \n",
    "\n",
    "\n",
    "**Key variables of interest**:\n",
    "\n",
    "**Patent**\n",
    "- Patent processing time (duration between a patent application filing date and\n",
    "grant date)\n",
    "- Title\n",
    "- Type of patent document (utility, design, plant, reissue, defensive, and statutory\n",
    "invention registration—offer different kinds of protection for distinct types of\n",
    "subject matter)\n",
    "- Cited patent (patent is cited when it appears as a reference in another patent or\n",
    "patent application)\n",
    "- Citing patent (patent that cites a patent or patent application as a reference in its\n",
    "&#39;references cited&#39; section)\n",
    "- Grant date (date a patent was issued by the USPTO)\n",
    "- International Patent Classification (IPC) (system of patent classifications\n",
    "published by the World Intellectual Property Organization (WIPO))\n",
    "\n",
    "**Assignee** (the name of the entity—company, foundation, partnership, holding company\n",
    "or individual—that owns the patent)\n",
    "- First name (if assignee is individual)\n",
    "- Last name (if assignee is individual)\n",
    "- Organization name (if assignee is organization)\n",
    "- Type (classification of assignee)\n",
    "- Location (City, State, Country, Latitude, Longitude, County, FIPS code (state), FIPS code (county))\n",
    "\n",
    "**Inventor** (the individual who conceived the invention)\n",
    "- First name\n",
    "- Last name\n",
    "- Gender\n",
    "- Location (City, State, Country, Latitude, Longitude, County, FIPS code (state), FIPS code (county))\n",
    "- Co-inventor (a person who appears on the same patent or patent application as\n",
    "another inventor)"
   ]
  },
  {
   "cell_type": "markdown",
   "metadata": {},
   "source": [
    "**About Federal RePORTER**\n",
    "\n",
    "Federal RePORTER is a collaborative effort led by STAR METRICS® to create a searchable\n",
    "database of scientific awards from agencies (across agencies or fiscal years, by the award&#39;s\n",
    "project leader, or by a text search of a project&#39;s title, terms, or abstracts). The National Institutes of Health (NIH) and the National Science Foundation (NSF), under the auspices of Office of Science and Technology Policy (OSTP), are leading this project with funding provided by NIH, NSF, the U.S. Department of Agriculture, and the Environmental Protection Agency."
   ]
  },
  {
   "cell_type": "markdown",
   "metadata": {
    "ExecuteTime": {
     "end_time": "2020-01-24T00:10:44.220943Z",
     "start_time": "2020-01-24T00:10:44.210446Z"
    }
   },
   "source": [
    "Agencies with data in Federal RePORTER: DOD (Department of Defense), ED (Department of Education), Environmental Protection Agency (EPA), HHS (Department of Health and Human Services), National Aeronautics and Space Administration (NASA), National Science Foundation (NSF), USDA (United States Department of Agriculture), U.S. Department of Veterans Affairs (VA)."
   ]
  },
  {
   "cell_type": "markdown",
   "metadata": {},
   "source": [
    "**Key variables of interest**:\n",
    "- Project description\n",
    "    - Title\n",
    "    - Abstract\n",
    "    - Terms (keywords from the project title and abstract)\n",
    "- Project duration\n",
    "    - Start date\n",
    "    - End date\n",
    "- Total cost of a project\n",
    "- Financial year\n",
    "- Federal agency, department\n",
    "- Principal Investigator (PI) Project Leader\n",
    "    - First name\n",
    "    - Last name\n",
    "- Other PIs\n",
    "    - First name\n",
    "    - Last name\n",
    "- Organization name\n",
    "- Organization location (City, State, Zip, Country)\n",
    "- CFDA code (The Catalog of Federal Domestic Assistance, federal financial assistance\n",
    "and nonfinancial assistance programs)"
   ]
  },
  {
   "cell_type": "markdown",
   "metadata": {},
   "source": [
    "**Questions for group discussion:** \n",
    "- What variables would you use for record linkage using these datasets?\n",
    "- What problems do you anticipate?"
   ]
  },
  {
   "cell_type": "markdown",
   "metadata": {},
   "source": [
    "## Python Setup"
   ]
  },
  {
   "cell_type": "markdown",
   "metadata": {},
   "source": [
    "**Class Subset**: The FedRePORTER dataset includes records from year 2010, and PatentsView dataset includes records from 2015-2019 of patents with government interest (in order to account for a time lag between the start of a grant and potential outputs (registered patents) from a grant)."
   ]
  },
  {
   "cell_type": "markdown",
   "metadata": {},
   "source": [
    "Import necessary Python packages."
   ]
  },
  {
   "cell_type": "code",
   "execution_count": 2,
   "metadata": {
    "ExecuteTime": {
     "end_time": "2020-01-24T14:08:00.931067Z",
     "start_time": "2020-01-24T14:08:00.927558Z"
    }
   },
   "outputs": [],
   "source": [
    "# data import and manipulation\n",
    "import pandas as pd\n",
    "\n",
    "# record linkage and preprocessing\n",
    "import recordlinkage as rl\n",
    "from recordlinkage.preprocessing import clean, phonetic"
   ]
  },
  {
   "cell_type": "markdown",
   "metadata": {},
   "source": [
    "# Data Exploration: Know Your Data"
   ]
  },
  {
   "cell_type": "markdown",
   "metadata": {},
   "source": [
    "### Individual-level links: inventor (patent) <-> principal investigator (grant)"
   ]
  },
  {
   "cell_type": "markdown",
   "metadata": {},
   "source": [
    "#### PatentsView: inventor names on patents"
   ]
  },
  {
   "cell_type": "code",
   "execution_count": 3,
   "metadata": {
    "ExecuteTime": {
     "end_time": "2020-01-24T14:08:01.362133Z",
     "start_time": "2020-01-24T14:08:01.341889Z"
    }
   },
   "outputs": [],
   "source": [
    "# Import CSV into a dataframe\n",
    "inventors = pd.read_csv('../Data/patentsview_inventors.csv')"
   ]
  },
  {
   "cell_type": "code",
   "execution_count": 6,
   "metadata": {
    "ExecuteTime": {
     "end_time": "2020-01-24T14:08:01.786301Z",
     "start_time": "2020-01-24T14:08:01.772647Z"
    }
   },
   "outputs": [
    {
     "data": {
      "text/html": [
       "<div>\n",
       "<style scoped>\n",
       "    .dataframe tbody tr th:only-of-type {\n",
       "        vertical-align: middle;\n",
       "    }\n",
       "\n",
       "    .dataframe tbody tr th {\n",
       "        vertical-align: top;\n",
       "    }\n",
       "\n",
       "    .dataframe thead th {\n",
       "        text-align: right;\n",
       "    }\n",
       "</style>\n",
       "<table border=\"1\" class=\"dataframe\">\n",
       "  <thead>\n",
       "    <tr style=\"text-align: right;\">\n",
       "      <th></th>\n",
       "      <th>patent_id</th>\n",
       "      <th>year</th>\n",
       "      <th>inventor_id</th>\n",
       "      <th>name_first</th>\n",
       "      <th>name_last</th>\n",
       "      <th>inventor_city</th>\n",
       "      <th>inventor_state</th>\n",
       "      <th>inventor_country</th>\n",
       "    </tr>\n",
       "  </thead>\n",
       "  <tbody>\n",
       "    <tr>\n",
       "      <th>0</th>\n",
       "      <td>9980635</td>\n",
       "      <td>2018</td>\n",
       "      <td>9980635-1</td>\n",
       "      <td>Maria Eliana</td>\n",
       "      <td>Manquez Hatta</td>\n",
       "      <td>Santiago</td>\n",
       "      <td>NaN</td>\n",
       "      <td>CL</td>\n",
       "    </tr>\n",
       "    <tr>\n",
       "      <th>1</th>\n",
       "      <td>9980635</td>\n",
       "      <td>2018</td>\n",
       "      <td>9980635-2</td>\n",
       "      <td>Humberto</td>\n",
       "      <td>Lobos Sucarrat</td>\n",
       "      <td>Santiago</td>\n",
       "      <td>NaN</td>\n",
       "      <td>CL</td>\n",
       "    </tr>\n",
       "    <tr>\n",
       "      <th>2</th>\n",
       "      <td>9999665</td>\n",
       "      <td>2018</td>\n",
       "      <td>8398993-2</td>\n",
       "      <td>Pablo A.</td>\n",
       "      <td>Gonzalez Munoz</td>\n",
       "      <td>Santiago</td>\n",
       "      <td>NaN</td>\n",
       "      <td>CL</td>\n",
       "    </tr>\n",
       "    <tr>\n",
       "      <th>3</th>\n",
       "      <td>9980641</td>\n",
       "      <td>2018</td>\n",
       "      <td>5321501-6</td>\n",
       "      <td>Joel S.</td>\n",
       "      <td>Schuman</td>\n",
       "      <td>Pittsburgh</td>\n",
       "      <td>PA</td>\n",
       "      <td>US</td>\n",
       "    </tr>\n",
       "    <tr>\n",
       "      <th>4</th>\n",
       "      <td>9980641</td>\n",
       "      <td>2018</td>\n",
       "      <td>9980641-3</td>\n",
       "      <td>Lawrence Edward</td>\n",
       "      <td>Kagemann</td>\n",
       "      <td>Pittsburgh</td>\n",
       "      <td>PA</td>\n",
       "      <td>US</td>\n",
       "    </tr>\n",
       "    <tr>\n",
       "      <th>5</th>\n",
       "      <td>9980645</td>\n",
       "      <td>2018</td>\n",
       "      <td>9037248-2</td>\n",
       "      <td>Brian</td>\n",
       "      <td>Wodlinger</td>\n",
       "      <td>Pittsburgh</td>\n",
       "      <td>PA</td>\n",
       "      <td>US</td>\n",
       "    </tr>\n",
       "    <tr>\n",
       "      <th>6</th>\n",
       "      <td>9981048</td>\n",
       "      <td>2018</td>\n",
       "      <td>9981048-1</td>\n",
       "      <td>Ira Jacob</td>\n",
       "      <td>Fox</td>\n",
       "      <td>Pittsburgh</td>\n",
       "      <td>PA</td>\n",
       "      <td>US</td>\n",
       "    </tr>\n",
       "    <tr>\n",
       "      <th>7</th>\n",
       "      <td>9981048</td>\n",
       "      <td>2018</td>\n",
       "      <td>9981048-3</td>\n",
       "      <td>Taichiro N.</td>\n",
       "      <td>Nishikawa</td>\n",
       "      <td>Pittsburgh</td>\n",
       "      <td>PA</td>\n",
       "      <td>US</td>\n",
       "    </tr>\n",
       "    <tr>\n",
       "      <th>8</th>\n",
       "      <td>9981048</td>\n",
       "      <td>2018</td>\n",
       "      <td>9981048-4</td>\n",
       "      <td>Alejandro</td>\n",
       "      <td>Soto-Gutierrez</td>\n",
       "      <td>Pittsburgh</td>\n",
       "      <td>PA</td>\n",
       "      <td>US</td>\n",
       "    </tr>\n",
       "    <tr>\n",
       "      <th>9</th>\n",
       "      <td>9981915</td>\n",
       "      <td>2018</td>\n",
       "      <td>5156079-2</td>\n",
       "      <td>Wei</td>\n",
       "      <td>Li</td>\n",
       "      <td>Pittsburgh</td>\n",
       "      <td>PA</td>\n",
       "      <td>US</td>\n",
       "    </tr>\n",
       "  </tbody>\n",
       "</table>\n",
       "</div>"
      ],
      "text/plain": [
       "  patent_id  year inventor_id       name_first       name_last inventor_city  \\\n",
       "0   9980635  2018   9980635-1     Maria Eliana   Manquez Hatta      Santiago   \n",
       "1   9980635  2018   9980635-2         Humberto  Lobos Sucarrat      Santiago   \n",
       "2   9999665  2018   8398993-2         Pablo A.  Gonzalez Munoz      Santiago   \n",
       "3   9980641  2018   5321501-6          Joel S.         Schuman    Pittsburgh   \n",
       "4   9980641  2018   9980641-3  Lawrence Edward        Kagemann    Pittsburgh   \n",
       "5   9980645  2018   9037248-2            Brian       Wodlinger    Pittsburgh   \n",
       "6   9981048  2018   9981048-1        Ira Jacob             Fox    Pittsburgh   \n",
       "7   9981048  2018   9981048-3      Taichiro N.       Nishikawa    Pittsburgh   \n",
       "8   9981048  2018   9981048-4        Alejandro  Soto-Gutierrez    Pittsburgh   \n",
       "9   9981915  2018   5156079-2              Wei              Li    Pittsburgh   \n",
       "\n",
       "  inventor_state inventor_country  \n",
       "0            NaN               CL  \n",
       "1            NaN               CL  \n",
       "2            NaN               CL  \n",
       "3             PA               US  \n",
       "4             PA               US  \n",
       "5             PA               US  \n",
       "6             PA               US  \n",
       "7             PA               US  \n",
       "8             PA               US  \n",
       "9             PA               US  "
      ]
     },
     "execution_count": 6,
     "metadata": {},
     "output_type": "execute_result"
    }
   ],
   "source": [
    "# View first rows of the dataframe\n",
    "inventors.head(10)"
   ]
  },
  {
   "cell_type": "code",
   "execution_count": 8,
   "metadata": {},
   "outputs": [
    {
     "data": {
      "text/html": [
       "<div>\n",
       "<style scoped>\n",
       "    .dataframe tbody tr th:only-of-type {\n",
       "        vertical-align: middle;\n",
       "    }\n",
       "\n",
       "    .dataframe tbody tr th {\n",
       "        vertical-align: top;\n",
       "    }\n",
       "\n",
       "    .dataframe thead th {\n",
       "        text-align: right;\n",
       "    }\n",
       "</style>\n",
       "<table border=\"1\" class=\"dataframe\">\n",
       "  <thead>\n",
       "    <tr style=\"text-align: right;\">\n",
       "      <th></th>\n",
       "      <th>patent_id</th>\n",
       "      <th>year</th>\n",
       "      <th>inventor_id</th>\n",
       "      <th>name_first</th>\n",
       "      <th>name_last</th>\n",
       "      <th>inventor_city</th>\n",
       "      <th>inventor_state</th>\n",
       "      <th>inventor_country</th>\n",
       "    </tr>\n",
       "  </thead>\n",
       "  <tbody>\n",
       "    <tr>\n",
       "      <th>4831</th>\n",
       "      <td>RE47009</td>\n",
       "      <td>2018</td>\n",
       "      <td>6534277-1</td>\n",
       "      <td>Wayne W.</td>\n",
       "      <td>Hancock</td>\n",
       "      <td>Medfield</td>\n",
       "      <td>MA</td>\n",
       "      <td>US</td>\n",
       "    </tr>\n",
       "    <tr>\n",
       "      <th>4832</th>\n",
       "      <td>RE47026</td>\n",
       "      <td>2018</td>\n",
       "      <td>5805332-1</td>\n",
       "      <td>Anand</td>\n",
       "      <td>Gopinath</td>\n",
       "      <td>Wayzata</td>\n",
       "      <td>MN</td>\n",
       "      <td>US</td>\n",
       "    </tr>\n",
       "    <tr>\n",
       "      <th>4833</th>\n",
       "      <td>RE47026</td>\n",
       "      <td>2018</td>\n",
       "      <td>5805332-1</td>\n",
       "      <td>Anand</td>\n",
       "      <td>Gopinath</td>\n",
       "      <td>Orono</td>\n",
       "      <td>MN</td>\n",
       "      <td>US</td>\n",
       "    </tr>\n",
       "    <tr>\n",
       "      <th>4834</th>\n",
       "      <td>RE47026</td>\n",
       "      <td>2018</td>\n",
       "      <td>6650116-3</td>\n",
       "      <td>Lance</td>\n",
       "      <td>DelaBarre</td>\n",
       "      <td>St. Anthony</td>\n",
       "      <td>MN</td>\n",
       "      <td>US</td>\n",
       "    </tr>\n",
       "    <tr>\n",
       "      <th>4835</th>\n",
       "      <td>RE47026</td>\n",
       "      <td>2018</td>\n",
       "      <td>6969992-4</td>\n",
       "      <td>John</td>\n",
       "      <td>Strupp</td>\n",
       "      <td>Marine on St. Croix</td>\n",
       "      <td>MN</td>\n",
       "      <td>US</td>\n",
       "    </tr>\n",
       "    <tr>\n",
       "      <th>4836</th>\n",
       "      <td>RE47026</td>\n",
       "      <td>2018</td>\n",
       "      <td>6969992-4</td>\n",
       "      <td>John</td>\n",
       "      <td>Strupp</td>\n",
       "      <td>Coon Rapids</td>\n",
       "      <td>MN</td>\n",
       "      <td>US</td>\n",
       "    </tr>\n",
       "    <tr>\n",
       "      <th>4837</th>\n",
       "      <td>RE47026</td>\n",
       "      <td>2018</td>\n",
       "      <td>6969992-5</td>\n",
       "      <td>Peter M.</td>\n",
       "      <td>Andersen</td>\n",
       "      <td>Independence</td>\n",
       "      <td>MN</td>\n",
       "      <td>US</td>\n",
       "    </tr>\n",
       "    <tr>\n",
       "      <th>4838</th>\n",
       "      <td>RE47026</td>\n",
       "      <td>2018</td>\n",
       "      <td>7800368-5</td>\n",
       "      <td>Heather Diane</td>\n",
       "      <td>Orser</td>\n",
       "      <td>Farmington</td>\n",
       "      <td>MN</td>\n",
       "      <td>US</td>\n",
       "    </tr>\n",
       "    <tr>\n",
       "      <th>4839</th>\n",
       "      <td>RE47026</td>\n",
       "      <td>2018</td>\n",
       "      <td>RE47026-4</td>\n",
       "      <td>Chris E</td>\n",
       "      <td>Olson</td>\n",
       "      <td>Palatine</td>\n",
       "      <td>IL</td>\n",
       "      <td>US</td>\n",
       "    </tr>\n",
       "    <tr>\n",
       "      <th>4840</th>\n",
       "      <td>RE47267</td>\n",
       "      <td>2019</td>\n",
       "      <td>5494810-2</td>\n",
       "      <td>John A.</td>\n",
       "      <td>Zebala</td>\n",
       "      <td>Auburn</td>\n",
       "      <td>WA</td>\n",
       "      <td>US</td>\n",
       "    </tr>\n",
       "  </tbody>\n",
       "</table>\n",
       "</div>"
      ],
      "text/plain": [
       "     patent_id  year inventor_id     name_first  name_last  \\\n",
       "4831   RE47009  2018   6534277-1       Wayne W.    Hancock   \n",
       "4832   RE47026  2018   5805332-1          Anand   Gopinath   \n",
       "4833   RE47026  2018   5805332-1          Anand   Gopinath   \n",
       "4834   RE47026  2018   6650116-3          Lance  DelaBarre   \n",
       "4835   RE47026  2018   6969992-4           John     Strupp   \n",
       "4836   RE47026  2018   6969992-4           John     Strupp   \n",
       "4837   RE47026  2018   6969992-5       Peter M.   Andersen   \n",
       "4838   RE47026  2018   7800368-5  Heather Diane      Orser   \n",
       "4839   RE47026  2018   RE47026-4        Chris E      Olson   \n",
       "4840   RE47267  2019   5494810-2        John A.     Zebala   \n",
       "\n",
       "            inventor_city inventor_state inventor_country  \n",
       "4831             Medfield             MA               US  \n",
       "4832              Wayzata             MN               US  \n",
       "4833                Orono             MN               US  \n",
       "4834          St. Anthony             MN               US  \n",
       "4835  Marine on St. Croix             MN               US  \n",
       "4836          Coon Rapids             MN               US  \n",
       "4837         Independence             MN               US  \n",
       "4838           Farmington             MN               US  \n",
       "4839             Palatine             IL               US  \n",
       "4840               Auburn             WA               US  "
      ]
     },
     "execution_count": 8,
     "metadata": {},
     "output_type": "execute_result"
    }
   ],
   "source": [
    "inventors.tail(10)"
   ]
  },
  {
   "cell_type": "code",
   "execution_count": 7,
   "metadata": {
    "ExecuteTime": {
     "end_time": "2020-01-24T14:08:02.263910Z",
     "start_time": "2020-01-24T14:08:02.251228Z"
    }
   },
   "outputs": [
    {
     "name": "stdout",
     "output_type": "stream",
     "text": [
      "<class 'pandas.core.frame.DataFrame'>\n",
      "RangeIndex: 4841 entries, 0 to 4840\n",
      "Data columns (total 8 columns):\n",
      "patent_id           4841 non-null object\n",
      "year                4841 non-null int64\n",
      "inventor_id         4841 non-null object\n",
      "name_first          4841 non-null object\n",
      "name_last           4841 non-null object\n",
      "inventor_city       4840 non-null object\n",
      "inventor_state      3994 non-null object\n",
      "inventor_country    4841 non-null object\n",
      "dtypes: int64(1), object(7)\n",
      "memory usage: 302.6+ KB\n"
     ]
    }
   ],
   "source": [
    "inventors.info()"
   ]
  },
  {
   "cell_type": "markdown",
   "metadata": {},
   "source": [
    "We notice that `inventor_state` information appears to be missing in some cases (3,994 records vs total 4,841 records).\n",
    "\n",
    "We can check the rows that are missing by calling `.isnull()`."
   ]
  },
  {
   "cell_type": "code",
   "execution_count": 9,
   "metadata": {
    "ExecuteTime": {
     "end_time": "2020-01-24T14:08:02.798567Z",
     "start_time": "2020-01-24T14:08:02.771189Z"
    }
   },
   "outputs": [
    {
     "data": {
      "text/html": [
       "<div>\n",
       "<style scoped>\n",
       "    .dataframe tbody tr th:only-of-type {\n",
       "        vertical-align: middle;\n",
       "    }\n",
       "\n",
       "    .dataframe tbody tr th {\n",
       "        vertical-align: top;\n",
       "    }\n",
       "\n",
       "    .dataframe thead th {\n",
       "        text-align: right;\n",
       "    }\n",
       "</style>\n",
       "<table border=\"1\" class=\"dataframe\">\n",
       "  <thead>\n",
       "    <tr style=\"text-align: right;\">\n",
       "      <th></th>\n",
       "      <th>patent_id</th>\n",
       "      <th>year</th>\n",
       "      <th>inventor_id</th>\n",
       "      <th>name_first</th>\n",
       "      <th>name_last</th>\n",
       "      <th>inventor_city</th>\n",
       "      <th>inventor_state</th>\n",
       "      <th>inventor_country</th>\n",
       "    </tr>\n",
       "  </thead>\n",
       "  <tbody>\n",
       "    <tr>\n",
       "      <th>0</th>\n",
       "      <td>9980635</td>\n",
       "      <td>2018</td>\n",
       "      <td>9980635-1</td>\n",
       "      <td>Maria Eliana</td>\n",
       "      <td>Manquez Hatta</td>\n",
       "      <td>Santiago</td>\n",
       "      <td>NaN</td>\n",
       "      <td>CL</td>\n",
       "    </tr>\n",
       "    <tr>\n",
       "      <th>1</th>\n",
       "      <td>9980635</td>\n",
       "      <td>2018</td>\n",
       "      <td>9980635-2</td>\n",
       "      <td>Humberto</td>\n",
       "      <td>Lobos Sucarrat</td>\n",
       "      <td>Santiago</td>\n",
       "      <td>NaN</td>\n",
       "      <td>CL</td>\n",
       "    </tr>\n",
       "    <tr>\n",
       "      <th>2</th>\n",
       "      <td>9999665</td>\n",
       "      <td>2018</td>\n",
       "      <td>8398993-2</td>\n",
       "      <td>Pablo A.</td>\n",
       "      <td>Gonzalez Munoz</td>\n",
       "      <td>Santiago</td>\n",
       "      <td>NaN</td>\n",
       "      <td>CL</td>\n",
       "    </tr>\n",
       "    <tr>\n",
       "      <th>100</th>\n",
       "      <td>9980645</td>\n",
       "      <td>2018</td>\n",
       "      <td>4306291-3</td>\n",
       "      <td>Dominique M.</td>\n",
       "      <td>Durand</td>\n",
       "      <td>Toronto</td>\n",
       "      <td>NaN</td>\n",
       "      <td>CA</td>\n",
       "    </tr>\n",
       "    <tr>\n",
       "      <th>101</th>\n",
       "      <td>9981915</td>\n",
       "      <td>2018</td>\n",
       "      <td>5156079-2</td>\n",
       "      <td>Wei</td>\n",
       "      <td>Li</td>\n",
       "      <td>Toronto</td>\n",
       "      <td>NaN</td>\n",
       "      <td>CA</td>\n",
       "    </tr>\n",
       "    <tr>\n",
       "      <th>102</th>\n",
       "      <td>9983412</td>\n",
       "      <td>2018</td>\n",
       "      <td>D419566-1</td>\n",
       "      <td>David Scott</td>\n",
       "      <td>Dunn</td>\n",
       "      <td>Toronto</td>\n",
       "      <td>NaN</td>\n",
       "      <td>CA</td>\n",
       "    </tr>\n",
       "    <tr>\n",
       "      <th>103</th>\n",
       "      <td>9984283</td>\n",
       "      <td>2018</td>\n",
       "      <td>7873169-1</td>\n",
       "      <td>Ke</td>\n",
       "      <td>Zeng</td>\n",
       "      <td>Toronto</td>\n",
       "      <td>NaN</td>\n",
       "      <td>CA</td>\n",
       "    </tr>\n",
       "    <tr>\n",
       "      <th>104</th>\n",
       "      <td>9989702</td>\n",
       "      <td>2018</td>\n",
       "      <td>7826509-2</td>\n",
       "      <td>Benjamin G.</td>\n",
       "      <td>Lee</td>\n",
       "      <td>Toronto</td>\n",
       "      <td>NaN</td>\n",
       "      <td>CA</td>\n",
       "    </tr>\n",
       "    <tr>\n",
       "      <th>105</th>\n",
       "      <td>9993465</td>\n",
       "      <td>2018</td>\n",
       "      <td>5326659-1</td>\n",
       "      <td>Yong</td>\n",
       "      <td>Liu</td>\n",
       "      <td>Toronto</td>\n",
       "      <td>NaN</td>\n",
       "      <td>CA</td>\n",
       "    </tr>\n",
       "    <tr>\n",
       "      <th>106</th>\n",
       "      <td>9997705</td>\n",
       "      <td>2018</td>\n",
       "      <td>5546889-4</td>\n",
       "      <td>Yang</td>\n",
       "      <td>Yang</td>\n",
       "      <td>Toronto</td>\n",
       "      <td>NaN</td>\n",
       "      <td>CA</td>\n",
       "    </tr>\n",
       "    <tr>\n",
       "      <th>107</th>\n",
       "      <td>9999704</td>\n",
       "      <td>2018</td>\n",
       "      <td>5081281-4</td>\n",
       "      <td>Jing</td>\n",
       "      <td>Zhang</td>\n",
       "      <td>Toronto</td>\n",
       "      <td>NaN</td>\n",
       "      <td>CA</td>\n",
       "    </tr>\n",
       "    <tr>\n",
       "      <th>108</th>\n",
       "      <td>PP27141</td>\n",
       "      <td>2016</td>\n",
       "      <td>4395616-1</td>\n",
       "      <td>David C.</td>\n",
       "      <td>Smith</td>\n",
       "      <td>Toronto</td>\n",
       "      <td>NaN</td>\n",
       "      <td>CA</td>\n",
       "    </tr>\n",
       "    <tr>\n",
       "      <th>109</th>\n",
       "      <td>PP28200</td>\n",
       "      <td>2017</td>\n",
       "      <td>4395616-1</td>\n",
       "      <td>David C.</td>\n",
       "      <td>Smith</td>\n",
       "      <td>Toronto</td>\n",
       "      <td>NaN</td>\n",
       "      <td>CA</td>\n",
       "    </tr>\n",
       "    <tr>\n",
       "      <th>110</th>\n",
       "      <td>PP28216</td>\n",
       "      <td>2017</td>\n",
       "      <td>4395616-1</td>\n",
       "      <td>David C.</td>\n",
       "      <td>Smith</td>\n",
       "      <td>Toronto</td>\n",
       "      <td>NaN</td>\n",
       "      <td>CA</td>\n",
       "    </tr>\n",
       "    <tr>\n",
       "      <th>111</th>\n",
       "      <td>RE46817</td>\n",
       "      <td>2018</td>\n",
       "      <td>7135040-1</td>\n",
       "      <td>Shu</td>\n",
       "      <td>Wang</td>\n",
       "      <td>Toronto</td>\n",
       "      <td>NaN</td>\n",
       "      <td>CA</td>\n",
       "    </tr>\n",
       "    <tr>\n",
       "      <th>112</th>\n",
       "      <td>RE47157</td>\n",
       "      <td>2018</td>\n",
       "      <td>7421171-8</td>\n",
       "      <td>Rafif E.</td>\n",
       "      <td>Hamam</td>\n",
       "      <td>Toronto</td>\n",
       "      <td>NaN</td>\n",
       "      <td>CA</td>\n",
       "    </tr>\n",
       "    <tr>\n",
       "      <th>127</th>\n",
       "      <td>9980645</td>\n",
       "      <td>2018</td>\n",
       "      <td>4306291-3</td>\n",
       "      <td>Dominique M.</td>\n",
       "      <td>Durand</td>\n",
       "      <td>Annecy</td>\n",
       "      <td>NaN</td>\n",
       "      <td>FR</td>\n",
       "    </tr>\n",
       "    <tr>\n",
       "      <th>134</th>\n",
       "      <td>9980660</td>\n",
       "      <td>2018</td>\n",
       "      <td>5593835-2</td>\n",
       "      <td>Yong</td>\n",
       "      <td>Wang</td>\n",
       "      <td>London</td>\n",
       "      <td>NaN</td>\n",
       "      <td>GB</td>\n",
       "    </tr>\n",
       "    <tr>\n",
       "      <th>135</th>\n",
       "      <td>9986724</td>\n",
       "      <td>2018</td>\n",
       "      <td>4346055-1</td>\n",
       "      <td>Andrew J.</td>\n",
       "      <td>Murphy</td>\n",
       "      <td>London</td>\n",
       "      <td>NaN</td>\n",
       "      <td>GB</td>\n",
       "    </tr>\n",
       "    <tr>\n",
       "      <th>136</th>\n",
       "      <td>9987331</td>\n",
       "      <td>2018</td>\n",
       "      <td>7309693-4</td>\n",
       "      <td>Yasuhiro</td>\n",
       "      <td>Ikeda</td>\n",
       "      <td>London</td>\n",
       "      <td>NaN</td>\n",
       "      <td>GB</td>\n",
       "    </tr>\n",
       "    <tr>\n",
       "      <th>137</th>\n",
       "      <td>9991360</td>\n",
       "      <td>2018</td>\n",
       "      <td>4108044-1</td>\n",
       "      <td>Richard</td>\n",
       "      <td>Brown</td>\n",
       "      <td>London</td>\n",
       "      <td>NaN</td>\n",
       "      <td>GB</td>\n",
       "    </tr>\n",
       "    <tr>\n",
       "      <th>138</th>\n",
       "      <td>9994555</td>\n",
       "      <td>2018</td>\n",
       "      <td>6306837-2</td>\n",
       "      <td>Chao</td>\n",
       "      <td>Wang</td>\n",
       "      <td>London</td>\n",
       "      <td>NaN</td>\n",
       "      <td>GB</td>\n",
       "    </tr>\n",
       "    <tr>\n",
       "      <th>139</th>\n",
       "      <td>RE46953</td>\n",
       "      <td>2018</td>\n",
       "      <td>6306837-2</td>\n",
       "      <td>Chao</td>\n",
       "      <td>Wang</td>\n",
       "      <td>London</td>\n",
       "      <td>NaN</td>\n",
       "      <td>GB</td>\n",
       "    </tr>\n",
       "    <tr>\n",
       "      <th>140</th>\n",
       "      <td>RE46412</td>\n",
       "      <td>2017</td>\n",
       "      <td>7920271-2</td>\n",
       "      <td>Adrien Emmanuel</td>\n",
       "      <td>Desjardins</td>\n",
       "      <td>London</td>\n",
       "      <td>NaN</td>\n",
       "      <td>GB</td>\n",
       "    </tr>\n",
       "    <tr>\n",
       "      <th>229</th>\n",
       "      <td>9980660</td>\n",
       "      <td>2018</td>\n",
       "      <td>5593835-2</td>\n",
       "      <td>Yong</td>\n",
       "      <td>Wang</td>\n",
       "      <td>Shenzhen</td>\n",
       "      <td>NaN</td>\n",
       "      <td>CN</td>\n",
       "    </tr>\n",
       "    <tr>\n",
       "      <th>230</th>\n",
       "      <td>9981338</td>\n",
       "      <td>2018</td>\n",
       "      <td>5418611-2</td>\n",
       "      <td>Jun</td>\n",
       "      <td>Ni</td>\n",
       "      <td>Shenzhen</td>\n",
       "      <td>NaN</td>\n",
       "      <td>CN</td>\n",
       "    </tr>\n",
       "    <tr>\n",
       "      <th>231</th>\n",
       "      <td>9981915</td>\n",
       "      <td>2018</td>\n",
       "      <td>5156079-2</td>\n",
       "      <td>Wei</td>\n",
       "      <td>Li</td>\n",
       "      <td>Shenzhen</td>\n",
       "      <td>NaN</td>\n",
       "      <td>CN</td>\n",
       "    </tr>\n",
       "    <tr>\n",
       "      <th>232</th>\n",
       "      <td>9981961</td>\n",
       "      <td>2018</td>\n",
       "      <td>5979076-1</td>\n",
       "      <td>Zheng</td>\n",
       "      <td>Li</td>\n",
       "      <td>Shenzhen</td>\n",
       "      <td>NaN</td>\n",
       "      <td>CN</td>\n",
       "    </tr>\n",
       "    <tr>\n",
       "      <th>233</th>\n",
       "      <td>9982356</td>\n",
       "      <td>2018</td>\n",
       "      <td>5180707-1</td>\n",
       "      <td>Wei Z.</td>\n",
       "      <td>Gao</td>\n",
       "      <td>Shenzhen</td>\n",
       "      <td>NaN</td>\n",
       "      <td>CN</td>\n",
       "    </tr>\n",
       "    <tr>\n",
       "      <th>234</th>\n",
       "      <td>9983285</td>\n",
       "      <td>2018</td>\n",
       "      <td>7583082-1</td>\n",
       "      <td>Peng</td>\n",
       "      <td>Hu</td>\n",
       "      <td>Shenzhen</td>\n",
       "      <td>NaN</td>\n",
       "      <td>CN</td>\n",
       "    </tr>\n",
       "    <tr>\n",
       "      <th>...</th>\n",
       "      <td>...</td>\n",
       "      <td>...</td>\n",
       "      <td>...</td>\n",
       "      <td>...</td>\n",
       "      <td>...</td>\n",
       "      <td>...</td>\n",
       "      <td>...</td>\n",
       "      <td>...</td>\n",
       "    </tr>\n",
       "    <tr>\n",
       "      <th>4542</th>\n",
       "      <td>9999704</td>\n",
       "      <td>2018</td>\n",
       "      <td>5081281-4</td>\n",
       "      <td>Jing</td>\n",
       "      <td>Zhang</td>\n",
       "      <td>Rehovot</td>\n",
       "      <td>NaN</td>\n",
       "      <td>IL</td>\n",
       "    </tr>\n",
       "    <tr>\n",
       "      <th>4543</th>\n",
       "      <td>9999704</td>\n",
       "      <td>2018</td>\n",
       "      <td>5081281-4</td>\n",
       "      <td>Jing</td>\n",
       "      <td>Zhang</td>\n",
       "      <td>Sichuan</td>\n",
       "      <td>NaN</td>\n",
       "      <td>CN</td>\n",
       "    </tr>\n",
       "    <tr>\n",
       "      <th>4544</th>\n",
       "      <td>RE46129</td>\n",
       "      <td>2016</td>\n",
       "      <td>5247155-2</td>\n",
       "      <td>Lin</td>\n",
       "      <td>Li</td>\n",
       "      <td>Sichuan</td>\n",
       "      <td>NaN</td>\n",
       "      <td>CN</td>\n",
       "    </tr>\n",
       "    <tr>\n",
       "      <th>4545</th>\n",
       "      <td>9999704</td>\n",
       "      <td>2018</td>\n",
       "      <td>5081281-4</td>\n",
       "      <td>Jing</td>\n",
       "      <td>Zhang</td>\n",
       "      <td>Guandong</td>\n",
       "      <td>NaN</td>\n",
       "      <td>CN</td>\n",
       "    </tr>\n",
       "    <tr>\n",
       "      <th>4546</th>\n",
       "      <td>9999704</td>\n",
       "      <td>2018</td>\n",
       "      <td>5081281-4</td>\n",
       "      <td>Jing</td>\n",
       "      <td>Zhang</td>\n",
       "      <td>Haidian</td>\n",
       "      <td>NaN</td>\n",
       "      <td>CN</td>\n",
       "    </tr>\n",
       "    <tr>\n",
       "      <th>4549</th>\n",
       "      <td>PP25271</td>\n",
       "      <td>2015</td>\n",
       "      <td>8889951-1</td>\n",
       "      <td>Michael David</td>\n",
       "      <td>Materne</td>\n",
       "      <td>Horsham</td>\n",
       "      <td>NaN</td>\n",
       "      <td>EN</td>\n",
       "    </tr>\n",
       "    <tr>\n",
       "      <th>4550</th>\n",
       "      <td>PP25272</td>\n",
       "      <td>2015</td>\n",
       "      <td>8889951-1</td>\n",
       "      <td>Michael David</td>\n",
       "      <td>Materne</td>\n",
       "      <td>Horsham</td>\n",
       "      <td>NaN</td>\n",
       "      <td>EN</td>\n",
       "    </tr>\n",
       "    <tr>\n",
       "      <th>4551</th>\n",
       "      <td>PP25273</td>\n",
       "      <td>2015</td>\n",
       "      <td>8889951-1</td>\n",
       "      <td>Michael David</td>\n",
       "      <td>Materne</td>\n",
       "      <td>Horsham</td>\n",
       "      <td>NaN</td>\n",
       "      <td>EN</td>\n",
       "    </tr>\n",
       "    <tr>\n",
       "      <th>4657</th>\n",
       "      <td>PP27141</td>\n",
       "      <td>2016</td>\n",
       "      <td>4395616-1</td>\n",
       "      <td>David C.</td>\n",
       "      <td>Smith</td>\n",
       "      <td>Reading</td>\n",
       "      <td>NaN</td>\n",
       "      <td>GB</td>\n",
       "    </tr>\n",
       "    <tr>\n",
       "      <th>4658</th>\n",
       "      <td>PP28200</td>\n",
       "      <td>2017</td>\n",
       "      <td>4395616-1</td>\n",
       "      <td>David C.</td>\n",
       "      <td>Smith</td>\n",
       "      <td>Reading</td>\n",
       "      <td>NaN</td>\n",
       "      <td>GB</td>\n",
       "    </tr>\n",
       "    <tr>\n",
       "      <th>4659</th>\n",
       "      <td>PP28216</td>\n",
       "      <td>2017</td>\n",
       "      <td>4395616-1</td>\n",
       "      <td>David C.</td>\n",
       "      <td>Smith</td>\n",
       "      <td>Reading</td>\n",
       "      <td>NaN</td>\n",
       "      <td>GB</td>\n",
       "    </tr>\n",
       "    <tr>\n",
       "      <th>4757</th>\n",
       "      <td>RE45512</td>\n",
       "      <td>2015</td>\n",
       "      <td>6831781-5</td>\n",
       "      <td>Milen Stefanov</td>\n",
       "      <td>Shishkov</td>\n",
       "      <td>Newline Ruse</td>\n",
       "      <td>NaN</td>\n",
       "      <td>BG</td>\n",
       "    </tr>\n",
       "    <tr>\n",
       "      <th>4779</th>\n",
       "      <td>RE46088</td>\n",
       "      <td>2016</td>\n",
       "      <td>5948958-2</td>\n",
       "      <td>Chen-An</td>\n",
       "      <td>Chen</td>\n",
       "      <td>Kaohsiung</td>\n",
       "      <td>NaN</td>\n",
       "      <td>TW</td>\n",
       "    </tr>\n",
       "    <tr>\n",
       "      <th>4780</th>\n",
       "      <td>RE46088</td>\n",
       "      <td>2016</td>\n",
       "      <td>8221601-2</td>\n",
       "      <td>Emmanuel Chua</td>\n",
       "      <td>Abas</td>\n",
       "      <td>Sta. Rosa</td>\n",
       "      <td>NaN</td>\n",
       "      <td>PH</td>\n",
       "    </tr>\n",
       "    <tr>\n",
       "      <th>4781</th>\n",
       "      <td>RE46088</td>\n",
       "      <td>2016</td>\n",
       "      <td>8221601-2</td>\n",
       "      <td>Emmanuel Chua</td>\n",
       "      <td>Abas</td>\n",
       "      <td>Sta. Rosa Laguna</td>\n",
       "      <td>NaN</td>\n",
       "      <td>PH</td>\n",
       "    </tr>\n",
       "    <tr>\n",
       "      <th>4782</th>\n",
       "      <td>RE46088</td>\n",
       "      <td>2016</td>\n",
       "      <td>8221601-2</td>\n",
       "      <td>Emmanuel Chua</td>\n",
       "      <td>Abas</td>\n",
       "      <td>Quezon</td>\n",
       "      <td>NaN</td>\n",
       "      <td>PH</td>\n",
       "    </tr>\n",
       "    <tr>\n",
       "      <th>4783</th>\n",
       "      <td>RE46088</td>\n",
       "      <td>2016</td>\n",
       "      <td>8221601-4</td>\n",
       "      <td>Jake Randal</td>\n",
       "      <td>Ermita</td>\n",
       "      <td>Quezon</td>\n",
       "      <td>NaN</td>\n",
       "      <td>PH</td>\n",
       "    </tr>\n",
       "    <tr>\n",
       "      <th>4784</th>\n",
       "      <td>RE46088</td>\n",
       "      <td>2016</td>\n",
       "      <td>8221601-5</td>\n",
       "      <td>Jose Francisco</td>\n",
       "      <td>Capulong</td>\n",
       "      <td>Quezon</td>\n",
       "      <td>NaN</td>\n",
       "      <td>PH</td>\n",
       "    </tr>\n",
       "    <tr>\n",
       "      <th>4785</th>\n",
       "      <td>RE46088</td>\n",
       "      <td>2016</td>\n",
       "      <td>8221601-6</td>\n",
       "      <td>Arnold Villamor</td>\n",
       "      <td>Castillo</td>\n",
       "      <td>Quezon</td>\n",
       "      <td>NaN</td>\n",
       "      <td>PH</td>\n",
       "    </tr>\n",
       "    <tr>\n",
       "      <th>4786</th>\n",
       "      <td>RE46088</td>\n",
       "      <td>2016</td>\n",
       "      <td>8221601-3</td>\n",
       "      <td>Edmundo Anida</td>\n",
       "      <td>Divino</td>\n",
       "      <td>Cavite</td>\n",
       "      <td>NaN</td>\n",
       "      <td>PH</td>\n",
       "    </tr>\n",
       "    <tr>\n",
       "      <th>4787</th>\n",
       "      <td>RE46088</td>\n",
       "      <td>2016</td>\n",
       "      <td>8221601-5</td>\n",
       "      <td>Jose Francisco</td>\n",
       "      <td>Capulong</td>\n",
       "      <td>Lucena</td>\n",
       "      <td>NaN</td>\n",
       "      <td>PH</td>\n",
       "    </tr>\n",
       "    <tr>\n",
       "      <th>4792</th>\n",
       "      <td>RE46129</td>\n",
       "      <td>2016</td>\n",
       "      <td>5247155-2</td>\n",
       "      <td>Lin</td>\n",
       "      <td>Li</td>\n",
       "      <td>Taoyuan Hsien</td>\n",
       "      <td>NaN</td>\n",
       "      <td>TW</td>\n",
       "    </tr>\n",
       "    <tr>\n",
       "      <th>4794</th>\n",
       "      <td>RE46129</td>\n",
       "      <td>2016</td>\n",
       "      <td>5247155-2</td>\n",
       "      <td>Lin</td>\n",
       "      <td>Li</td>\n",
       "      <td>Kobe</td>\n",
       "      <td>NaN</td>\n",
       "      <td>JP</td>\n",
       "    </tr>\n",
       "    <tr>\n",
       "      <th>4795</th>\n",
       "      <td>RE46129</td>\n",
       "      <td>2016</td>\n",
       "      <td>5247155-2</td>\n",
       "      <td>Lin</td>\n",
       "      <td>Li</td>\n",
       "      <td>Lachine</td>\n",
       "      <td>NaN</td>\n",
       "      <td>CA</td>\n",
       "    </tr>\n",
       "    <tr>\n",
       "      <th>4796</th>\n",
       "      <td>RE46129</td>\n",
       "      <td>2016</td>\n",
       "      <td>5247155-2</td>\n",
       "      <td>Lin</td>\n",
       "      <td>Li</td>\n",
       "      <td>Kowloon</td>\n",
       "      <td>NaN</td>\n",
       "      <td>CN</td>\n",
       "    </tr>\n",
       "    <tr>\n",
       "      <th>4799</th>\n",
       "      <td>RE46129</td>\n",
       "      <td>2016</td>\n",
       "      <td>5498696-4</td>\n",
       "      <td>Xiaodong</td>\n",
       "      <td>Wang</td>\n",
       "      <td>Shanxi</td>\n",
       "      <td>NaN</td>\n",
       "      <td>CN</td>\n",
       "    </tr>\n",
       "    <tr>\n",
       "      <th>4803</th>\n",
       "      <td>RE46129</td>\n",
       "      <td>2016</td>\n",
       "      <td>5498696-4</td>\n",
       "      <td>Xiaodong</td>\n",
       "      <td>Wang</td>\n",
       "      <td>Ilmenau</td>\n",
       "      <td>NaN</td>\n",
       "      <td>DE</td>\n",
       "    </tr>\n",
       "    <tr>\n",
       "      <th>4804</th>\n",
       "      <td>RE46129</td>\n",
       "      <td>2016</td>\n",
       "      <td>5498696-4</td>\n",
       "      <td>Xiaodong</td>\n",
       "      <td>Wang</td>\n",
       "      <td>Zhuji</td>\n",
       "      <td>NaN</td>\n",
       "      <td>CN</td>\n",
       "    </tr>\n",
       "    <tr>\n",
       "      <th>4811</th>\n",
       "      <td>RE46423</td>\n",
       "      <td>2017</td>\n",
       "      <td>5264365-1</td>\n",
       "      <td>George M.</td>\n",
       "      <td>Georgiou</td>\n",
       "      <td>Fawkner</td>\n",
       "      <td>NaN</td>\n",
       "      <td>AU</td>\n",
       "    </tr>\n",
       "    <tr>\n",
       "      <th>4822</th>\n",
       "      <td>RE46817</td>\n",
       "      <td>2018</td>\n",
       "      <td>7135040-1</td>\n",
       "      <td>Shu</td>\n",
       "      <td>Wang</td>\n",
       "      <td>Saint Egreve</td>\n",
       "      <td>NaN</td>\n",
       "      <td>FR</td>\n",
       "    </tr>\n",
       "  </tbody>\n",
       "</table>\n",
       "<p>847 rows × 8 columns</p>\n",
       "</div>"
      ],
      "text/plain": [
       "     patent_id  year inventor_id       name_first       name_last  \\\n",
       "0      9980635  2018   9980635-1     Maria Eliana   Manquez Hatta   \n",
       "1      9980635  2018   9980635-2         Humberto  Lobos Sucarrat   \n",
       "2      9999665  2018   8398993-2         Pablo A.  Gonzalez Munoz   \n",
       "100    9980645  2018   4306291-3     Dominique M.          Durand   \n",
       "101    9981915  2018   5156079-2              Wei              Li   \n",
       "102    9983412  2018   D419566-1      David Scott            Dunn   \n",
       "103    9984283  2018   7873169-1               Ke            Zeng   \n",
       "104    9989702  2018   7826509-2      Benjamin G.             Lee   \n",
       "105    9993465  2018   5326659-1             Yong             Liu   \n",
       "106    9997705  2018   5546889-4             Yang            Yang   \n",
       "107    9999704  2018   5081281-4             Jing           Zhang   \n",
       "108    PP27141  2016   4395616-1         David C.           Smith   \n",
       "109    PP28200  2017   4395616-1         David C.           Smith   \n",
       "110    PP28216  2017   4395616-1         David C.           Smith   \n",
       "111    RE46817  2018   7135040-1              Shu            Wang   \n",
       "112    RE47157  2018   7421171-8         Rafif E.           Hamam   \n",
       "127    9980645  2018   4306291-3     Dominique M.          Durand   \n",
       "134    9980660  2018   5593835-2             Yong            Wang   \n",
       "135    9986724  2018   4346055-1        Andrew J.          Murphy   \n",
       "136    9987331  2018   7309693-4         Yasuhiro           Ikeda   \n",
       "137    9991360  2018   4108044-1          Richard           Brown   \n",
       "138    9994555  2018   6306837-2             Chao            Wang   \n",
       "139    RE46953  2018   6306837-2             Chao            Wang   \n",
       "140    RE46412  2017   7920271-2  Adrien Emmanuel      Desjardins   \n",
       "229    9980660  2018   5593835-2             Yong            Wang   \n",
       "230    9981338  2018   5418611-2              Jun              Ni   \n",
       "231    9981915  2018   5156079-2              Wei              Li   \n",
       "232    9981961  2018   5979076-1            Zheng              Li   \n",
       "233    9982356  2018   5180707-1           Wei Z.             Gao   \n",
       "234    9983285  2018   7583082-1             Peng              Hu   \n",
       "...        ...   ...         ...              ...             ...   \n",
       "4542   9999704  2018   5081281-4             Jing           Zhang   \n",
       "4543   9999704  2018   5081281-4             Jing           Zhang   \n",
       "4544   RE46129  2016   5247155-2              Lin              Li   \n",
       "4545   9999704  2018   5081281-4             Jing           Zhang   \n",
       "4546   9999704  2018   5081281-4             Jing           Zhang   \n",
       "4549   PP25271  2015   8889951-1    Michael David         Materne   \n",
       "4550   PP25272  2015   8889951-1    Michael David         Materne   \n",
       "4551   PP25273  2015   8889951-1    Michael David         Materne   \n",
       "4657   PP27141  2016   4395616-1         David C.           Smith   \n",
       "4658   PP28200  2017   4395616-1         David C.           Smith   \n",
       "4659   PP28216  2017   4395616-1         David C.           Smith   \n",
       "4757   RE45512  2015   6831781-5   Milen Stefanov        Shishkov   \n",
       "4779   RE46088  2016   5948958-2          Chen-An            Chen   \n",
       "4780   RE46088  2016   8221601-2    Emmanuel Chua            Abas   \n",
       "4781   RE46088  2016   8221601-2    Emmanuel Chua            Abas   \n",
       "4782   RE46088  2016   8221601-2    Emmanuel Chua            Abas   \n",
       "4783   RE46088  2016   8221601-4      Jake Randal          Ermita   \n",
       "4784   RE46088  2016   8221601-5   Jose Francisco        Capulong   \n",
       "4785   RE46088  2016   8221601-6  Arnold Villamor        Castillo   \n",
       "4786   RE46088  2016   8221601-3    Edmundo Anida          Divino   \n",
       "4787   RE46088  2016   8221601-5   Jose Francisco        Capulong   \n",
       "4792   RE46129  2016   5247155-2              Lin              Li   \n",
       "4794   RE46129  2016   5247155-2              Lin              Li   \n",
       "4795   RE46129  2016   5247155-2              Lin              Li   \n",
       "4796   RE46129  2016   5247155-2              Lin              Li   \n",
       "4799   RE46129  2016   5498696-4         Xiaodong            Wang   \n",
       "4803   RE46129  2016   5498696-4         Xiaodong            Wang   \n",
       "4804   RE46129  2016   5498696-4         Xiaodong            Wang   \n",
       "4811   RE46423  2017   5264365-1        George M.        Georgiou   \n",
       "4822   RE46817  2018   7135040-1              Shu            Wang   \n",
       "\n",
       "         inventor_city inventor_state inventor_country  \n",
       "0             Santiago            NaN               CL  \n",
       "1             Santiago            NaN               CL  \n",
       "2             Santiago            NaN               CL  \n",
       "100            Toronto            NaN               CA  \n",
       "101            Toronto            NaN               CA  \n",
       "102            Toronto            NaN               CA  \n",
       "103            Toronto            NaN               CA  \n",
       "104            Toronto            NaN               CA  \n",
       "105            Toronto            NaN               CA  \n",
       "106            Toronto            NaN               CA  \n",
       "107            Toronto            NaN               CA  \n",
       "108            Toronto            NaN               CA  \n",
       "109            Toronto            NaN               CA  \n",
       "110            Toronto            NaN               CA  \n",
       "111            Toronto            NaN               CA  \n",
       "112            Toronto            NaN               CA  \n",
       "127             Annecy            NaN               FR  \n",
       "134             London            NaN               GB  \n",
       "135             London            NaN               GB  \n",
       "136             London            NaN               GB  \n",
       "137             London            NaN               GB  \n",
       "138             London            NaN               GB  \n",
       "139             London            NaN               GB  \n",
       "140             London            NaN               GB  \n",
       "229           Shenzhen            NaN               CN  \n",
       "230           Shenzhen            NaN               CN  \n",
       "231           Shenzhen            NaN               CN  \n",
       "232           Shenzhen            NaN               CN  \n",
       "233           Shenzhen            NaN               CN  \n",
       "234           Shenzhen            NaN               CN  \n",
       "...                ...            ...              ...  \n",
       "4542           Rehovot            NaN               IL  \n",
       "4543           Sichuan            NaN               CN  \n",
       "4544           Sichuan            NaN               CN  \n",
       "4545          Guandong            NaN               CN  \n",
       "4546           Haidian            NaN               CN  \n",
       "4549           Horsham            NaN               EN  \n",
       "4550           Horsham            NaN               EN  \n",
       "4551           Horsham            NaN               EN  \n",
       "4657           Reading            NaN               GB  \n",
       "4658           Reading            NaN               GB  \n",
       "4659           Reading            NaN               GB  \n",
       "4757      Newline Ruse            NaN               BG  \n",
       "4779         Kaohsiung            NaN               TW  \n",
       "4780         Sta. Rosa            NaN               PH  \n",
       "4781  Sta. Rosa Laguna            NaN               PH  \n",
       "4782            Quezon            NaN               PH  \n",
       "4783            Quezon            NaN               PH  \n",
       "4784            Quezon            NaN               PH  \n",
       "4785            Quezon            NaN               PH  \n",
       "4786            Cavite            NaN               PH  \n",
       "4787            Lucena            NaN               PH  \n",
       "4792     Taoyuan Hsien            NaN               TW  \n",
       "4794              Kobe            NaN               JP  \n",
       "4795           Lachine            NaN               CA  \n",
       "4796           Kowloon            NaN               CN  \n",
       "4799            Shanxi            NaN               CN  \n",
       "4803           Ilmenau            NaN               DE  \n",
       "4804             Zhuji            NaN               CN  \n",
       "4811           Fawkner            NaN               AU  \n",
       "4822      Saint Egreve            NaN               FR  \n",
       "\n",
       "[847 rows x 8 columns]"
      ]
     },
     "execution_count": 9,
     "metadata": {},
     "output_type": "execute_result"
    }
   ],
   "source": [
    "# Show rows which are null in `inventor_state` column\n",
    "inventors[inventors['inventor_state'].isnull()]"
   ]
  },
  {
   "cell_type": "markdown",
   "metadata": {},
   "source": [
    "It looks like our records are not filtered by only US."
   ]
  },
  {
   "cell_type": "code",
   "execution_count": 10,
   "metadata": {
    "ExecuteTime": {
     "end_time": "2020-01-24T14:08:03.566284Z",
     "start_time": "2020-01-24T14:08:03.559637Z"
    }
   },
   "outputs": [
    {
     "data": {
      "text/plain": [
       "array(['CL', 'US', 'CA', 'FR', 'GB', 'CN', 'JP', 'KR', 'SG', 'DE', 'NL',\n",
       "       'IN', 'CH', 'AU', 'TW', 'HK', 'FI', 'BE', 'SE', 'SW', 'EN', 'NM',\n",
       "       'VN', 'BR', 'IE', 'SA', 'ES', 'IT', 'CZ', 'IL', 'RU', 'MX', 'AT',\n",
       "       'DK', 'MO', 'UY', 'BG', 'PH'], dtype=object)"
      ]
     },
     "execution_count": 10,
     "metadata": {},
     "output_type": "execute_result"
    }
   ],
   "source": [
    "# Check unique values in the `inventor_country` column\n",
    "inventors['inventor_country'].unique()"
   ]
  },
  {
   "cell_type": "markdown",
   "metadata": {},
   "source": [
    "Let's filter by only those records which are in the US."
   ]
  },
  {
   "cell_type": "code",
   "execution_count": 11,
   "metadata": {
    "ExecuteTime": {
     "end_time": "2020-01-24T14:08:04.387732Z",
     "start_time": "2020-01-24T14:08:04.381138Z"
    }
   },
   "outputs": [],
   "source": [
    "# Filter by those rows where country is US\n",
    "inventors = inventors[inventors['inventor_country'] == 'US']"
   ]
  },
  {
   "cell_type": "code",
   "execution_count": 12,
   "metadata": {
    "ExecuteTime": {
     "end_time": "2020-01-24T14:08:05.062497Z",
     "start_time": "2020-01-24T14:08:05.055875Z"
    }
   },
   "outputs": [
    {
     "data": {
      "text/plain": [
       "array(['US'], dtype=object)"
      ]
     },
     "execution_count": 12,
     "metadata": {},
     "output_type": "execute_result"
    }
   ],
   "source": [
    "# Check that now we only have US as an inventor country\n",
    "inventors['inventor_country'].unique()"
   ]
  },
  {
   "cell_type": "code",
   "execution_count": 13,
   "metadata": {
    "ExecuteTime": {
     "end_time": "2020-01-24T14:08:05.547354Z",
     "start_time": "2020-01-24T14:08:05.537630Z"
    }
   },
   "outputs": [
    {
     "data": {
      "text/plain": [
       "593"
      ]
     },
     "execution_count": 13,
     "metadata": {},
     "output_type": "execute_result"
    }
   ],
   "source": [
    "inventors['patent_id'].nunique()"
   ]
  },
  {
   "cell_type": "markdown",
   "metadata": {},
   "source": [
    "We will be linking on name and location. What do you observe in the data?"
   ]
  },
  {
   "cell_type": "code",
   "execution_count": 14,
   "metadata": {
    "ExecuteTime": {
     "end_time": "2020-01-24T14:08:06.014919Z",
     "start_time": "2020-01-24T14:08:05.999689Z"
    }
   },
   "outputs": [
    {
     "data": {
      "text/html": [
       "<div>\n",
       "<style scoped>\n",
       "    .dataframe tbody tr th:only-of-type {\n",
       "        vertical-align: middle;\n",
       "    }\n",
       "\n",
       "    .dataframe tbody tr th {\n",
       "        vertical-align: top;\n",
       "    }\n",
       "\n",
       "    .dataframe thead th {\n",
       "        text-align: right;\n",
       "    }\n",
       "</style>\n",
       "<table border=\"1\" class=\"dataframe\">\n",
       "  <thead>\n",
       "    <tr style=\"text-align: right;\">\n",
       "      <th></th>\n",
       "      <th>patent_id</th>\n",
       "      <th>year</th>\n",
       "      <th>inventor_id</th>\n",
       "      <th>name_first</th>\n",
       "      <th>name_last</th>\n",
       "      <th>inventor_city</th>\n",
       "      <th>inventor_state</th>\n",
       "      <th>inventor_country</th>\n",
       "    </tr>\n",
       "  </thead>\n",
       "  <tbody>\n",
       "    <tr>\n",
       "      <th>4831</th>\n",
       "      <td>RE47009</td>\n",
       "      <td>2018</td>\n",
       "      <td>6534277-1</td>\n",
       "      <td>Wayne W.</td>\n",
       "      <td>Hancock</td>\n",
       "      <td>Medfield</td>\n",
       "      <td>MA</td>\n",
       "      <td>US</td>\n",
       "    </tr>\n",
       "    <tr>\n",
       "      <th>4832</th>\n",
       "      <td>RE47026</td>\n",
       "      <td>2018</td>\n",
       "      <td>5805332-1</td>\n",
       "      <td>Anand</td>\n",
       "      <td>Gopinath</td>\n",
       "      <td>Wayzata</td>\n",
       "      <td>MN</td>\n",
       "      <td>US</td>\n",
       "    </tr>\n",
       "    <tr>\n",
       "      <th>4833</th>\n",
       "      <td>RE47026</td>\n",
       "      <td>2018</td>\n",
       "      <td>5805332-1</td>\n",
       "      <td>Anand</td>\n",
       "      <td>Gopinath</td>\n",
       "      <td>Orono</td>\n",
       "      <td>MN</td>\n",
       "      <td>US</td>\n",
       "    </tr>\n",
       "    <tr>\n",
       "      <th>4834</th>\n",
       "      <td>RE47026</td>\n",
       "      <td>2018</td>\n",
       "      <td>6650116-3</td>\n",
       "      <td>Lance</td>\n",
       "      <td>DelaBarre</td>\n",
       "      <td>St. Anthony</td>\n",
       "      <td>MN</td>\n",
       "      <td>US</td>\n",
       "    </tr>\n",
       "    <tr>\n",
       "      <th>4835</th>\n",
       "      <td>RE47026</td>\n",
       "      <td>2018</td>\n",
       "      <td>6969992-4</td>\n",
       "      <td>John</td>\n",
       "      <td>Strupp</td>\n",
       "      <td>Marine on St. Croix</td>\n",
       "      <td>MN</td>\n",
       "      <td>US</td>\n",
       "    </tr>\n",
       "    <tr>\n",
       "      <th>4836</th>\n",
       "      <td>RE47026</td>\n",
       "      <td>2018</td>\n",
       "      <td>6969992-4</td>\n",
       "      <td>John</td>\n",
       "      <td>Strupp</td>\n",
       "      <td>Coon Rapids</td>\n",
       "      <td>MN</td>\n",
       "      <td>US</td>\n",
       "    </tr>\n",
       "    <tr>\n",
       "      <th>4837</th>\n",
       "      <td>RE47026</td>\n",
       "      <td>2018</td>\n",
       "      <td>6969992-5</td>\n",
       "      <td>Peter M.</td>\n",
       "      <td>Andersen</td>\n",
       "      <td>Independence</td>\n",
       "      <td>MN</td>\n",
       "      <td>US</td>\n",
       "    </tr>\n",
       "    <tr>\n",
       "      <th>4838</th>\n",
       "      <td>RE47026</td>\n",
       "      <td>2018</td>\n",
       "      <td>7800368-5</td>\n",
       "      <td>Heather Diane</td>\n",
       "      <td>Orser</td>\n",
       "      <td>Farmington</td>\n",
       "      <td>MN</td>\n",
       "      <td>US</td>\n",
       "    </tr>\n",
       "    <tr>\n",
       "      <th>4839</th>\n",
       "      <td>RE47026</td>\n",
       "      <td>2018</td>\n",
       "      <td>RE47026-4</td>\n",
       "      <td>Chris E</td>\n",
       "      <td>Olson</td>\n",
       "      <td>Palatine</td>\n",
       "      <td>IL</td>\n",
       "      <td>US</td>\n",
       "    </tr>\n",
       "    <tr>\n",
       "      <th>4840</th>\n",
       "      <td>RE47267</td>\n",
       "      <td>2019</td>\n",
       "      <td>5494810-2</td>\n",
       "      <td>John A.</td>\n",
       "      <td>Zebala</td>\n",
       "      <td>Auburn</td>\n",
       "      <td>WA</td>\n",
       "      <td>US</td>\n",
       "    </tr>\n",
       "  </tbody>\n",
       "</table>\n",
       "</div>"
      ],
      "text/plain": [
       "     patent_id  year inventor_id     name_first  name_last  \\\n",
       "4831   RE47009  2018   6534277-1       Wayne W.    Hancock   \n",
       "4832   RE47026  2018   5805332-1          Anand   Gopinath   \n",
       "4833   RE47026  2018   5805332-1          Anand   Gopinath   \n",
       "4834   RE47026  2018   6650116-3          Lance  DelaBarre   \n",
       "4835   RE47026  2018   6969992-4           John     Strupp   \n",
       "4836   RE47026  2018   6969992-4           John     Strupp   \n",
       "4837   RE47026  2018   6969992-5       Peter M.   Andersen   \n",
       "4838   RE47026  2018   7800368-5  Heather Diane      Orser   \n",
       "4839   RE47026  2018   RE47026-4        Chris E      Olson   \n",
       "4840   RE47267  2019   5494810-2        John A.     Zebala   \n",
       "\n",
       "            inventor_city inventor_state inventor_country  \n",
       "4831             Medfield             MA               US  \n",
       "4832              Wayzata             MN               US  \n",
       "4833                Orono             MN               US  \n",
       "4834          St. Anthony             MN               US  \n",
       "4835  Marine on St. Croix             MN               US  \n",
       "4836          Coon Rapids             MN               US  \n",
       "4837         Independence             MN               US  \n",
       "4838           Farmington             MN               US  \n",
       "4839             Palatine             IL               US  \n",
       "4840               Auburn             WA               US  "
      ]
     },
     "execution_count": 14,
     "metadata": {},
     "output_type": "execute_result"
    }
   ],
   "source": [
    "# Check the tail of the table \n",
    "inventors.tail(10)"
   ]
  },
  {
   "cell_type": "markdown",
   "metadata": {},
   "source": [
    "- First name includes first and middle names (potentially parse out)\n",
    "- First and last names are capitalized\n",
    "- The same person (with the same inventor id) can have different associated locations "
   ]
  },
  {
   "cell_type": "markdown",
   "metadata": {
    "ExecuteTime": {
     "end_time": "2020-01-22T01:29:47.602379Z",
     "start_time": "2020-01-22T01:29:47.588431Z"
    }
   },
   "source": [
    "Check most frequent counts of variables."
   ]
  },
  {
   "cell_type": "code",
   "execution_count": 15,
   "metadata": {
    "ExecuteTime": {
     "end_time": "2020-01-24T14:08:06.490324Z",
     "start_time": "2020-01-24T14:08:06.479501Z"
    }
   },
   "outputs": [
    {
     "data": {
      "text/plain": [
       "Cambridge        80\n",
       "Los Angeles      60\n",
       "San Diego        57\n",
       "New York         48\n",
       "Albuquerque      45\n",
       "San Jose         44\n",
       "Palo Alto        43\n",
       "Baltimore        38\n",
       "Pasadena         36\n",
       "Mountain View    35\n",
       "Name: inventor_city, dtype: int64"
      ]
     },
     "execution_count": 15,
     "metadata": {},
     "output_type": "execute_result"
    }
   ],
   "source": [
    "inventors['inventor_city'].value_counts().head(10)"
   ]
  },
  {
   "cell_type": "code",
   "execution_count": 16,
   "metadata": {
    "ExecuteTime": {
     "end_time": "2020-01-24T14:08:06.968601Z",
     "start_time": "2020-01-24T14:08:06.954889Z"
    }
   },
   "outputs": [
    {
     "data": {
      "text/plain": [
       "CA    917\n",
       "MA    400\n",
       "NY    258\n",
       "MD    176\n",
       "FL    164\n",
       "IL    163\n",
       "PA    154\n",
       "TX    142\n",
       "NJ    129\n",
       "CT    122\n",
       "Name: inventor_state, dtype: int64"
      ]
     },
     "execution_count": 16,
     "metadata": {},
     "output_type": "execute_result"
    }
   ],
   "source": [
    "inventors['inventor_state'].value_counts().head(10)"
   ]
  },
  {
   "cell_type": "markdown",
   "metadata": {
    "ExecuteTime": {
     "end_time": "2020-01-21T23:20:15.266678Z",
     "start_time": "2020-01-21T23:20:15.256670Z"
    }
   },
   "source": [
    "#### FedRePORTER: principal investigator names on grants"
   ]
  },
  {
   "cell_type": "code",
   "execution_count": 17,
   "metadata": {
    "ExecuteTime": {
     "end_time": "2020-01-24T14:08:07.904305Z",
     "start_time": "2020-01-24T14:08:07.637415Z"
    }
   },
   "outputs": [],
   "source": [
    "# Read-in the dataset into a dataframe\n",
    "pi = pd.read_csv('../Data/fedreporter_pi_names_grants.csv')"
   ]
  },
  {
   "cell_type": "code",
   "execution_count": 18,
   "metadata": {
    "ExecuteTime": {
     "end_time": "2020-01-24T14:08:08.394233Z",
     "start_time": "2020-01-24T14:08:08.382270Z"
    }
   },
   "outputs": [
    {
     "data": {
      "text/html": [
       "<div>\n",
       "<style scoped>\n",
       "    .dataframe tbody tr th:only-of-type {\n",
       "        vertical-align: middle;\n",
       "    }\n",
       "\n",
       "    .dataframe tbody tr th {\n",
       "        vertical-align: top;\n",
       "    }\n",
       "\n",
       "    .dataframe thead th {\n",
       "        text-align: right;\n",
       "    }\n",
       "</style>\n",
       "<table border=\"1\" class=\"dataframe\">\n",
       "  <thead>\n",
       "    <tr style=\"text-align: right;\">\n",
       "      <th></th>\n",
       "      <th>PROJECT_ID</th>\n",
       "      <th>CONTACT_PI_PROJECT_LEADER</th>\n",
       "      <th>OTHER_PIS</th>\n",
       "      <th>ORGANIZATION_CITY</th>\n",
       "      <th>ORGANIZATION_STATE</th>\n",
       "      <th>ORGANIZATION_COUNTRY</th>\n",
       "    </tr>\n",
       "  </thead>\n",
       "  <tbody>\n",
       "    <tr>\n",
       "      <th>0</th>\n",
       "      <td>121219</td>\n",
       "      <td>POIRER, DAVID</td>\n",
       "      <td>NaN</td>\n",
       "      <td>TUCSON</td>\n",
       "      <td>AZ</td>\n",
       "      <td>UNITED STATES</td>\n",
       "    </tr>\n",
       "    <tr>\n",
       "      <th>1</th>\n",
       "      <td>121220</td>\n",
       "      <td>HEYWARD, ANN O</td>\n",
       "      <td>NaN</td>\n",
       "      <td>BROOK PARK</td>\n",
       "      <td>OH</td>\n",
       "      <td>UNITED STATES</td>\n",
       "    </tr>\n",
       "    <tr>\n",
       "      <th>2</th>\n",
       "      <td>121221</td>\n",
       "      <td>KALOGERA, VASSILIKI</td>\n",
       "      <td>LUIJTEN, ERIK</td>\n",
       "      <td>EVANSTON</td>\n",
       "      <td>IL</td>\n",
       "      <td>UNITED STATES</td>\n",
       "    </tr>\n",
       "    <tr>\n",
       "      <th>3</th>\n",
       "      <td>121222</td>\n",
       "      <td>GUILDERSON, THOMAS P</td>\n",
       "      <td>NaN</td>\n",
       "      <td>SANTA CRUZ</td>\n",
       "      <td>CA</td>\n",
       "      <td>UNITED STATES</td>\n",
       "    </tr>\n",
       "    <tr>\n",
       "      <th>4</th>\n",
       "      <td>121223</td>\n",
       "      <td>HAYES, GILLIAN</td>\n",
       "      <td>TENTORI, MONICA</td>\n",
       "      <td>IRVINE</td>\n",
       "      <td>CA</td>\n",
       "      <td>UNITED STATES</td>\n",
       "    </tr>\n",
       "  </tbody>\n",
       "</table>\n",
       "</div>"
      ],
      "text/plain": [
       "   PROJECT_ID  CONTACT_PI_PROJECT_LEADER        OTHER_PIS  ORGANIZATION_CITY  \\\n",
       "0      121219              POIRER, DAVID              NaN             TUCSON   \n",
       "1      121220             HEYWARD, ANN O              NaN         BROOK PARK   \n",
       "2      121221        KALOGERA, VASSILIKI    LUIJTEN, ERIK           EVANSTON   \n",
       "3      121222       GUILDERSON, THOMAS P              NaN         SANTA CRUZ   \n",
       "4      121223             HAYES, GILLIAN  TENTORI, MONICA             IRVINE   \n",
       "\n",
       "   ORGANIZATION_STATE  ORGANIZATION_COUNTRY  \n",
       "0                  AZ         UNITED STATES  \n",
       "1                  OH         UNITED STATES  \n",
       "2                  IL         UNITED STATES  \n",
       "3                  CA         UNITED STATES  \n",
       "4                  CA         UNITED STATES  "
      ]
     },
     "execution_count": 18,
     "metadata": {},
     "output_type": "execute_result"
    }
   ],
   "source": [
    "# Show first rows of the dataframe\n",
    "pi.head()"
   ]
  },
  {
   "cell_type": "code",
   "execution_count": 19,
   "metadata": {
    "ExecuteTime": {
     "end_time": "2020-01-24T14:08:09.061721Z",
     "start_time": "2020-01-24T14:08:09.029334Z"
    }
   },
   "outputs": [
    {
     "name": "stdout",
     "output_type": "stream",
     "text": [
      "<class 'pandas.core.frame.DataFrame'>\n",
      "RangeIndex: 111400 entries, 0 to 111399\n",
      "Data columns (total 6 columns):\n",
      "PROJECT_ID                    111400 non-null int64\n",
      " CONTACT_PI_PROJECT_LEADER    111398 non-null object\n",
      " OTHER_PIS                    10477 non-null object\n",
      " ORGANIZATION_CITY            110853 non-null object\n",
      " ORGANIZATION_STATE           109933 non-null object\n",
      " ORGANIZATION_COUNTRY         110861 non-null object\n",
      "dtypes: int64(1), object(5)\n",
      "memory usage: 5.1+ MB\n"
     ]
    }
   ],
   "source": [
    "pi.info()"
   ]
  },
  {
   "cell_type": "markdown",
   "metadata": {},
   "source": [
    "Let's check which countries are there in the dataset."
   ]
  },
  {
   "cell_type": "code",
   "execution_count": 20,
   "metadata": {
    "ExecuteTime": {
     "end_time": "2020-01-24T14:08:09.661481Z",
     "start_time": "2020-01-24T14:08:09.627045Z"
    }
   },
   "outputs": [
    {
     "data": {
      "text/plain": [
       "array(['UNITED STATES', 'BRAZIL', 'BERMUDA', 'SWITZERLAND', 'FRANCE',\n",
       "       'CANADA', 'UNITED KINGDOM', 'VENEZUELA', 'SOUTH AFRICA',\n",
       "       'NEW ZEALAND', 'DENMARK', nan, 'SWEDEN', 'INDIA', 'SPAIN',\n",
       "       'AUSTRALIA', 'PERU', 'HAITI', 'DOMINICAN REP', 'JAMAICA',\n",
       "       'NIGERIA', 'ITALY', 'IRELAND', 'BELGIUM', 'CHINA', 'THAILAND',\n",
       "       'JAPAN', 'ZAMBIA', 'ISRAEL', 'GERMANY', 'NETHERLANDS', 'UGANDA',\n",
       "       'PAKISTAN', 'KOREA REP OF', 'CHILE', 'TANZANIA U REP', 'ARGENTINA',\n",
       "       'HUNGARY', 'URUGUAY', 'RUSSIA', 'KENYA', 'MALAWI', 'LITHUANIA',\n",
       "       'FINLAND', 'MEXICO', 'COLOMBIA', 'CAMBODIA', 'PHILIPPINES',\n",
       "       'TURKEY', 'ZIMBABWE', 'BOTSWANA', 'CROATIA', 'COSTA RICA',\n",
       "       'TUNISIA', 'ICELAND', 'MOZAMBIQUE', 'GHANA', 'SINGAPORE',\n",
       "       'LEBANON', 'PARAGUAY', 'ETHIOPIA', 'UKRAINE', 'LESOTHO',\n",
       "       \"COTE D'IVOIRE\", 'DOMINICA', 'NAMIBIA', 'GUATEMALA', 'RWANDA',\n",
       "       'GEORGIA', 'VIETNAM', 'MOLDOVA', 'TRINIDAD/TOBA', 'CAMEROON',\n",
       "       'ANGOLA', 'INDONESIA', 'CONGO', 'CONGO DEM REP', 'SWAZILAND',\n",
       "       'BANGLADESH', 'MALI', 'FED MICRONESIA', 'BARBADOS', 'EGYPT',\n",
       "       'GUYANA', 'KAZAKHSTAN', 'MONGOLIA', 'BAHAMAS', 'KYRGYZSTAN',\n",
       "       'NEPAL', 'SRI LANKA', 'AFGHANISTAN', 'JORDAN', 'EL SALVADOR',\n",
       "       'ARMENIA', 'ST LUCIA', 'MADAGASCAR', 'NEW CALEDONIA', 'TAJIKISTAN',\n",
       "       'SENEGAL', 'MOROCCO', 'NORWAY'], dtype=object)"
      ]
     },
     "execution_count": 20,
     "metadata": {},
     "output_type": "execute_result"
    }
   ],
   "source": [
    "# Call .unique() function\n",
    "pi[' ORGANIZATION_COUNTRY'].unique()"
   ]
  },
  {
   "cell_type": "markdown",
   "metadata": {},
   "source": [
    "Let's filter by only US like we did with the PatentsView dataset."
   ]
  },
  {
   "cell_type": "code",
   "execution_count": 21,
   "metadata": {
    "ExecuteTime": {
     "end_time": "2020-01-24T14:08:10.269812Z",
     "start_time": "2020-01-24T14:08:10.238322Z"
    }
   },
   "outputs": [],
   "source": [
    "# Filter by only those rows with US as an organization_country\n",
    "pi = pi[pi[' ORGANIZATION_COUNTRY'] == 'UNITED STATES']"
   ]
  },
  {
   "cell_type": "code",
   "execution_count": 22,
   "metadata": {
    "ExecuteTime": {
     "end_time": "2020-01-24T14:08:10.874738Z",
     "start_time": "2020-01-24T14:08:10.863219Z"
    }
   },
   "outputs": [
    {
     "data": {
      "text/plain": [
       "array(['UNITED STATES'], dtype=object)"
      ]
     },
     "execution_count": 22,
     "metadata": {},
     "output_type": "execute_result"
    }
   ],
   "source": [
    "# Call .unique() function\n",
    "pi[' ORGANIZATION_COUNTRY'].unique()"
   ]
  },
  {
   "cell_type": "code",
   "execution_count": 23,
   "metadata": {
    "ExecuteTime": {
     "end_time": "2020-01-24T14:08:11.327863Z",
     "start_time": "2020-01-24T14:08:11.307054Z"
    }
   },
   "outputs": [
    {
     "data": {
      "text/plain": [
       "BOSTON          5802\n",
       "NEW YORK        4603\n",
       "BEHTESDA        3745\n",
       "PHILADELPHIA    3044\n",
       "BALTIMORE       2957\n",
       "SEATTLE         2917\n",
       "LOS ANGELES     2905\n",
       "LA JOLLA        2835\n",
       "CHICAGO         2523\n",
       "HOUSTON         2345\n",
       "Name:  ORGANIZATION_CITY, dtype: int64"
      ]
     },
     "execution_count": 23,
     "metadata": {},
     "output_type": "execute_result"
    }
   ],
   "source": [
    "pi[' ORGANIZATION_CITY'].value_counts().head(10)"
   ]
  },
  {
   "cell_type": "code",
   "execution_count": 24,
   "metadata": {
    "ExecuteTime": {
     "end_time": "2020-01-24T14:08:11.821421Z",
     "start_time": "2020-01-24T14:08:11.800966Z"
    }
   },
   "outputs": [
    {
     "data": {
      "text/plain": [
       "CA    15293\n",
       "NY     9186\n",
       "MA     8812\n",
       "MD     7932\n",
       "PA     6245\n",
       "TX     5653\n",
       "NC     4036\n",
       "IL     3796\n",
       "WA     3409\n",
       "OH     3034\n",
       "Name:  ORGANIZATION_STATE, dtype: int64"
      ]
     },
     "execution_count": 24,
     "metadata": {},
     "output_type": "execute_result"
    }
   ],
   "source": [
    "pi[' ORGANIZATION_STATE'].value_counts().head(10)"
   ]
  },
  {
   "cell_type": "markdown",
   "metadata": {},
   "source": [
    "**Compare inventor and grants table: what types of cleaning/standardization would we need to do?**"
   ]
  },
  {
   "cell_type": "code",
   "execution_count": 25,
   "metadata": {
    "ExecuteTime": {
     "end_time": "2020-01-24T14:08:12.271339Z",
     "start_time": "2020-01-24T14:08:12.257308Z"
    }
   },
   "outputs": [
    {
     "data": {
      "text/html": [
       "<div>\n",
       "<style scoped>\n",
       "    .dataframe tbody tr th:only-of-type {\n",
       "        vertical-align: middle;\n",
       "    }\n",
       "\n",
       "    .dataframe tbody tr th {\n",
       "        vertical-align: top;\n",
       "    }\n",
       "\n",
       "    .dataframe thead th {\n",
       "        text-align: right;\n",
       "    }\n",
       "</style>\n",
       "<table border=\"1\" class=\"dataframe\">\n",
       "  <thead>\n",
       "    <tr style=\"text-align: right;\">\n",
       "      <th></th>\n",
       "      <th>patent_id</th>\n",
       "      <th>year</th>\n",
       "      <th>inventor_id</th>\n",
       "      <th>name_first</th>\n",
       "      <th>name_last</th>\n",
       "      <th>inventor_city</th>\n",
       "      <th>inventor_state</th>\n",
       "      <th>inventor_country</th>\n",
       "    </tr>\n",
       "  </thead>\n",
       "  <tbody>\n",
       "    <tr>\n",
       "      <th>3</th>\n",
       "      <td>9980641</td>\n",
       "      <td>2018</td>\n",
       "      <td>5321501-6</td>\n",
       "      <td>Joel S.</td>\n",
       "      <td>Schuman</td>\n",
       "      <td>Pittsburgh</td>\n",
       "      <td>PA</td>\n",
       "      <td>US</td>\n",
       "    </tr>\n",
       "    <tr>\n",
       "      <th>4</th>\n",
       "      <td>9980641</td>\n",
       "      <td>2018</td>\n",
       "      <td>9980641-3</td>\n",
       "      <td>Lawrence Edward</td>\n",
       "      <td>Kagemann</td>\n",
       "      <td>Pittsburgh</td>\n",
       "      <td>PA</td>\n",
       "      <td>US</td>\n",
       "    </tr>\n",
       "    <tr>\n",
       "      <th>5</th>\n",
       "      <td>9980645</td>\n",
       "      <td>2018</td>\n",
       "      <td>9037248-2</td>\n",
       "      <td>Brian</td>\n",
       "      <td>Wodlinger</td>\n",
       "      <td>Pittsburgh</td>\n",
       "      <td>PA</td>\n",
       "      <td>US</td>\n",
       "    </tr>\n",
       "    <tr>\n",
       "      <th>6</th>\n",
       "      <td>9981048</td>\n",
       "      <td>2018</td>\n",
       "      <td>9981048-1</td>\n",
       "      <td>Ira Jacob</td>\n",
       "      <td>Fox</td>\n",
       "      <td>Pittsburgh</td>\n",
       "      <td>PA</td>\n",
       "      <td>US</td>\n",
       "    </tr>\n",
       "    <tr>\n",
       "      <th>7</th>\n",
       "      <td>9981048</td>\n",
       "      <td>2018</td>\n",
       "      <td>9981048-3</td>\n",
       "      <td>Taichiro N.</td>\n",
       "      <td>Nishikawa</td>\n",
       "      <td>Pittsburgh</td>\n",
       "      <td>PA</td>\n",
       "      <td>US</td>\n",
       "    </tr>\n",
       "  </tbody>\n",
       "</table>\n",
       "</div>"
      ],
      "text/plain": [
       "  patent_id  year inventor_id       name_first  name_last inventor_city  \\\n",
       "3   9980641  2018   5321501-6          Joel S.    Schuman    Pittsburgh   \n",
       "4   9980641  2018   9980641-3  Lawrence Edward   Kagemann    Pittsburgh   \n",
       "5   9980645  2018   9037248-2            Brian  Wodlinger    Pittsburgh   \n",
       "6   9981048  2018   9981048-1        Ira Jacob        Fox    Pittsburgh   \n",
       "7   9981048  2018   9981048-3      Taichiro N.  Nishikawa    Pittsburgh   \n",
       "\n",
       "  inventor_state inventor_country  \n",
       "3             PA               US  \n",
       "4             PA               US  \n",
       "5             PA               US  \n",
       "6             PA               US  \n",
       "7             PA               US  "
      ]
     },
     "execution_count": 25,
     "metadata": {},
     "output_type": "execute_result"
    }
   ],
   "source": [
    "inventors.head()"
   ]
  },
  {
   "cell_type": "code",
   "execution_count": 26,
   "metadata": {
    "ExecuteTime": {
     "end_time": "2020-01-24T14:08:12.713453Z",
     "start_time": "2020-01-24T14:08:12.701209Z"
    }
   },
   "outputs": [
    {
     "data": {
      "text/html": [
       "<div>\n",
       "<style scoped>\n",
       "    .dataframe tbody tr th:only-of-type {\n",
       "        vertical-align: middle;\n",
       "    }\n",
       "\n",
       "    .dataframe tbody tr th {\n",
       "        vertical-align: top;\n",
       "    }\n",
       "\n",
       "    .dataframe thead th {\n",
       "        text-align: right;\n",
       "    }\n",
       "</style>\n",
       "<table border=\"1\" class=\"dataframe\">\n",
       "  <thead>\n",
       "    <tr style=\"text-align: right;\">\n",
       "      <th></th>\n",
       "      <th>PROJECT_ID</th>\n",
       "      <th>CONTACT_PI_PROJECT_LEADER</th>\n",
       "      <th>OTHER_PIS</th>\n",
       "      <th>ORGANIZATION_CITY</th>\n",
       "      <th>ORGANIZATION_STATE</th>\n",
       "      <th>ORGANIZATION_COUNTRY</th>\n",
       "    </tr>\n",
       "  </thead>\n",
       "  <tbody>\n",
       "    <tr>\n",
       "      <th>0</th>\n",
       "      <td>121219</td>\n",
       "      <td>POIRER, DAVID</td>\n",
       "      <td>NaN</td>\n",
       "      <td>TUCSON</td>\n",
       "      <td>AZ</td>\n",
       "      <td>UNITED STATES</td>\n",
       "    </tr>\n",
       "    <tr>\n",
       "      <th>1</th>\n",
       "      <td>121220</td>\n",
       "      <td>HEYWARD, ANN O</td>\n",
       "      <td>NaN</td>\n",
       "      <td>BROOK PARK</td>\n",
       "      <td>OH</td>\n",
       "      <td>UNITED STATES</td>\n",
       "    </tr>\n",
       "    <tr>\n",
       "      <th>2</th>\n",
       "      <td>121221</td>\n",
       "      <td>KALOGERA, VASSILIKI</td>\n",
       "      <td>LUIJTEN, ERIK</td>\n",
       "      <td>EVANSTON</td>\n",
       "      <td>IL</td>\n",
       "      <td>UNITED STATES</td>\n",
       "    </tr>\n",
       "    <tr>\n",
       "      <th>3</th>\n",
       "      <td>121222</td>\n",
       "      <td>GUILDERSON, THOMAS P</td>\n",
       "      <td>NaN</td>\n",
       "      <td>SANTA CRUZ</td>\n",
       "      <td>CA</td>\n",
       "      <td>UNITED STATES</td>\n",
       "    </tr>\n",
       "    <tr>\n",
       "      <th>4</th>\n",
       "      <td>121223</td>\n",
       "      <td>HAYES, GILLIAN</td>\n",
       "      <td>TENTORI, MONICA</td>\n",
       "      <td>IRVINE</td>\n",
       "      <td>CA</td>\n",
       "      <td>UNITED STATES</td>\n",
       "    </tr>\n",
       "  </tbody>\n",
       "</table>\n",
       "</div>"
      ],
      "text/plain": [
       "   PROJECT_ID  CONTACT_PI_PROJECT_LEADER        OTHER_PIS  ORGANIZATION_CITY  \\\n",
       "0      121219              POIRER, DAVID              NaN             TUCSON   \n",
       "1      121220             HEYWARD, ANN O              NaN         BROOK PARK   \n",
       "2      121221        KALOGERA, VASSILIKI    LUIJTEN, ERIK           EVANSTON   \n",
       "3      121222       GUILDERSON, THOMAS P              NaN         SANTA CRUZ   \n",
       "4      121223             HAYES, GILLIAN  TENTORI, MONICA             IRVINE   \n",
       "\n",
       "   ORGANIZATION_STATE  ORGANIZATION_COUNTRY  \n",
       "0                  AZ         UNITED STATES  \n",
       "1                  OH         UNITED STATES  \n",
       "2                  IL         UNITED STATES  \n",
       "3                  CA         UNITED STATES  \n",
       "4                  CA         UNITED STATES  "
      ]
     },
     "execution_count": 26,
     "metadata": {},
     "output_type": "execute_result"
    }
   ],
   "source": [
    "pi.head()"
   ]
  },
  {
   "cell_type": "markdown",
   "metadata": {},
   "source": [
    "<span style=\"color:red\">**Checkpoint 1: Explore organization-level data from PatentsView and FedRePORTER**</span>"
   ]
  },
  {
   "cell_type": "markdown",
   "metadata": {},
   "source": [
    "Now try exploring organization-level data for both PatentsView and FedRePORTER using functions for data exploration used in the examples above."
   ]
  },
  {
   "cell_type": "code",
   "execution_count": 27,
   "metadata": {
    "ExecuteTime": {
     "end_time": "2020-01-24T14:08:13.196090Z",
     "start_time": "2020-01-24T14:08:13.179161Z"
    }
   },
   "outputs": [],
   "source": [
    "assignees = pd.read_csv('../Data/patentsview_assignee_org_names.csv')"
   ]
  },
  {
   "cell_type": "code",
   "execution_count": 28,
   "metadata": {
    "ExecuteTime": {
     "end_time": "2020-01-24T14:08:13.817847Z",
     "start_time": "2020-01-24T14:08:13.699152Z"
    }
   },
   "outputs": [],
   "source": [
    "organizations = pd.read_csv('../Data/fedreporter_org_names_grants.csv')"
   ]
  },
  {
   "cell_type": "code",
   "execution_count": 31,
   "metadata": {
    "ExecuteTime": {
     "end_time": "2020-01-24T14:07:23.132815Z",
     "start_time": "2020-01-24T14:07:23.125745Z"
    }
   },
   "outputs": [
    {
     "data": {
      "text/html": [
       "<div>\n",
       "<style scoped>\n",
       "    .dataframe tbody tr th:only-of-type {\n",
       "        vertical-align: middle;\n",
       "    }\n",
       "\n",
       "    .dataframe tbody tr th {\n",
       "        vertical-align: top;\n",
       "    }\n",
       "\n",
       "    .dataframe thead th {\n",
       "        text-align: right;\n",
       "    }\n",
       "</style>\n",
       "<table border=\"1\" class=\"dataframe\">\n",
       "  <thead>\n",
       "    <tr style=\"text-align: right;\">\n",
       "      <th></th>\n",
       "      <th>patent_id</th>\n",
       "      <th>organization</th>\n",
       "      <th>org_city</th>\n",
       "      <th>org_state</th>\n",
       "      <th>org_country</th>\n",
       "    </tr>\n",
       "  </thead>\n",
       "  <tbody>\n",
       "    <tr>\n",
       "      <th>0</th>\n",
       "      <td>9992413</td>\n",
       "      <td>Raytheon Company</td>\n",
       "      <td>Lexington</td>\n",
       "      <td>MA</td>\n",
       "      <td>US</td>\n",
       "    </tr>\n",
       "    <tr>\n",
       "      <th>1</th>\n",
       "      <td>RE45718</td>\n",
       "      <td>Boston Scientific Corporation</td>\n",
       "      <td>Lexington</td>\n",
       "      <td>MA</td>\n",
       "      <td>US</td>\n",
       "    </tr>\n",
       "    <tr>\n",
       "      <th>2</th>\n",
       "      <td>9992413</td>\n",
       "      <td>Raytheon Company</td>\n",
       "      <td>Waltham</td>\n",
       "      <td>MA</td>\n",
       "      <td>US</td>\n",
       "    </tr>\n",
       "    <tr>\n",
       "      <th>3</th>\n",
       "      <td>9988932</td>\n",
       "      <td>Honeywell International Inc.</td>\n",
       "      <td>Waltham</td>\n",
       "      <td>MA</td>\n",
       "      <td>US</td>\n",
       "    </tr>\n",
       "    <tr>\n",
       "      <th>4</th>\n",
       "      <td>9991578</td>\n",
       "      <td>Honeywell International Inc.</td>\n",
       "      <td>Waltham</td>\n",
       "      <td>MA</td>\n",
       "      <td>US</td>\n",
       "    </tr>\n",
       "  </tbody>\n",
       "</table>\n",
       "</div>"
      ],
      "text/plain": [
       "  patent_id                   organization   org_city org_state org_country\n",
       "0   9992413               Raytheon Company  Lexington        MA          US\n",
       "1   RE45718  Boston Scientific Corporation  Lexington        MA          US\n",
       "2   9992413               Raytheon Company    Waltham        MA          US\n",
       "3   9988932   Honeywell International Inc.    Waltham        MA          US\n",
       "4   9991578   Honeywell International Inc.    Waltham        MA          US"
      ]
     },
     "execution_count": 31,
     "metadata": {},
     "output_type": "execute_result"
    }
   ],
   "source": [
    "#Check assignee data from patentview\n",
    "assignees.head()"
   ]
  },
  {
   "cell_type": "code",
   "execution_count": 33,
   "metadata": {},
   "outputs": [
    {
     "name": "stdout",
     "output_type": "stream",
     "text": [
      "<class 'pandas.core.frame.DataFrame'>\n",
      "RangeIndex: 4371 entries, 0 to 4370\n",
      "Data columns (total 5 columns):\n",
      "patent_id       4371 non-null object\n",
      "organization    4371 non-null object\n",
      "org_city        4224 non-null object\n",
      "org_state       3869 non-null object\n",
      "org_country     4371 non-null object\n",
      "dtypes: object(5)\n",
      "memory usage: 170.8+ KB\n"
     ]
    }
   ],
   "source": [
    "assignees.info()"
   ]
  },
  {
   "cell_type": "code",
   "execution_count": 34,
   "metadata": {},
   "outputs": [
    {
     "data": {
      "text/plain": [
       "array(['US', 'JP', 'IL', 'KR', 'CA', 'TW', 'FI', 'NL', 'DE', 'DT', 'SC',\n",
       "       'AU', 'GB', 'MX', 'CH', 'FR', 'AN', 'CZ', 'DK', 'SE', 'EN', 'un',\n",
       "       'PR', 'CN', 'BM', 'BB', 'KN', 'CL'], dtype=object)"
      ]
     },
     "execution_count": 34,
     "metadata": {},
     "output_type": "execute_result"
    }
   ],
   "source": [
    "assignees['org_country'].unique()"
   ]
  },
  {
   "cell_type": "code",
   "execution_count": 36,
   "metadata": {},
   "outputs": [
    {
     "data": {
      "text/plain": [
       "array(['US'], dtype=object)"
      ]
     },
     "execution_count": 36,
     "metadata": {},
     "output_type": "execute_result"
    }
   ],
   "source": [
    "# Filter by only those rows with US as an organization_country\n",
    "assignees = assignees[assignees['org_country'] == 'US']\n",
    "assignees['org_country'].unique()"
   ]
  },
  {
   "cell_type": "code",
   "execution_count": 37,
   "metadata": {},
   "outputs": [
    {
     "data": {
      "text/html": [
       "<div>\n",
       "<style scoped>\n",
       "    .dataframe tbody tr th:only-of-type {\n",
       "        vertical-align: middle;\n",
       "    }\n",
       "\n",
       "    .dataframe tbody tr th {\n",
       "        vertical-align: top;\n",
       "    }\n",
       "\n",
       "    .dataframe thead th {\n",
       "        text-align: right;\n",
       "    }\n",
       "</style>\n",
       "<table border=\"1\" class=\"dataframe\">\n",
       "  <thead>\n",
       "    <tr style=\"text-align: right;\">\n",
       "      <th></th>\n",
       "      <th>PROJECT_ID</th>\n",
       "      <th>ORGANIZATION_NAME</th>\n",
       "      <th>ORGANIZATION_CITY</th>\n",
       "      <th>ORGANIZATION_STATE</th>\n",
       "      <th>ORGANIZATION_COUNTRY</th>\n",
       "    </tr>\n",
       "  </thead>\n",
       "  <tbody>\n",
       "    <tr>\n",
       "      <th>0</th>\n",
       "      <td>121219</td>\n",
       "      <td>UNIVERSITY OF ARIZONA</td>\n",
       "      <td>TUCSON</td>\n",
       "      <td>AZ</td>\n",
       "      <td>UNITED STATES</td>\n",
       "    </tr>\n",
       "    <tr>\n",
       "      <th>1</th>\n",
       "      <td>121220</td>\n",
       "      <td>OHIO AEROSPACE INSTITUTE</td>\n",
       "      <td>BROOK PARK</td>\n",
       "      <td>OH</td>\n",
       "      <td>UNITED STATES</td>\n",
       "    </tr>\n",
       "    <tr>\n",
       "      <th>2</th>\n",
       "      <td>121221</td>\n",
       "      <td>NORTHWESTERN UNIVERSITY</td>\n",
       "      <td>EVANSTON</td>\n",
       "      <td>IL</td>\n",
       "      <td>UNITED STATES</td>\n",
       "    </tr>\n",
       "    <tr>\n",
       "      <th>3</th>\n",
       "      <td>121222</td>\n",
       "      <td>UNIVERSITY OF CALIFORNIA SANTA CRUZ</td>\n",
       "      <td>SANTA CRUZ</td>\n",
       "      <td>CA</td>\n",
       "      <td>UNITED STATES</td>\n",
       "    </tr>\n",
       "    <tr>\n",
       "      <th>4</th>\n",
       "      <td>121223</td>\n",
       "      <td>UNIVERSITY OF CALIFORNIA IRVINE</td>\n",
       "      <td>IRVINE</td>\n",
       "      <td>CA</td>\n",
       "      <td>UNITED STATES</td>\n",
       "    </tr>\n",
       "  </tbody>\n",
       "</table>\n",
       "</div>"
      ],
      "text/plain": [
       "   PROJECT_ID                    ORGANIZATION_NAME  ORGANIZATION_CITY  \\\n",
       "0      121219                UNIVERSITY OF ARIZONA             TUCSON   \n",
       "1      121220             OHIO AEROSPACE INSTITUTE         BROOK PARK   \n",
       "2      121221              NORTHWESTERN UNIVERSITY           EVANSTON   \n",
       "3      121222  UNIVERSITY OF CALIFORNIA SANTA CRUZ         SANTA CRUZ   \n",
       "4      121223      UNIVERSITY OF CALIFORNIA IRVINE             IRVINE   \n",
       "\n",
       "   ORGANIZATION_STATE  ORGANIZATION_COUNTRY  \n",
       "0                  AZ         UNITED STATES  \n",
       "1                  OH         UNITED STATES  \n",
       "2                  IL         UNITED STATES  \n",
       "3                  CA         UNITED STATES  \n",
       "4                  CA         UNITED STATES  "
      ]
     },
     "execution_count": 37,
     "metadata": {},
     "output_type": "execute_result"
    }
   ],
   "source": [
    "#Check organization data from FedReporters\n",
    "organizations.head()"
   ]
  },
  {
   "cell_type": "code",
   "execution_count": 38,
   "metadata": {},
   "outputs": [
    {
     "name": "stdout",
     "output_type": "stream",
     "text": [
      "<class 'pandas.core.frame.DataFrame'>\n",
      "RangeIndex: 111400 entries, 0 to 111399\n",
      "Data columns (total 5 columns):\n",
      "PROJECT_ID               111400 non-null int64\n",
      " ORGANIZATION_NAME       111203 non-null object\n",
      " ORGANIZATION_CITY       110853 non-null object\n",
      " ORGANIZATION_STATE      109933 non-null object\n",
      " ORGANIZATION_COUNTRY    110861 non-null object\n",
      "dtypes: int64(1), object(4)\n",
      "memory usage: 4.2+ MB\n"
     ]
    }
   ],
   "source": [
    "organizations.info()"
   ]
  },
  {
   "cell_type": "code",
   "execution_count": 41,
   "metadata": {},
   "outputs": [
    {
     "data": {
      "text/plain": [
       "array(['UNITED STATES', 'BRAZIL', 'BERMUDA', 'SWITZERLAND', 'FRANCE',\n",
       "       'CANADA', 'UNITED KINGDOM', 'VENEZUELA', 'SOUTH AFRICA',\n",
       "       'NEW ZEALAND', 'DENMARK', nan, 'SWEDEN', 'INDIA', 'SPAIN',\n",
       "       'AUSTRALIA', 'PERU', 'HAITI', 'DOMINICAN REP', 'JAMAICA',\n",
       "       'NIGERIA', 'ITALY', 'IRELAND', 'BELGIUM', 'CHINA', 'THAILAND',\n",
       "       'JAPAN', 'ZAMBIA', 'ISRAEL', 'GERMANY', 'NETHERLANDS', 'UGANDA',\n",
       "       'PAKISTAN', 'KOREA REP OF', 'CHILE', 'TANZANIA U REP', 'ARGENTINA',\n",
       "       'HUNGARY', 'URUGUAY', 'RUSSIA', 'KENYA', 'MALAWI', 'LITHUANIA',\n",
       "       'FINLAND', 'MEXICO', 'COLOMBIA', 'CAMBODIA', 'PHILIPPINES',\n",
       "       'TURKEY', 'ZIMBABWE', 'BOTSWANA', 'CROATIA', 'COSTA RICA',\n",
       "       'TUNISIA', 'ICELAND', 'MOZAMBIQUE', 'GHANA', 'SINGAPORE',\n",
       "       'LEBANON', 'PARAGUAY', 'ETHIOPIA', 'UKRAINE', 'LESOTHO',\n",
       "       \"COTE D'IVOIRE\", 'DOMINICA', 'NAMIBIA', 'GUATEMALA', 'RWANDA',\n",
       "       'GEORGIA', 'VIETNAM', 'MOLDOVA', 'TRINIDAD/TOBA', 'CAMEROON',\n",
       "       'ANGOLA', 'INDONESIA', 'CONGO', 'CONGO DEM REP', 'SWAZILAND',\n",
       "       'BANGLADESH', 'MALI', 'FED MICRONESIA', 'BARBADOS', 'EGYPT',\n",
       "       'GUYANA', 'KAZAKHSTAN', 'MONGOLIA', 'BAHAMAS', 'KYRGYZSTAN',\n",
       "       'NEPAL', 'SRI LANKA', 'AFGHANISTAN', 'JORDAN', 'EL SALVADOR',\n",
       "       'ARMENIA', 'ST LUCIA', 'MADAGASCAR', 'NEW CALEDONIA', 'TAJIKISTAN',\n",
       "       'SENEGAL', 'MOROCCO', 'NORWAY'], dtype=object)"
      ]
     },
     "execution_count": 41,
     "metadata": {},
     "output_type": "execute_result"
    }
   ],
   "source": [
    "organizations[' ORGANIZATION_COUNTRY'].unique()"
   ]
  },
  {
   "cell_type": "code",
   "execution_count": 43,
   "metadata": {},
   "outputs": [
    {
     "data": {
      "text/plain": [
       "array(['UNITED STATES'], dtype=object)"
      ]
     },
     "execution_count": 43,
     "metadata": {},
     "output_type": "execute_result"
    }
   ],
   "source": [
    "organizations = organizations[organizations[' ORGANIZATION_COUNTRY'] == 'UNITED STATES']\n",
    "organizations[' ORGANIZATION_COUNTRY'].unique()"
   ]
  },
  {
   "cell_type": "code",
   "execution_count": 45,
   "metadata": {},
   "outputs": [
    {
     "data": {
      "text/html": [
       "<div>\n",
       "<style scoped>\n",
       "    .dataframe tbody tr th:only-of-type {\n",
       "        vertical-align: middle;\n",
       "    }\n",
       "\n",
       "    .dataframe tbody tr th {\n",
       "        vertical-align: top;\n",
       "    }\n",
       "\n",
       "    .dataframe thead th {\n",
       "        text-align: right;\n",
       "    }\n",
       "</style>\n",
       "<table border=\"1\" class=\"dataframe\">\n",
       "  <thead>\n",
       "    <tr style=\"text-align: right;\">\n",
       "      <th></th>\n",
       "      <th>patent_id</th>\n",
       "      <th>organization</th>\n",
       "      <th>org_city</th>\n",
       "      <th>org_state</th>\n",
       "      <th>org_country</th>\n",
       "    </tr>\n",
       "  </thead>\n",
       "  <tbody>\n",
       "    <tr>\n",
       "      <th>0</th>\n",
       "      <td>9992413</td>\n",
       "      <td>Raytheon Company</td>\n",
       "      <td>Lexington</td>\n",
       "      <td>MA</td>\n",
       "      <td>US</td>\n",
       "    </tr>\n",
       "    <tr>\n",
       "      <th>1</th>\n",
       "      <td>RE45718</td>\n",
       "      <td>Boston Scientific Corporation</td>\n",
       "      <td>Lexington</td>\n",
       "      <td>MA</td>\n",
       "      <td>US</td>\n",
       "    </tr>\n",
       "    <tr>\n",
       "      <th>2</th>\n",
       "      <td>9992413</td>\n",
       "      <td>Raytheon Company</td>\n",
       "      <td>Waltham</td>\n",
       "      <td>MA</td>\n",
       "      <td>US</td>\n",
       "    </tr>\n",
       "    <tr>\n",
       "      <th>3</th>\n",
       "      <td>9988932</td>\n",
       "      <td>Honeywell International Inc.</td>\n",
       "      <td>Waltham</td>\n",
       "      <td>MA</td>\n",
       "      <td>US</td>\n",
       "    </tr>\n",
       "    <tr>\n",
       "      <th>4</th>\n",
       "      <td>9991578</td>\n",
       "      <td>Honeywell International Inc.</td>\n",
       "      <td>Waltham</td>\n",
       "      <td>MA</td>\n",
       "      <td>US</td>\n",
       "    </tr>\n",
       "  </tbody>\n",
       "</table>\n",
       "</div>"
      ],
      "text/plain": [
       "  patent_id                   organization   org_city org_state org_country\n",
       "0   9992413               Raytheon Company  Lexington        MA          US\n",
       "1   RE45718  Boston Scientific Corporation  Lexington        MA          US\n",
       "2   9992413               Raytheon Company    Waltham        MA          US\n",
       "3   9988932   Honeywell International Inc.    Waltham        MA          US\n",
       "4   9991578   Honeywell International Inc.    Waltham        MA          US"
      ]
     },
     "execution_count": 45,
     "metadata": {},
     "output_type": "execute_result"
    }
   ],
   "source": [
    "assignees.head()\n"
   ]
  },
  {
   "cell_type": "code",
   "execution_count": 46,
   "metadata": {},
   "outputs": [
    {
     "data": {
      "text/html": [
       "<div>\n",
       "<style scoped>\n",
       "    .dataframe tbody tr th:only-of-type {\n",
       "        vertical-align: middle;\n",
       "    }\n",
       "\n",
       "    .dataframe tbody tr th {\n",
       "        vertical-align: top;\n",
       "    }\n",
       "\n",
       "    .dataframe thead th {\n",
       "        text-align: right;\n",
       "    }\n",
       "</style>\n",
       "<table border=\"1\" class=\"dataframe\">\n",
       "  <thead>\n",
       "    <tr style=\"text-align: right;\">\n",
       "      <th></th>\n",
       "      <th>PROJECT_ID</th>\n",
       "      <th>ORGANIZATION_NAME</th>\n",
       "      <th>ORGANIZATION_CITY</th>\n",
       "      <th>ORGANIZATION_STATE</th>\n",
       "      <th>ORGANIZATION_COUNTRY</th>\n",
       "    </tr>\n",
       "  </thead>\n",
       "  <tbody>\n",
       "    <tr>\n",
       "      <th>0</th>\n",
       "      <td>121219</td>\n",
       "      <td>UNIVERSITY OF ARIZONA</td>\n",
       "      <td>TUCSON</td>\n",
       "      <td>AZ</td>\n",
       "      <td>UNITED STATES</td>\n",
       "    </tr>\n",
       "    <tr>\n",
       "      <th>1</th>\n",
       "      <td>121220</td>\n",
       "      <td>OHIO AEROSPACE INSTITUTE</td>\n",
       "      <td>BROOK PARK</td>\n",
       "      <td>OH</td>\n",
       "      <td>UNITED STATES</td>\n",
       "    </tr>\n",
       "    <tr>\n",
       "      <th>2</th>\n",
       "      <td>121221</td>\n",
       "      <td>NORTHWESTERN UNIVERSITY</td>\n",
       "      <td>EVANSTON</td>\n",
       "      <td>IL</td>\n",
       "      <td>UNITED STATES</td>\n",
       "    </tr>\n",
       "    <tr>\n",
       "      <th>3</th>\n",
       "      <td>121222</td>\n",
       "      <td>UNIVERSITY OF CALIFORNIA SANTA CRUZ</td>\n",
       "      <td>SANTA CRUZ</td>\n",
       "      <td>CA</td>\n",
       "      <td>UNITED STATES</td>\n",
       "    </tr>\n",
       "    <tr>\n",
       "      <th>4</th>\n",
       "      <td>121223</td>\n",
       "      <td>UNIVERSITY OF CALIFORNIA IRVINE</td>\n",
       "      <td>IRVINE</td>\n",
       "      <td>CA</td>\n",
       "      <td>UNITED STATES</td>\n",
       "    </tr>\n",
       "  </tbody>\n",
       "</table>\n",
       "</div>"
      ],
      "text/plain": [
       "   PROJECT_ID                    ORGANIZATION_NAME  ORGANIZATION_CITY  \\\n",
       "0      121219                UNIVERSITY OF ARIZONA             TUCSON   \n",
       "1      121220             OHIO AEROSPACE INSTITUTE         BROOK PARK   \n",
       "2      121221              NORTHWESTERN UNIVERSITY           EVANSTON   \n",
       "3      121222  UNIVERSITY OF CALIFORNIA SANTA CRUZ         SANTA CRUZ   \n",
       "4      121223      UNIVERSITY OF CALIFORNIA IRVINE             IRVINE   \n",
       "\n",
       "   ORGANIZATION_STATE  ORGANIZATION_COUNTRY  \n",
       "0                  AZ         UNITED STATES  \n",
       "1                  OH         UNITED STATES  \n",
       "2                  IL         UNITED STATES  \n",
       "3                  CA         UNITED STATES  \n",
       "4                  CA         UNITED STATES  "
      ]
     },
     "execution_count": 46,
     "metadata": {},
     "output_type": "execute_result"
    }
   ],
   "source": [
    "organizations.head()"
   ]
  },
  {
   "cell_type": "code",
   "execution_count": 49,
   "metadata": {},
   "outputs": [
    {
     "data": {
      "text/plain": [
       "582"
      ]
     },
     "execution_count": 49,
     "metadata": {},
     "output_type": "execute_result"
    }
   ],
   "source": [
    "assignees['patent_id'].nunique()"
   ]
  },
  {
   "cell_type": "code",
   "execution_count": 51,
   "metadata": {},
   "outputs": [
    {
     "data": {
      "text/plain": [
       "109746"
      ]
     },
     "execution_count": 51,
     "metadata": {},
     "output_type": "execute_result"
    }
   ],
   "source": [
    "organizations['PROJECT_ID'].nunique()"
   ]
  },
  {
   "cell_type": "markdown",
   "metadata": {},
   "source": [
    "# Data Cleaning"
   ]
  },
  {
   "cell_type": "markdown",
   "metadata": {},
   "source": [
    "## The Importance of Pre-Processing\n",
    "Data pre-processing is an important step in a data anlysis project in general, in record linkage applications in particular. The goal of pre-processing is to transform messy data into a dataset that can be used in a project workflow.\n",
    "\n",
    "Linking records from different data sources comes with different challenges that need to be addressed by the analyst. The analyst must determine whether or not two entities (individuals, businesses, geographical units) on two different files are the same. This determination is not always easy. In most of the cases there is no common uniquely identifing characteristic for a entity. For example, is Bob Miller from New Yor the same person as Bob Miller from Chicago in a given dataset? This detemination has to be executed carefully because consequences of wrong linkages may be substantial (is person X the same person as the person X on the list of identified terrorists). Pre-processing can help to make better informed decisions.\n",
    "\n",
    "Pre-processing can be difficult because there are a lot of things to keep in mind. For example, data input errors, such as typos, misspellings, truncation, abbreviations, and missing values need to be corrected. Literature shows that preprocessing can improve matches. \n",
    "\n",
    "“In situations of reasonably high-quality data, preprocessing can yield a greater improvement in matching efficiency than string comparators and ‘optimized’ parameters. In some situations, 90% of the improvement in matching efficiency may be due to preprocessing” (Winkler 2009).\n",
    "\n",
    "The most common reason why matching projects fail is lack of time and resources for data cleaning. \n",
    "\n",
    "In the following section we will walk you through some pre-processing steps, these include but are not limited to removing spaces, parsing fields, and standardizing strings."
   ]
  },
  {
   "cell_type": "markdown",
   "metadata": {},
   "source": [
    "### Individual-level links"
   ]
  },
  {
   "cell_type": "markdown",
   "metadata": {},
   "source": [
    "#### Clean Inventor Data\n",
    "We will start by cleaning and preprocessing the inventor data. We need to remove whitespaces, make sure that everything is in lower case, we need to parse the first name and the last name, and harmonize all the other information we need for the linkage."
   ]
  },
  {
   "cell_type": "markdown",
   "metadata": {},
   "source": [
    "The `recordlinkage` package comes with a built-in cleaning function we can use. The `clean()` function removes any characters such as `-`, `.`, `/`, `:`, brackets of all types, and also lowercases by default."
   ]
  },
  {
   "cell_type": "code",
   "execution_count": 52,
   "metadata": {
    "ExecuteTime": {
     "end_time": "2020-01-24T14:08:16.389020Z",
     "start_time": "2020-01-24T14:08:16.366263Z"
    }
   },
   "outputs": [
    {
     "data": {
      "text/html": [
       "<div>\n",
       "<style scoped>\n",
       "    .dataframe tbody tr th:only-of-type {\n",
       "        vertical-align: middle;\n",
       "    }\n",
       "\n",
       "    .dataframe tbody tr th {\n",
       "        vertical-align: top;\n",
       "    }\n",
       "\n",
       "    .dataframe thead th {\n",
       "        text-align: right;\n",
       "    }\n",
       "</style>\n",
       "<table border=\"1\" class=\"dataframe\">\n",
       "  <thead>\n",
       "    <tr style=\"text-align: right;\">\n",
       "      <th></th>\n",
       "      <th>patent_id</th>\n",
       "      <th>year</th>\n",
       "      <th>inventor_id</th>\n",
       "      <th>name_first</th>\n",
       "      <th>name_last</th>\n",
       "      <th>inventor_city</th>\n",
       "      <th>inventor_state</th>\n",
       "      <th>inventor_country</th>\n",
       "    </tr>\n",
       "  </thead>\n",
       "  <tbody>\n",
       "    <tr>\n",
       "      <th>3</th>\n",
       "      <td>9980641</td>\n",
       "      <td>2018</td>\n",
       "      <td>5321501-6</td>\n",
       "      <td>Joel S.</td>\n",
       "      <td>Schuman</td>\n",
       "      <td>Pittsburgh</td>\n",
       "      <td>PA</td>\n",
       "      <td>US</td>\n",
       "    </tr>\n",
       "    <tr>\n",
       "      <th>4</th>\n",
       "      <td>9980641</td>\n",
       "      <td>2018</td>\n",
       "      <td>9980641-3</td>\n",
       "      <td>Lawrence Edward</td>\n",
       "      <td>Kagemann</td>\n",
       "      <td>Pittsburgh</td>\n",
       "      <td>PA</td>\n",
       "      <td>US</td>\n",
       "    </tr>\n",
       "    <tr>\n",
       "      <th>5</th>\n",
       "      <td>9980645</td>\n",
       "      <td>2018</td>\n",
       "      <td>9037248-2</td>\n",
       "      <td>Brian</td>\n",
       "      <td>Wodlinger</td>\n",
       "      <td>Pittsburgh</td>\n",
       "      <td>PA</td>\n",
       "      <td>US</td>\n",
       "    </tr>\n",
       "    <tr>\n",
       "      <th>6</th>\n",
       "      <td>9981048</td>\n",
       "      <td>2018</td>\n",
       "      <td>9981048-1</td>\n",
       "      <td>Ira Jacob</td>\n",
       "      <td>Fox</td>\n",
       "      <td>Pittsburgh</td>\n",
       "      <td>PA</td>\n",
       "      <td>US</td>\n",
       "    </tr>\n",
       "    <tr>\n",
       "      <th>7</th>\n",
       "      <td>9981048</td>\n",
       "      <td>2018</td>\n",
       "      <td>9981048-3</td>\n",
       "      <td>Taichiro N.</td>\n",
       "      <td>Nishikawa</td>\n",
       "      <td>Pittsburgh</td>\n",
       "      <td>PA</td>\n",
       "      <td>US</td>\n",
       "    </tr>\n",
       "  </tbody>\n",
       "</table>\n",
       "</div>"
      ],
      "text/plain": [
       "  patent_id  year inventor_id       name_first  name_last inventor_city  \\\n",
       "3   9980641  2018   5321501-6          Joel S.    Schuman    Pittsburgh   \n",
       "4   9980641  2018   9980641-3  Lawrence Edward   Kagemann    Pittsburgh   \n",
       "5   9980645  2018   9037248-2            Brian  Wodlinger    Pittsburgh   \n",
       "6   9981048  2018   9981048-1        Ira Jacob        Fox    Pittsburgh   \n",
       "7   9981048  2018   9981048-3      Taichiro N.  Nishikawa    Pittsburgh   \n",
       "\n",
       "  inventor_state inventor_country  \n",
       "3             PA               US  \n",
       "4             PA               US  \n",
       "5             PA               US  \n",
       "6             PA               US  \n",
       "7             PA               US  "
      ]
     },
     "execution_count": 52,
     "metadata": {},
     "output_type": "execute_result"
    }
   ],
   "source": [
    "# Let's take a look at names before\n",
    "inventors.head()"
   ]
  },
  {
   "cell_type": "code",
   "execution_count": 53,
   "metadata": {
    "ExecuteTime": {
     "end_time": "2020-01-24T14:08:17.060889Z",
     "start_time": "2020-01-24T14:08:16.989537Z"
    }
   },
   "outputs": [],
   "source": [
    "# Cleaning names (using the record linkage package tool)\n",
    "inventors['name_last'] = clean(inventors['name_last'])\n",
    "inventors['name_first'] = clean(inventors['name_first'])"
   ]
  },
  {
   "cell_type": "code",
   "execution_count": 54,
   "metadata": {
    "ExecuteTime": {
     "end_time": "2020-01-24T14:08:17.599770Z",
     "start_time": "2020-01-24T14:08:17.583093Z"
    }
   },
   "outputs": [
    {
     "data": {
      "text/html": [
       "<div>\n",
       "<style scoped>\n",
       "    .dataframe tbody tr th:only-of-type {\n",
       "        vertical-align: middle;\n",
       "    }\n",
       "\n",
       "    .dataframe tbody tr th {\n",
       "        vertical-align: top;\n",
       "    }\n",
       "\n",
       "    .dataframe thead th {\n",
       "        text-align: right;\n",
       "    }\n",
       "</style>\n",
       "<table border=\"1\" class=\"dataframe\">\n",
       "  <thead>\n",
       "    <tr style=\"text-align: right;\">\n",
       "      <th></th>\n",
       "      <th>patent_id</th>\n",
       "      <th>year</th>\n",
       "      <th>inventor_id</th>\n",
       "      <th>name_first</th>\n",
       "      <th>name_last</th>\n",
       "      <th>inventor_city</th>\n",
       "      <th>inventor_state</th>\n",
       "      <th>inventor_country</th>\n",
       "    </tr>\n",
       "  </thead>\n",
       "  <tbody>\n",
       "    <tr>\n",
       "      <th>3</th>\n",
       "      <td>9980641</td>\n",
       "      <td>2018</td>\n",
       "      <td>5321501-6</td>\n",
       "      <td>joel s</td>\n",
       "      <td>schuman</td>\n",
       "      <td>Pittsburgh</td>\n",
       "      <td>PA</td>\n",
       "      <td>US</td>\n",
       "    </tr>\n",
       "    <tr>\n",
       "      <th>4</th>\n",
       "      <td>9980641</td>\n",
       "      <td>2018</td>\n",
       "      <td>9980641-3</td>\n",
       "      <td>lawrence edward</td>\n",
       "      <td>kagemann</td>\n",
       "      <td>Pittsburgh</td>\n",
       "      <td>PA</td>\n",
       "      <td>US</td>\n",
       "    </tr>\n",
       "    <tr>\n",
       "      <th>5</th>\n",
       "      <td>9980645</td>\n",
       "      <td>2018</td>\n",
       "      <td>9037248-2</td>\n",
       "      <td>brian</td>\n",
       "      <td>wodlinger</td>\n",
       "      <td>Pittsburgh</td>\n",
       "      <td>PA</td>\n",
       "      <td>US</td>\n",
       "    </tr>\n",
       "    <tr>\n",
       "      <th>6</th>\n",
       "      <td>9981048</td>\n",
       "      <td>2018</td>\n",
       "      <td>9981048-1</td>\n",
       "      <td>ira jacob</td>\n",
       "      <td>fox</td>\n",
       "      <td>Pittsburgh</td>\n",
       "      <td>PA</td>\n",
       "      <td>US</td>\n",
       "    </tr>\n",
       "    <tr>\n",
       "      <th>7</th>\n",
       "      <td>9981048</td>\n",
       "      <td>2018</td>\n",
       "      <td>9981048-3</td>\n",
       "      <td>taichiro n</td>\n",
       "      <td>nishikawa</td>\n",
       "      <td>Pittsburgh</td>\n",
       "      <td>PA</td>\n",
       "      <td>US</td>\n",
       "    </tr>\n",
       "  </tbody>\n",
       "</table>\n",
       "</div>"
      ],
      "text/plain": [
       "  patent_id  year inventor_id       name_first  name_last inventor_city  \\\n",
       "3   9980641  2018   5321501-6           joel s    schuman    Pittsburgh   \n",
       "4   9980641  2018   9980641-3  lawrence edward   kagemann    Pittsburgh   \n",
       "5   9980645  2018   9037248-2            brian  wodlinger    Pittsburgh   \n",
       "6   9981048  2018   9981048-1        ira jacob        fox    Pittsburgh   \n",
       "7   9981048  2018   9981048-3       taichiro n  nishikawa    Pittsburgh   \n",
       "\n",
       "  inventor_state inventor_country  \n",
       "3             PA               US  \n",
       "4             PA               US  \n",
       "5             PA               US  \n",
       "6             PA               US  \n",
       "7             PA               US  "
      ]
     },
     "execution_count": 54,
     "metadata": {},
     "output_type": "execute_result"
    }
   ],
   "source": [
    "# Let's take a look at names after the cleaning\n",
    "inventors.head()"
   ]
  },
  {
   "cell_type": "markdown",
   "metadata": {},
   "source": [
    "We can parse and extract middle names."
   ]
  },
  {
   "cell_type": "code",
   "execution_count": 55,
   "metadata": {
    "ExecuteTime": {
     "end_time": "2020-01-24T14:08:18.237018Z",
     "start_time": "2020-01-24T14:08:18.162962Z"
    }
   },
   "outputs": [],
   "source": [
    "# Split by white space and extract first element for the first name,\n",
    "# second element for the middle name\n",
    "inventors['name_middle'] = inventors.name_first.str.split(' ').str.get(1)\n",
    "inventors['name_first'] = inventors.name_first.str.split(' ').str.get(0)"
   ]
  },
  {
   "cell_type": "code",
   "execution_count": 56,
   "metadata": {
    "ExecuteTime": {
     "end_time": "2020-01-24T14:08:18.775346Z",
     "start_time": "2020-01-24T14:08:18.761753Z"
    }
   },
   "outputs": [
    {
     "data": {
      "text/html": [
       "<div>\n",
       "<style scoped>\n",
       "    .dataframe tbody tr th:only-of-type {\n",
       "        vertical-align: middle;\n",
       "    }\n",
       "\n",
       "    .dataframe tbody tr th {\n",
       "        vertical-align: top;\n",
       "    }\n",
       "\n",
       "    .dataframe thead th {\n",
       "        text-align: right;\n",
       "    }\n",
       "</style>\n",
       "<table border=\"1\" class=\"dataframe\">\n",
       "  <thead>\n",
       "    <tr style=\"text-align: right;\">\n",
       "      <th></th>\n",
       "      <th>patent_id</th>\n",
       "      <th>year</th>\n",
       "      <th>inventor_id</th>\n",
       "      <th>name_first</th>\n",
       "      <th>name_last</th>\n",
       "      <th>inventor_city</th>\n",
       "      <th>inventor_state</th>\n",
       "      <th>inventor_country</th>\n",
       "      <th>name_middle</th>\n",
       "    </tr>\n",
       "  </thead>\n",
       "  <tbody>\n",
       "    <tr>\n",
       "      <th>3</th>\n",
       "      <td>9980641</td>\n",
       "      <td>2018</td>\n",
       "      <td>5321501-6</td>\n",
       "      <td>joel</td>\n",
       "      <td>schuman</td>\n",
       "      <td>Pittsburgh</td>\n",
       "      <td>PA</td>\n",
       "      <td>US</td>\n",
       "      <td>s</td>\n",
       "    </tr>\n",
       "    <tr>\n",
       "      <th>4</th>\n",
       "      <td>9980641</td>\n",
       "      <td>2018</td>\n",
       "      <td>9980641-3</td>\n",
       "      <td>lawrence</td>\n",
       "      <td>kagemann</td>\n",
       "      <td>Pittsburgh</td>\n",
       "      <td>PA</td>\n",
       "      <td>US</td>\n",
       "      <td>edward</td>\n",
       "    </tr>\n",
       "    <tr>\n",
       "      <th>5</th>\n",
       "      <td>9980645</td>\n",
       "      <td>2018</td>\n",
       "      <td>9037248-2</td>\n",
       "      <td>brian</td>\n",
       "      <td>wodlinger</td>\n",
       "      <td>Pittsburgh</td>\n",
       "      <td>PA</td>\n",
       "      <td>US</td>\n",
       "      <td>NaN</td>\n",
       "    </tr>\n",
       "    <tr>\n",
       "      <th>6</th>\n",
       "      <td>9981048</td>\n",
       "      <td>2018</td>\n",
       "      <td>9981048-1</td>\n",
       "      <td>ira</td>\n",
       "      <td>fox</td>\n",
       "      <td>Pittsburgh</td>\n",
       "      <td>PA</td>\n",
       "      <td>US</td>\n",
       "      <td>jacob</td>\n",
       "    </tr>\n",
       "    <tr>\n",
       "      <th>7</th>\n",
       "      <td>9981048</td>\n",
       "      <td>2018</td>\n",
       "      <td>9981048-3</td>\n",
       "      <td>taichiro</td>\n",
       "      <td>nishikawa</td>\n",
       "      <td>Pittsburgh</td>\n",
       "      <td>PA</td>\n",
       "      <td>US</td>\n",
       "      <td>n</td>\n",
       "    </tr>\n",
       "  </tbody>\n",
       "</table>\n",
       "</div>"
      ],
      "text/plain": [
       "  patent_id  year inventor_id name_first  name_last inventor_city  \\\n",
       "3   9980641  2018   5321501-6       joel    schuman    Pittsburgh   \n",
       "4   9980641  2018   9980641-3   lawrence   kagemann    Pittsburgh   \n",
       "5   9980645  2018   9037248-2      brian  wodlinger    Pittsburgh   \n",
       "6   9981048  2018   9981048-1        ira        fox    Pittsburgh   \n",
       "7   9981048  2018   9981048-3   taichiro  nishikawa    Pittsburgh   \n",
       "\n",
       "  inventor_state inventor_country name_middle  \n",
       "3             PA               US           s  \n",
       "4             PA               US      edward  \n",
       "5             PA               US         NaN  \n",
       "6             PA               US       jacob  \n",
       "7             PA               US           n  "
      ]
     },
     "execution_count": 56,
     "metadata": {},
     "output_type": "execute_result"
    }
   ],
   "source": [
    "inventors.head()"
   ]
  },
  {
   "cell_type": "markdown",
   "metadata": {},
   "source": [
    "Now we are done with the inital data prep work for the inventor file. Please keep in mind that we just provided some examples for you to demonstrate the process. You can add as many further steps to it as necessary. "
   ]
  },
  {
   "cell_type": "markdown",
   "metadata": {},
   "source": [
    "#### Clean Grant Data\n",
    "Now we will clean and preprocess the grants data. We need a dataset that has the first, middle and last name of the researcher, the city, state, and country information. "
   ]
  },
  {
   "cell_type": "code",
   "execution_count": 57,
   "metadata": {
    "ExecuteTime": {
     "end_time": "2020-01-24T14:08:19.373928Z",
     "start_time": "2020-01-24T14:08:19.357084Z"
    }
   },
   "outputs": [
    {
     "data": {
      "text/html": [
       "<div>\n",
       "<style scoped>\n",
       "    .dataframe tbody tr th:only-of-type {\n",
       "        vertical-align: middle;\n",
       "    }\n",
       "\n",
       "    .dataframe tbody tr th {\n",
       "        vertical-align: top;\n",
       "    }\n",
       "\n",
       "    .dataframe thead th {\n",
       "        text-align: right;\n",
       "    }\n",
       "</style>\n",
       "<table border=\"1\" class=\"dataframe\">\n",
       "  <thead>\n",
       "    <tr style=\"text-align: right;\">\n",
       "      <th></th>\n",
       "      <th>PROJECT_ID</th>\n",
       "      <th>CONTACT_PI_PROJECT_LEADER</th>\n",
       "      <th>OTHER_PIS</th>\n",
       "      <th>ORGANIZATION_CITY</th>\n",
       "      <th>ORGANIZATION_STATE</th>\n",
       "      <th>ORGANIZATION_COUNTRY</th>\n",
       "    </tr>\n",
       "  </thead>\n",
       "  <tbody>\n",
       "    <tr>\n",
       "      <th>0</th>\n",
       "      <td>121219</td>\n",
       "      <td>POIRER, DAVID</td>\n",
       "      <td>NaN</td>\n",
       "      <td>TUCSON</td>\n",
       "      <td>AZ</td>\n",
       "      <td>UNITED STATES</td>\n",
       "    </tr>\n",
       "    <tr>\n",
       "      <th>1</th>\n",
       "      <td>121220</td>\n",
       "      <td>HEYWARD, ANN O</td>\n",
       "      <td>NaN</td>\n",
       "      <td>BROOK PARK</td>\n",
       "      <td>OH</td>\n",
       "      <td>UNITED STATES</td>\n",
       "    </tr>\n",
       "    <tr>\n",
       "      <th>2</th>\n",
       "      <td>121221</td>\n",
       "      <td>KALOGERA, VASSILIKI</td>\n",
       "      <td>LUIJTEN, ERIK</td>\n",
       "      <td>EVANSTON</td>\n",
       "      <td>IL</td>\n",
       "      <td>UNITED STATES</td>\n",
       "    </tr>\n",
       "    <tr>\n",
       "      <th>3</th>\n",
       "      <td>121222</td>\n",
       "      <td>GUILDERSON, THOMAS P</td>\n",
       "      <td>NaN</td>\n",
       "      <td>SANTA CRUZ</td>\n",
       "      <td>CA</td>\n",
       "      <td>UNITED STATES</td>\n",
       "    </tr>\n",
       "    <tr>\n",
       "      <th>4</th>\n",
       "      <td>121223</td>\n",
       "      <td>HAYES, GILLIAN</td>\n",
       "      <td>TENTORI, MONICA</td>\n",
       "      <td>IRVINE</td>\n",
       "      <td>CA</td>\n",
       "      <td>UNITED STATES</td>\n",
       "    </tr>\n",
       "  </tbody>\n",
       "</table>\n",
       "</div>"
      ],
      "text/plain": [
       "   PROJECT_ID  CONTACT_PI_PROJECT_LEADER        OTHER_PIS  ORGANIZATION_CITY  \\\n",
       "0      121219              POIRER, DAVID              NaN             TUCSON   \n",
       "1      121220             HEYWARD, ANN O              NaN         BROOK PARK   \n",
       "2      121221        KALOGERA, VASSILIKI    LUIJTEN, ERIK           EVANSTON   \n",
       "3      121222       GUILDERSON, THOMAS P              NaN         SANTA CRUZ   \n",
       "4      121223             HAYES, GILLIAN  TENTORI, MONICA             IRVINE   \n",
       "\n",
       "   ORGANIZATION_STATE  ORGANIZATION_COUNTRY  \n",
       "0                  AZ         UNITED STATES  \n",
       "1                  OH         UNITED STATES  \n",
       "2                  IL         UNITED STATES  \n",
       "3                  CA         UNITED STATES  \n",
       "4                  CA         UNITED STATES  "
      ]
     },
     "execution_count": 57,
     "metadata": {},
     "output_type": "execute_result"
    }
   ],
   "source": [
    "pi.head()"
   ]
  },
  {
   "cell_type": "markdown",
   "metadata": {},
   "source": [
    "Here you can start cleaning the data and extract the information that we need to compare it to the inventor file. You want to find as many variables as you can match to as possible. You can also see that we have two field with names. You have the PI field, but you can extract more names from the OTHER PIDS fields if you are interested. "
   ]
  },
  {
   "cell_type": "code",
   "execution_count": 58,
   "metadata": {
    "ExecuteTime": {
     "end_time": "2020-01-24T14:08:20.756177Z",
     "start_time": "2020-01-24T14:08:20.020608Z"
    }
   },
   "outputs": [],
   "source": [
    "pi[' CONTACT_PI_PROJECT_LEADER'] = clean(pi[' CONTACT_PI_PROJECT_LEADER'])"
   ]
  },
  {
   "cell_type": "code",
   "execution_count": 59,
   "metadata": {
    "ExecuteTime": {
     "end_time": "2020-01-24T14:08:22.030238Z",
     "start_time": "2020-01-24T14:08:21.286588Z"
    }
   },
   "outputs": [],
   "source": [
    "pi['name_first'] = pi[' CONTACT_PI_PROJECT_LEADER'].str.split(' ').str.get(1)\n",
    "pi['name_last'] = pi[' CONTACT_PI_PROJECT_LEADER'].str.split(' ').str.get(0)\n",
    "pi['name_middle'] = pi[' CONTACT_PI_PROJECT_LEADER'].str.split(' ').str.get(2)"
   ]
  },
  {
   "cell_type": "code",
   "execution_count": 60,
   "metadata": {
    "ExecuteTime": {
     "end_time": "2020-01-24T14:08:22.693018Z",
     "start_time": "2020-01-24T14:08:22.655521Z"
    }
   },
   "outputs": [
    {
     "data": {
      "text/html": [
       "<div>\n",
       "<style scoped>\n",
       "    .dataframe tbody tr th:only-of-type {\n",
       "        vertical-align: middle;\n",
       "    }\n",
       "\n",
       "    .dataframe tbody tr th {\n",
       "        vertical-align: top;\n",
       "    }\n",
       "\n",
       "    .dataframe thead th {\n",
       "        text-align: right;\n",
       "    }\n",
       "</style>\n",
       "<table border=\"1\" class=\"dataframe\">\n",
       "  <thead>\n",
       "    <tr style=\"text-align: right;\">\n",
       "      <th></th>\n",
       "      <th>PROJECT_ID</th>\n",
       "      <th>CONTACT_PI_PROJECT_LEADER</th>\n",
       "      <th>OTHER_PIS</th>\n",
       "      <th>ORGANIZATION_CITY</th>\n",
       "      <th>ORGANIZATION_STATE</th>\n",
       "      <th>ORGANIZATION_COUNTRY</th>\n",
       "      <th>name_first</th>\n",
       "      <th>name_last</th>\n",
       "      <th>name_middle</th>\n",
       "    </tr>\n",
       "  </thead>\n",
       "  <tbody>\n",
       "    <tr>\n",
       "      <th>0</th>\n",
       "      <td>121219</td>\n",
       "      <td>poirer david</td>\n",
       "      <td>NaN</td>\n",
       "      <td>TUCSON</td>\n",
       "      <td>AZ</td>\n",
       "      <td>UNITED STATES</td>\n",
       "      <td>david</td>\n",
       "      <td>poirer</td>\n",
       "      <td>NaN</td>\n",
       "    </tr>\n",
       "    <tr>\n",
       "      <th>1</th>\n",
       "      <td>121220</td>\n",
       "      <td>heyward ann o</td>\n",
       "      <td>NaN</td>\n",
       "      <td>BROOK PARK</td>\n",
       "      <td>OH</td>\n",
       "      <td>UNITED STATES</td>\n",
       "      <td>ann</td>\n",
       "      <td>heyward</td>\n",
       "      <td>o</td>\n",
       "    </tr>\n",
       "    <tr>\n",
       "      <th>2</th>\n",
       "      <td>121221</td>\n",
       "      <td>kalogera vassiliki</td>\n",
       "      <td>LUIJTEN, ERIK</td>\n",
       "      <td>EVANSTON</td>\n",
       "      <td>IL</td>\n",
       "      <td>UNITED STATES</td>\n",
       "      <td>vassiliki</td>\n",
       "      <td>kalogera</td>\n",
       "      <td>NaN</td>\n",
       "    </tr>\n",
       "    <tr>\n",
       "      <th>3</th>\n",
       "      <td>121222</td>\n",
       "      <td>guilderson thomas p</td>\n",
       "      <td>NaN</td>\n",
       "      <td>SANTA CRUZ</td>\n",
       "      <td>CA</td>\n",
       "      <td>UNITED STATES</td>\n",
       "      <td>thomas</td>\n",
       "      <td>guilderson</td>\n",
       "      <td>p</td>\n",
       "    </tr>\n",
       "    <tr>\n",
       "      <th>4</th>\n",
       "      <td>121223</td>\n",
       "      <td>hayes gillian</td>\n",
       "      <td>TENTORI, MONICA</td>\n",
       "      <td>IRVINE</td>\n",
       "      <td>CA</td>\n",
       "      <td>UNITED STATES</td>\n",
       "      <td>gillian</td>\n",
       "      <td>hayes</td>\n",
       "      <td>NaN</td>\n",
       "    </tr>\n",
       "  </tbody>\n",
       "</table>\n",
       "</div>"
      ],
      "text/plain": [
       "   PROJECT_ID  CONTACT_PI_PROJECT_LEADER        OTHER_PIS  ORGANIZATION_CITY  \\\n",
       "0      121219               poirer david              NaN             TUCSON   \n",
       "1      121220              heyward ann o              NaN         BROOK PARK   \n",
       "2      121221         kalogera vassiliki    LUIJTEN, ERIK           EVANSTON   \n",
       "3      121222        guilderson thomas p              NaN         SANTA CRUZ   \n",
       "4      121223              hayes gillian  TENTORI, MONICA             IRVINE   \n",
       "\n",
       "   ORGANIZATION_STATE  ORGANIZATION_COUNTRY name_first   name_last name_middle  \n",
       "0                  AZ         UNITED STATES      david      poirer         NaN  \n",
       "1                  OH         UNITED STATES        ann     heyward           o  \n",
       "2                  IL         UNITED STATES  vassiliki    kalogera         NaN  \n",
       "3                  CA         UNITED STATES     thomas  guilderson           p  \n",
       "4                  CA         UNITED STATES    gillian       hayes         NaN  "
      ]
     },
     "execution_count": 60,
     "metadata": {},
     "output_type": "execute_result"
    }
   ],
   "source": [
    "pi.head()"
   ]
  },
  {
   "cell_type": "markdown",
   "metadata": {},
   "source": [
    "We will add one more thing: **phonetic processing**.\n",
    "\n",
    "Sometimes, words or names are recorded differently because they are written down as they sound. This can result in failed matches, because the same organization or individual will technically have different written names, even though the names would sound identically when pronounced out loud. To avoid these issues, we will add onoe more thing: a soundex (a phonetic algorithm for indexing names by sound, as pronounced in English).\n",
    "\n",
    "The `phonetic()` function is used to convert strings into their corresponding phonetic codes. This is particularly useful when comparing names where different possible spellings make it difficult to find exact matches (e.g. Jillian and Gillian).\n",
    "\n",
    "Let's add a column called `phonetic_name` to our existing table, which will contain the result of applying a `phonetic` function to the name (the phonetic transcription of the name). We are using a method called NYSIIS - the New York State Identification and Intelligence System phonetic code."
   ]
  },
  {
   "cell_type": "code",
   "execution_count": 61,
   "metadata": {
    "ExecuteTime": {
     "end_time": "2020-01-24T14:08:28.618910Z",
     "start_time": "2020-01-24T14:08:27.673533Z"
    }
   },
   "outputs": [],
   "source": [
    "inventors[\"phonetic_first\"] = phonetic(inventors[\"name_first\"], method=\"nysiis\")\n",
    "inventors[\"phonetic_last\"] = phonetic(inventors[\"name_last\"], method=\"nysiis\")\n",
    "inventors[\"phonetic_middle\"] = phonetic(inventors[\"name_middle\"], method=\"nysiis\")\n",
    "\n",
    "pi[\"phonetic_first\"] = phonetic(pi[\"name_first\"], method=\"nysiis\")\n",
    "pi[\"phonetic_last\"] = phonetic(pi[\"name_last\"], method=\"nysiis\")\n",
    "pi[\"phonetic_middle\"] = phonetic(pi[\"name_middle\"], method=\"nysiis\")"
   ]
  },
  {
   "cell_type": "code",
   "execution_count": 62,
   "metadata": {
    "ExecuteTime": {
     "end_time": "2020-01-24T14:08:29.231081Z",
     "start_time": "2020-01-24T14:08:29.185657Z"
    }
   },
   "outputs": [
    {
     "data": {
      "text/html": [
       "<div>\n",
       "<style scoped>\n",
       "    .dataframe tbody tr th:only-of-type {\n",
       "        vertical-align: middle;\n",
       "    }\n",
       "\n",
       "    .dataframe tbody tr th {\n",
       "        vertical-align: top;\n",
       "    }\n",
       "\n",
       "    .dataframe thead th {\n",
       "        text-align: right;\n",
       "    }\n",
       "</style>\n",
       "<table border=\"1\" class=\"dataframe\">\n",
       "  <thead>\n",
       "    <tr style=\"text-align: right;\">\n",
       "      <th></th>\n",
       "      <th>patent_id</th>\n",
       "      <th>year</th>\n",
       "      <th>inventor_id</th>\n",
       "      <th>name_first</th>\n",
       "      <th>name_last</th>\n",
       "      <th>inventor_city</th>\n",
       "      <th>inventor_state</th>\n",
       "      <th>inventor_country</th>\n",
       "      <th>name_middle</th>\n",
       "      <th>phonetic_first</th>\n",
       "      <th>phonetic_last</th>\n",
       "      <th>phonetic_middle</th>\n",
       "    </tr>\n",
       "  </thead>\n",
       "  <tbody>\n",
       "    <tr>\n",
       "      <th>3</th>\n",
       "      <td>9980641</td>\n",
       "      <td>2018</td>\n",
       "      <td>5321501-6</td>\n",
       "      <td>joel</td>\n",
       "      <td>schuman</td>\n",
       "      <td>Pittsburgh</td>\n",
       "      <td>PA</td>\n",
       "      <td>US</td>\n",
       "      <td>s</td>\n",
       "      <td>JAL</td>\n",
       "      <td>SANAN</td>\n",
       "      <td>S</td>\n",
       "    </tr>\n",
       "    <tr>\n",
       "      <th>4</th>\n",
       "      <td>9980641</td>\n",
       "      <td>2018</td>\n",
       "      <td>9980641-3</td>\n",
       "      <td>lawrence</td>\n",
       "      <td>kagemann</td>\n",
       "      <td>Pittsburgh</td>\n",
       "      <td>PA</td>\n",
       "      <td>US</td>\n",
       "      <td>edward</td>\n",
       "      <td>LARANC</td>\n",
       "      <td>CAGANAN</td>\n",
       "      <td>EDWAD</td>\n",
       "    </tr>\n",
       "    <tr>\n",
       "      <th>5</th>\n",
       "      <td>9980645</td>\n",
       "      <td>2018</td>\n",
       "      <td>9037248-2</td>\n",
       "      <td>brian</td>\n",
       "      <td>wodlinger</td>\n",
       "      <td>Pittsburgh</td>\n",
       "      <td>PA</td>\n",
       "      <td>US</td>\n",
       "      <td>NaN</td>\n",
       "      <td>BRAN</td>\n",
       "      <td>WADLANGAR</td>\n",
       "      <td>NaN</td>\n",
       "    </tr>\n",
       "    <tr>\n",
       "      <th>6</th>\n",
       "      <td>9981048</td>\n",
       "      <td>2018</td>\n",
       "      <td>9981048-1</td>\n",
       "      <td>ira</td>\n",
       "      <td>fox</td>\n",
       "      <td>Pittsburgh</td>\n",
       "      <td>PA</td>\n",
       "      <td>US</td>\n",
       "      <td>jacob</td>\n",
       "      <td>IR</td>\n",
       "      <td>FAX</td>\n",
       "      <td>JACAB</td>\n",
       "    </tr>\n",
       "    <tr>\n",
       "      <th>7</th>\n",
       "      <td>9981048</td>\n",
       "      <td>2018</td>\n",
       "      <td>9981048-3</td>\n",
       "      <td>taichiro</td>\n",
       "      <td>nishikawa</td>\n",
       "      <td>Pittsburgh</td>\n",
       "      <td>PA</td>\n",
       "      <td>US</td>\n",
       "      <td>n</td>\n",
       "      <td>TACAR</td>\n",
       "      <td>NASAC</td>\n",
       "      <td>N</td>\n",
       "    </tr>\n",
       "  </tbody>\n",
       "</table>\n",
       "</div>"
      ],
      "text/plain": [
       "  patent_id  year inventor_id name_first  name_last inventor_city  \\\n",
       "3   9980641  2018   5321501-6       joel    schuman    Pittsburgh   \n",
       "4   9980641  2018   9980641-3   lawrence   kagemann    Pittsburgh   \n",
       "5   9980645  2018   9037248-2      brian  wodlinger    Pittsburgh   \n",
       "6   9981048  2018   9981048-1        ira        fox    Pittsburgh   \n",
       "7   9981048  2018   9981048-3   taichiro  nishikawa    Pittsburgh   \n",
       "\n",
       "  inventor_state inventor_country name_middle phonetic_first phonetic_last  \\\n",
       "3             PA               US           s            JAL         SANAN   \n",
       "4             PA               US      edward         LARANC       CAGANAN   \n",
       "5             PA               US         NaN           BRAN     WADLANGAR   \n",
       "6             PA               US       jacob             IR           FAX   \n",
       "7             PA               US           n          TACAR         NASAC   \n",
       "\n",
       "  phonetic_middle  \n",
       "3               S  \n",
       "4           EDWAD  \n",
       "5             NaN  \n",
       "6           JACAB  \n",
       "7               N  "
      ]
     },
     "execution_count": 62,
     "metadata": {},
     "output_type": "execute_result"
    }
   ],
   "source": [
    "inventors.head()"
   ]
  },
  {
   "cell_type": "code",
   "execution_count": 63,
   "metadata": {
    "ExecuteTime": {
     "end_time": "2020-01-24T14:08:30.319292Z",
     "start_time": "2020-01-24T14:08:30.293494Z"
    }
   },
   "outputs": [
    {
     "data": {
      "text/html": [
       "<div>\n",
       "<style scoped>\n",
       "    .dataframe tbody tr th:only-of-type {\n",
       "        vertical-align: middle;\n",
       "    }\n",
       "\n",
       "    .dataframe tbody tr th {\n",
       "        vertical-align: top;\n",
       "    }\n",
       "\n",
       "    .dataframe thead th {\n",
       "        text-align: right;\n",
       "    }\n",
       "</style>\n",
       "<table border=\"1\" class=\"dataframe\">\n",
       "  <thead>\n",
       "    <tr style=\"text-align: right;\">\n",
       "      <th></th>\n",
       "      <th>PROJECT_ID</th>\n",
       "      <th>CONTACT_PI_PROJECT_LEADER</th>\n",
       "      <th>OTHER_PIS</th>\n",
       "      <th>ORGANIZATION_CITY</th>\n",
       "      <th>ORGANIZATION_STATE</th>\n",
       "      <th>ORGANIZATION_COUNTRY</th>\n",
       "      <th>name_first</th>\n",
       "      <th>name_last</th>\n",
       "      <th>name_middle</th>\n",
       "      <th>phonetic_first</th>\n",
       "      <th>phonetic_last</th>\n",
       "      <th>phonetic_middle</th>\n",
       "    </tr>\n",
       "  </thead>\n",
       "  <tbody>\n",
       "    <tr>\n",
       "      <th>0</th>\n",
       "      <td>121219</td>\n",
       "      <td>poirer david</td>\n",
       "      <td>NaN</td>\n",
       "      <td>TUCSON</td>\n",
       "      <td>AZ</td>\n",
       "      <td>UNITED STATES</td>\n",
       "      <td>david</td>\n",
       "      <td>poirer</td>\n",
       "      <td>NaN</td>\n",
       "      <td>DAVAD</td>\n",
       "      <td>PARAR</td>\n",
       "      <td>NaN</td>\n",
       "    </tr>\n",
       "    <tr>\n",
       "      <th>1</th>\n",
       "      <td>121220</td>\n",
       "      <td>heyward ann o</td>\n",
       "      <td>NaN</td>\n",
       "      <td>BROOK PARK</td>\n",
       "      <td>OH</td>\n",
       "      <td>UNITED STATES</td>\n",
       "      <td>ann</td>\n",
       "      <td>heyward</td>\n",
       "      <td>o</td>\n",
       "      <td>AN</td>\n",
       "      <td>HAYWAD</td>\n",
       "      <td>O</td>\n",
       "    </tr>\n",
       "    <tr>\n",
       "      <th>2</th>\n",
       "      <td>121221</td>\n",
       "      <td>kalogera vassiliki</td>\n",
       "      <td>LUIJTEN, ERIK</td>\n",
       "      <td>EVANSTON</td>\n",
       "      <td>IL</td>\n",
       "      <td>UNITED STATES</td>\n",
       "      <td>vassiliki</td>\n",
       "      <td>kalogera</td>\n",
       "      <td>NaN</td>\n",
       "      <td>VASALAC</td>\n",
       "      <td>CALAGAR</td>\n",
       "      <td>NaN</td>\n",
       "    </tr>\n",
       "    <tr>\n",
       "      <th>3</th>\n",
       "      <td>121222</td>\n",
       "      <td>guilderson thomas p</td>\n",
       "      <td>NaN</td>\n",
       "      <td>SANTA CRUZ</td>\n",
       "      <td>CA</td>\n",
       "      <td>UNITED STATES</td>\n",
       "      <td>thomas</td>\n",
       "      <td>guilderson</td>\n",
       "      <td>p</td>\n",
       "      <td>TAN</td>\n",
       "      <td>GALDARSAN</td>\n",
       "      <td>P</td>\n",
       "    </tr>\n",
       "    <tr>\n",
       "      <th>4</th>\n",
       "      <td>121223</td>\n",
       "      <td>hayes gillian</td>\n",
       "      <td>TENTORI, MONICA</td>\n",
       "      <td>IRVINE</td>\n",
       "      <td>CA</td>\n",
       "      <td>UNITED STATES</td>\n",
       "      <td>gillian</td>\n",
       "      <td>hayes</td>\n",
       "      <td>NaN</td>\n",
       "      <td>GALAN</td>\n",
       "      <td>HAY</td>\n",
       "      <td>NaN</td>\n",
       "    </tr>\n",
       "  </tbody>\n",
       "</table>\n",
       "</div>"
      ],
      "text/plain": [
       "   PROJECT_ID  CONTACT_PI_PROJECT_LEADER        OTHER_PIS  ORGANIZATION_CITY  \\\n",
       "0      121219               poirer david              NaN             TUCSON   \n",
       "1      121220              heyward ann o              NaN         BROOK PARK   \n",
       "2      121221         kalogera vassiliki    LUIJTEN, ERIK           EVANSTON   \n",
       "3      121222        guilderson thomas p              NaN         SANTA CRUZ   \n",
       "4      121223              hayes gillian  TENTORI, MONICA             IRVINE   \n",
       "\n",
       "   ORGANIZATION_STATE  ORGANIZATION_COUNTRY name_first   name_last  \\\n",
       "0                  AZ         UNITED STATES      david      poirer   \n",
       "1                  OH         UNITED STATES        ann     heyward   \n",
       "2                  IL         UNITED STATES  vassiliki    kalogera   \n",
       "3                  CA         UNITED STATES     thomas  guilderson   \n",
       "4                  CA         UNITED STATES    gillian       hayes   \n",
       "\n",
       "  name_middle phonetic_first phonetic_last phonetic_middle  \n",
       "0         NaN          DAVAD         PARAR             NaN  \n",
       "1           o             AN        HAYWAD               O  \n",
       "2         NaN        VASALAC       CALAGAR             NaN  \n",
       "3           p            TAN     GALDARSAN               P  \n",
       "4         NaN          GALAN           HAY             NaN  "
      ]
     },
     "execution_count": 63,
     "metadata": {},
     "output_type": "execute_result"
    }
   ],
   "source": [
    "pi.head()"
   ]
  },
  {
   "cell_type": "markdown",
   "metadata": {},
   "source": [
    "<span style=\"color:red\">**Checkpoint 2: Clean organization-level data**</span>"
   ]
  },
  {
   "cell_type": "markdown",
   "metadata": {},
   "source": [
    "Use `clean` function above, remove white space, and find phonetic transcriptions of organization names."
   ]
  },
  {
   "cell_type": "code",
   "execution_count": 64,
   "metadata": {
    "ExecuteTime": {
     "end_time": "2020-01-24T14:07:27.479100Z",
     "start_time": "2020-01-24T14:07:27.464260Z"
    }
   },
   "outputs": [
    {
     "data": {
      "text/html": [
       "<div>\n",
       "<style scoped>\n",
       "    .dataframe tbody tr th:only-of-type {\n",
       "        vertical-align: middle;\n",
       "    }\n",
       "\n",
       "    .dataframe tbody tr th {\n",
       "        vertical-align: top;\n",
       "    }\n",
       "\n",
       "    .dataframe thead th {\n",
       "        text-align: right;\n",
       "    }\n",
       "</style>\n",
       "<table border=\"1\" class=\"dataframe\">\n",
       "  <thead>\n",
       "    <tr style=\"text-align: right;\">\n",
       "      <th></th>\n",
       "      <th>patent_id</th>\n",
       "      <th>organization</th>\n",
       "      <th>org_city</th>\n",
       "      <th>org_state</th>\n",
       "      <th>org_country</th>\n",
       "    </tr>\n",
       "  </thead>\n",
       "  <tbody>\n",
       "    <tr>\n",
       "      <th>0</th>\n",
       "      <td>9992413</td>\n",
       "      <td>Raytheon Company</td>\n",
       "      <td>Lexington</td>\n",
       "      <td>MA</td>\n",
       "      <td>US</td>\n",
       "    </tr>\n",
       "    <tr>\n",
       "      <th>1</th>\n",
       "      <td>RE45718</td>\n",
       "      <td>Boston Scientific Corporation</td>\n",
       "      <td>Lexington</td>\n",
       "      <td>MA</td>\n",
       "      <td>US</td>\n",
       "    </tr>\n",
       "    <tr>\n",
       "      <th>2</th>\n",
       "      <td>9992413</td>\n",
       "      <td>Raytheon Company</td>\n",
       "      <td>Waltham</td>\n",
       "      <td>MA</td>\n",
       "      <td>US</td>\n",
       "    </tr>\n",
       "    <tr>\n",
       "      <th>3</th>\n",
       "      <td>9988932</td>\n",
       "      <td>Honeywell International Inc.</td>\n",
       "      <td>Waltham</td>\n",
       "      <td>MA</td>\n",
       "      <td>US</td>\n",
       "    </tr>\n",
       "    <tr>\n",
       "      <th>4</th>\n",
       "      <td>9991578</td>\n",
       "      <td>Honeywell International Inc.</td>\n",
       "      <td>Waltham</td>\n",
       "      <td>MA</td>\n",
       "      <td>US</td>\n",
       "    </tr>\n",
       "  </tbody>\n",
       "</table>\n",
       "</div>"
      ],
      "text/plain": [
       "  patent_id                   organization   org_city org_state org_country\n",
       "0   9992413               Raytheon Company  Lexington        MA          US\n",
       "1   RE45718  Boston Scientific Corporation  Lexington        MA          US\n",
       "2   9992413               Raytheon Company    Waltham        MA          US\n",
       "3   9988932   Honeywell International Inc.    Waltham        MA          US\n",
       "4   9991578   Honeywell International Inc.    Waltham        MA          US"
      ]
     },
     "execution_count": 64,
     "metadata": {},
     "output_type": "execute_result"
    }
   ],
   "source": [
    "# Clean assignee data\n",
    "assignees.head()"
   ]
  },
  {
   "cell_type": "code",
   "execution_count": 67,
   "metadata": {},
   "outputs": [],
   "source": [
    "# Cleaning names (using the record linkage package tool)\n",
    "assignees['organization'] = clean(assignees['organization'])"
   ]
  },
  {
   "cell_type": "code",
   "execution_count": 71,
   "metadata": {},
   "outputs": [
    {
     "data": {
      "text/html": [
       "<div>\n",
       "<style scoped>\n",
       "    .dataframe tbody tr th:only-of-type {\n",
       "        vertical-align: middle;\n",
       "    }\n",
       "\n",
       "    .dataframe tbody tr th {\n",
       "        vertical-align: top;\n",
       "    }\n",
       "\n",
       "    .dataframe thead th {\n",
       "        text-align: right;\n",
       "    }\n",
       "</style>\n",
       "<table border=\"1\" class=\"dataframe\">\n",
       "  <thead>\n",
       "    <tr style=\"text-align: right;\">\n",
       "      <th></th>\n",
       "      <th>patent_id</th>\n",
       "      <th>organization</th>\n",
       "      <th>org_city</th>\n",
       "      <th>org_state</th>\n",
       "      <th>org_country</th>\n",
       "    </tr>\n",
       "  </thead>\n",
       "  <tbody>\n",
       "    <tr>\n",
       "      <th>0</th>\n",
       "      <td>9992413</td>\n",
       "      <td>raytheon company</td>\n",
       "      <td>Lexington</td>\n",
       "      <td>MA</td>\n",
       "      <td>US</td>\n",
       "    </tr>\n",
       "    <tr>\n",
       "      <th>1</th>\n",
       "      <td>RE45718</td>\n",
       "      <td>boston scientific corporation</td>\n",
       "      <td>Lexington</td>\n",
       "      <td>MA</td>\n",
       "      <td>US</td>\n",
       "    </tr>\n",
       "    <tr>\n",
       "      <th>2</th>\n",
       "      <td>9992413</td>\n",
       "      <td>raytheon company</td>\n",
       "      <td>Waltham</td>\n",
       "      <td>MA</td>\n",
       "      <td>US</td>\n",
       "    </tr>\n",
       "    <tr>\n",
       "      <th>3</th>\n",
       "      <td>9988932</td>\n",
       "      <td>honeywell international inc</td>\n",
       "      <td>Waltham</td>\n",
       "      <td>MA</td>\n",
       "      <td>US</td>\n",
       "    </tr>\n",
       "    <tr>\n",
       "      <th>4</th>\n",
       "      <td>9991578</td>\n",
       "      <td>honeywell international inc</td>\n",
       "      <td>Waltham</td>\n",
       "      <td>MA</td>\n",
       "      <td>US</td>\n",
       "    </tr>\n",
       "  </tbody>\n",
       "</table>\n",
       "</div>"
      ],
      "text/plain": [
       "  patent_id                   organization   org_city org_state org_country\n",
       "0   9992413               raytheon company  Lexington        MA          US\n",
       "1   RE45718  boston scientific corporation  Lexington        MA          US\n",
       "2   9992413               raytheon company    Waltham        MA          US\n",
       "3   9988932    honeywell international inc    Waltham        MA          US\n",
       "4   9991578    honeywell international inc    Waltham        MA          US"
      ]
     },
     "execution_count": 71,
     "metadata": {},
     "output_type": "execute_result"
    }
   ],
   "source": [
    "assignees.head()"
   ]
  },
  {
   "cell_type": "code",
   "execution_count": 73,
   "metadata": {},
   "outputs": [
    {
     "data": {
      "text/plain": [
       "array(['raytheon company', 'boston scientific corporation',\n",
       "       'honeywell international inc', 'trustees of boston university',\n",
       "       'brandeis university', 'boston dynamics inc',\n",
       "       'california institute of technology',\n",
       "       'university of southern california',\n",
       "       'the regents of the university of california',\n",
       "       'northrop grumman corporation',\n",
       "       'international business machines corporation',\n",
       "       'board of regents the university of texas system',\n",
       "       'lockheed martin corporation',\n",
       "       'the board of regents of the university of texas system',\n",
       "       'the arizona board of regents on behalf of the university of arizona',\n",
       "       'bat reseach and consulting',\n",
       "       'arizona board of regents on behalf of arizona state university',\n",
       "       'sion power corporation', 'paragon space development corporation',\n",
       "       'general electric company', 'rolls royce plc',\n",
       "       'consolidated nuclear security llc', 'leidos inc',\n",
       "       'united technologies corporation', 'yale university',\n",
       "       'hamilton sundstrand corporation', 'carrier corporation',\n",
       "       'university of connecticut', 'goodrich corporation',\n",
       "       'university of connecticut technology commerialization services',\n",
       "       'university of connecticut office of the vice president for research',\n",
       "       'sikorsky aircraft corporation',\n",
       "       'the florida state university research foundation inc',\n",
       "       'intel corporation', 'hewlett packard development company lp',\n",
       "       'massachusetts institute of technology',\n",
       "       'bae systems information and electronic systems integration inc',\n",
       "       'hrl laboratories llc', 'aphios corporation',\n",
       "       'the board of trustees of the university of illinois',\n",
       "       'advanced micro devices inc', 'battelle memorial institute',\n",
       "       'dana farber cancer institute inc',\n",
       "       'the board of trustees of the leland stanford junior university',\n",
       "       'the trustees of the university of pennsylvania',\n",
       "       'the trustees of columbia university in the city of new york',\n",
       "       'the johns hopkins university',\n",
       "       'university of utah research foundation',\n",
       "       'university of florida research foundation inc',\n",
       "       'university of pittsburghof the commonwealth system of higher education',\n",
       "       'the research foundation of state university of new york',\n",
       "       'the penn state research foundation',\n",
       "       'university of georgia research foundation inc',\n",
       "       'president and fellows of harvard college',\n",
       "       'the regents of the university of michigan', 'emory university',\n",
       "       'georgia tech research corporation',\n",
       "       'rutgers the state university of new jersey', 'cree inc',\n",
       "       'ut battelle llc',\n",
       "       'the united states of america as represented by the department of health and human services',\n",
       "       'sensor electronic technology inc', 'nanotek instruments inc',\n",
       "       'wayne state university', 'university of dayton', '3d systems inc',\n",
       "       'university of tennessee research foundation',\n",
       "       'duquesne university of the holy ghost',\n",
       "       'the board of regents of the university of oklahoma',\n",
       "       'research foundation of the city university of new york',\n",
       "       'loyola university of chicago',\n",
       "       'the united states of america as represented by the secretary of the navy',\n",
       "       'the scripps research institute', 'abide therapeutics inc',\n",
       "       'sunpower corporation', 'cubic corporation',\n",
       "       'torrey pines institute for molecular studies',\n",
       "       'sanford burnham medical research institute',\n",
       "       'daylight solutions inc', 'wildcat discovery technologies inc',\n",
       "       'samsung electronics co ltd', 'oracle international corporation',\n",
       "       'samsung research america inc', '3m innovative properties company',\n",
       "       'case western reserve university', 'aerase inc',\n",
       "       'albert einstein college of medicine of yeshiva university',\n",
       "       'the general hospital corporation', 'cornell university',\n",
       "       'sloan kettering institute for cancer research',\n",
       "       'cambridge enterprise limited', 'new york university',\n",
       "       'university of rochester', 'oregon state university',\n",
       "       'mayo foundation for medical education and research',\n",
       "       'banpil photonics inc', 'health research inc', 'duke university',\n",
       "       'the university of north carolina at chapel hill',\n",
       "       'research triangle institute', 'mycovia pharmaceuticals inc',\n",
       "       'university of illinois foundation', 'northwestern university',\n",
       "       'the boeing company', 'uchicago argonne llc',\n",
       "       'bp corporation north america inc',\n",
       "       'rush university medical center', 'narrative science inc',\n",
       "       'the regents of the university of colorado',\n",
       "       'the united states of america as represented by the department of veterans affairs office of the general counsel',\n",
       "       'the united states of america as represented by the secretary of commerce',\n",
       "       'the george washington university',\n",
       "       'the united states of america as represented by the director national security agency',\n",
       "       'the united states of america as represented by the administrator of the national aeronautics and space administration',\n",
       "       'the united states of america as represented by the secretary of agriculture',\n",
       "       'the united states of america as represented by the secretary of the army',\n",
       "       'the united states of america as represented by the secretary of the air force',\n",
       "       'the united states of america as represented by the secretary of the department of the interior',\n",
       "       'university of washington', 'georgetown university',\n",
       "       'us army medical research and materiel command',\n",
       "       'the united states of america as represented by the department of veterans affairs',\n",
       "       'the united states of america as represented by the administrator of nasa',\n",
       "       'us department of energy',\n",
       "       'the united states of america as represented by the secretary of homeland security',\n",
       "       'the united states of america as represented by the secretary dept of health and human services',\n",
       "       'usda',\n",
       "       'the united states of america as represented by the aministrator of the national aeronautics and space administration',\n",
       "       'associated universities llc',\n",
       "       'the henry m jackson foundation for the advancement of military medicine inc',\n",
       "       'deep learning analytics llc',\n",
       "       'indiana university research and technology corporation',\n",
       "       'william marsh rice university', 'baylor college of medicine',\n",
       "       'the texas am university system', 'university of houston',\n",
       "       'sensors unlimited inc', 'am biotechnologies llc',\n",
       "       'beth israel deaconess medical center inc',\n",
       "       'the uab research foundation', 'oned material llc',\n",
       "       'the childrens hospital of philadelphia',\n",
       "       'childrens hospital medical center',\n",
       "       'the wistar institute of anatomy and biology', 'drexel university',\n",
       "       'temple university of the commonwealth system of higher education',\n",
       "       'dioxide materials inc', 'los alamos national security llc',\n",
       "       'unity biotechnology inc', 'dignity health', 'other lab llc',\n",
       "       'wave 80 biosciences inc', 'the cleveland clinic foundation',\n",
       "       'novozymes as', 'lawrence livermore national security llc',\n",
       "       'bioventures llc',\n",
       "       'the board of trustees of the university of arkansas',\n",
       "       'trustees of tufts college', 'boston medical center corporation',\n",
       "       'board of supervisors of louisiana state university and agricultural and mechanical college',\n",
       "       'massachusetts eye ear infirmary',\n",
       "       'the brigham and womens hospital inc',\n",
       "       'university of massachusetts',\n",
       "       'childrens medical center corporation',\n",
       "       'the schepens eye research institute inc', 'immunomedics inc',\n",
       "       'regents of the university of minnesota', 'gtx inc',\n",
       "       'the translational genomics research institute',\n",
       "       'new jersey institute of technology',\n",
       "       'university of central florida research foundation inc',\n",
       "       'university of maryland', 'university of maryland baltimore',\n",
       "       'beam engineering for advanced measurements co', 'evisive inc',\n",
       "       'embera neurotherapeutics inc',\n",
       "       'wisconsin alumni research foundation', 'virent inc',\n",
       "       'silatronix inc', 'applied thin films inc', 'medimmune limited',\n",
       "       'university of iowa research foundation',\n",
       "       'behavioral diagnostics llc', 'second sight medical products inc',\n",
       "       'syracuse university', 'the university of akron', 'aeromics inc',\n",
       "       'nationwide childrens hospital inc', 'teleputers llc',\n",
       "       'florida foundation seed producers inc',\n",
       "       'university of florida foundation inc', 'siemens energy inc',\n",
       "       'general motors llc', 'university of virginia patent foundation',\n",
       "       'platelet targeted therapeutics llc', 'mri robotics llc',\n",
       "       'piedrasombra corporation inc',\n",
       "       'h lee moffitt cancer center and research institute inc',\n",
       "       'romark laboratories lc', 'george mason university',\n",
       "       'washington state university research foundation',\n",
       "       'washington university',\n",
       "       'the curators of the university of missouri',\n",
       "       'infectious disease research institute',\n",
       "       'national jewish health a non profit organization',\n",
       "       'picometrix llc', 'carnegie mellon university',\n",
       "       'university of pittsburgof the commonwealth system of higher education',\n",
       "       'h quest vanguard inc', 'the george washington univeristy',\n",
       "       'the nemours foundation', 'buck institute for research on aging',\n",
       "       'the university of north carolina at charlotte', 'sinewatts inc',\n",
       "       'nutech ventures', 'li cor inc', 'nutech ventures inc',\n",
       "       'florida department of transportation',\n",
       "       'national technology engineering solutions of sandia llc',\n",
       "       'stcunm',\n",
       "       'university of washington through its center for commercialization',\n",
       "       'fred hutchinson cancer research center',\n",
       "       'inbios international inc', 'integrated dna technologies inc',\n",
       "       'city of hope', 'regeneron pharmaceuticals inc',\n",
       "       'brown university research foundation',\n",
       "       'women infants hospital of rhode island', 'raredon resources inc',\n",
       "       'purdue research foundation',\n",
       "       'wake forest university health sciences',\n",
       "       'arizona board of regents acting for and on behalf of northern arizona university',\n",
       "       'university of hawaii',\n",
       "       'iowa state university research foundation inc',\n",
       "       'west virginia university', 'university of kansas',\n",
       "       'southern research institute',\n",
       "       'the board of trustees of the university of alabama',\n",
       "       'south dakota board of regents', 'siemens healthcare gmbh',\n",
       "       'alliance for sustainable energy llc',\n",
       "       'social perspective mgmt llc', 'grow tech inc',\n",
       "       'ball horticultural company', 'gas technology institute',\n",
       "       'worcester polytechnic institute',\n",
       "       'university of notre dame du lac', 'seeo inc', 'auburn university',\n",
       "       'university of puerto rico', 'university of south carolina',\n",
       "       'faraday technology inc', 'oregon health science university',\n",
       "       'portland state university', 'providence health servicesoregon',\n",
       "       'continuous solutions llc',\n",
       "       'the university of memphis research foundation',\n",
       "       'the florida international university board of trustees',\n",
       "       'syntrix biosystems inc', 'texas tech university',\n",
       "       'battelle energy alliance llc', 'trx systems inc',\n",
       "       'q track corporation', 'polaris sensor technologies inc',\n",
       "       'cfd research corporation inc', 'walters gardens inc',\n",
       "       'lockheed martin coherent technologies inc',\n",
       "       'separation design group llc', 'biodesy inc',\n",
       "       'vistagen therapeutics inc', 'intelligent fusion technology inc',\n",
       "       'assured information security inc', 'actuated medical inc',\n",
       "       'adcure biotechnologies llc', 'california state university fresno',\n",
       "       'redrock ranch', 'angion biomedica corp', '3deo inc',\n",
       "       'azevan pharmaceuticals inc', 'monolith semiconductor inc',\n",
       "       'vnomics corp', 'university of central oklahoma',\n",
       "       'board of regents of the nevada systems of higher education on behalf of the nevada reno'],\n",
       "      dtype=object)"
      ]
     },
     "execution_count": 73,
     "metadata": {},
     "output_type": "execute_result"
    }
   ],
   "source": [
    "assignees['organization'].unique()"
   ]
  },
  {
   "cell_type": "code",
   "execution_count": 76,
   "metadata": {},
   "outputs": [],
   "source": [
    "assignees['organization']=assignees['organization'].str.replace('company','')"
   ]
  },
  {
   "cell_type": "code",
   "execution_count": 79,
   "metadata": {},
   "outputs": [],
   "source": [
    "assignees['organization']=assignees['organization'].str.replace('corporation','')"
   ]
  },
  {
   "cell_type": "code",
   "execution_count": 80,
   "metadata": {},
   "outputs": [],
   "source": [
    "assignees['organization']=assignees['organization'].str.replace('the ','')"
   ]
  },
  {
   "cell_type": "code",
   "execution_count": 81,
   "metadata": {},
   "outputs": [],
   "source": [
    "assignees['organization']=assignees['organization'].str.replace(' llc','')"
   ]
  },
  {
   "cell_type": "code",
   "execution_count": 83,
   "metadata": {},
   "outputs": [],
   "source": [
    "assignees['organization']=assignees['organization'].str.replace(' inc','')"
   ]
  },
  {
   "cell_type": "code",
   "execution_count": 84,
   "metadata": {},
   "outputs": [],
   "source": [
    "assignees['organization'] = clean(assignees['organization'])"
   ]
  },
  {
   "cell_type": "code",
   "execution_count": 86,
   "metadata": {},
   "outputs": [
    {
     "data": {
      "text/plain": [
       "array(['raytheon', 'boston scientific', 'honeywell international',\n",
       "       'trustees of boston university', 'brandeis university',\n",
       "       'boston dynamics', 'california institute of technology',\n",
       "       'university of southern california',\n",
       "       'regents of university of california', 'northrop grumman',\n",
       "       'international business machines',\n",
       "       'board of regents university of texas system', 'lockheed martin',\n",
       "       'board of regents of university of texas system',\n",
       "       'arizona board of regents on behalf of university of arizona',\n",
       "       'bat reseach and consulting',\n",
       "       'arizona board of regents on behalf of arizona state university',\n",
       "       'sion power', 'paragon space development', 'general electric',\n",
       "       'rolls royce plc', 'consolidated nuclear security', 'leidos',\n",
       "       'united technologies', 'yale university', 'hamilton sundstrand',\n",
       "       'carrier', 'university of connecticut', 'goodrich',\n",
       "       'university of connecticut technology commerialization services',\n",
       "       'university of connecticut office of vice president for research',\n",
       "       'sikorsky aircraft',\n",
       "       'florida state university research foundation', 'intel',\n",
       "       'hewlett packard development lp',\n",
       "       'massachusetts institute of technology',\n",
       "       'bae systems information and electronic systems integration',\n",
       "       'hrl laboratories', 'aphios',\n",
       "       'board of trustees of university of illinois',\n",
       "       'advanced micro devices', 'battelle memorial institute',\n",
       "       'dana farber cancer institute',\n",
       "       'board of trustees of leland stanford junior university',\n",
       "       'trustees of university of pennsylvania',\n",
       "       'trustees of columbia university in city of new york',\n",
       "       'johns hopkins university',\n",
       "       'university of utah research foundation',\n",
       "       'university of florida research foundation',\n",
       "       'university of pittsburghof commonwealth system of higher education',\n",
       "       'research foundation of state university of new york',\n",
       "       'penn state research foundation',\n",
       "       'university of georgia research foundation',\n",
       "       'president and fellows of harvard college',\n",
       "       'regents of university of michigan', 'emory university',\n",
       "       'georgia tech research', 'rutgers state university of new jersey',\n",
       "       'cree', 'ut battelle',\n",
       "       'united states of america as represented by department of health and human services',\n",
       "       'sensor electronic technology', 'nanotek instruments',\n",
       "       'wayne state university', 'university of dayton', '3d systems',\n",
       "       'university of tennessee research foundation',\n",
       "       'duquesne university of holy ghost',\n",
       "       'board of regents of university of oklahoma',\n",
       "       'research foundation of city university of new york',\n",
       "       'loyola university of chicago',\n",
       "       'united states of america as represented by secretary of navy',\n",
       "       'scripps research institute', 'abide therapeutics', 'sunpower',\n",
       "       'cubic', 'torrey pines institute for molecular studies',\n",
       "       'sanford burnham medical research institute', 'daylight solutions',\n",
       "       'wildcat discovery technologies', 'samsung electronics co ltd',\n",
       "       'oracle international', 'samsung research america',\n",
       "       '3m innovative properties', 'case western reserve university',\n",
       "       'aerase',\n",
       "       'albert einstein college of medicine of yeshiva university',\n",
       "       'general hospital', 'cornell university',\n",
       "       'sloan kettering institute for cancer research',\n",
       "       'cambridge enterprise limited', 'new york university',\n",
       "       'university of rochester', 'oregon state university',\n",
       "       'mayo foundation for medical education and research',\n",
       "       'banpil photonics', 'health research', 'duke university',\n",
       "       'university of north carolina at chapel hill',\n",
       "       'research triangle institute', 'mycovia pharmaceuticals',\n",
       "       'university of illinois foundation', 'northwestern university',\n",
       "       'boeing', 'uchicago argonne', 'bp north america',\n",
       "       'rush university medical center', 'narrative science',\n",
       "       'regents of university of colorado',\n",
       "       'united states of america as represented by department of veterans affairs office of general counsel',\n",
       "       'united states of america as represented by secretary of commerce',\n",
       "       'george washington university',\n",
       "       'united states of america as represented by director national security agency',\n",
       "       'united states of america as represented by administrator of national aeronautics and space administration',\n",
       "       'united states of america as represented by secretary of agriculture',\n",
       "       'united states of america as represented by secretary of army',\n",
       "       'united states of america as represented by secretary of air force',\n",
       "       'united states of america as represented by secretary of department of interior',\n",
       "       'university of washington', 'georgetown university',\n",
       "       'us army medical research and materiel command',\n",
       "       'united states of america as represented by department of veterans affairs',\n",
       "       'united states of america as represented by administrator of nasa',\n",
       "       'us department of energy',\n",
       "       'united states of america as represented by secretary of homeland security',\n",
       "       'united states of america as represented by secretary dept of health and human services',\n",
       "       'usda',\n",
       "       'united states of america as represented by aministrator of national aeronautics and space administration',\n",
       "       'associated universities',\n",
       "       'henry m jackson foundation for advancement of military medicine',\n",
       "       'deep learning analytics',\n",
       "       'indiana university research and technology',\n",
       "       'william marsh rice university', 'baylor college of medicine',\n",
       "       'texas am university system', 'university of houston',\n",
       "       'sensors unlimited', 'am biotechnologies',\n",
       "       'beth israel deaconess medical center', 'uab research foundation',\n",
       "       'oned material', 'childrens hospital of philadelphia',\n",
       "       'childrens hospital medical center',\n",
       "       'wistar institute of anatomy and biology', 'drexel university',\n",
       "       'temple university of commonwealth system of higher education',\n",
       "       'dioxide materials', 'los alamos national security',\n",
       "       'unity biotechnology', 'dignity health', 'other lab',\n",
       "       'wave 80 biosciences', 'cleveland clinic foundation',\n",
       "       'novozymes as', 'lawrence livermore national security',\n",
       "       'bioventures', 'board of trustees of university of arkansas',\n",
       "       'trustees of tufts college', 'boston medical center',\n",
       "       'board of supervisors of louisiana state university and agricultural and mechanical college',\n",
       "       'massachusetts eye ear infirmary', 'brigham and womens hospital',\n",
       "       'university of massachusetts', 'childrens medical center',\n",
       "       'schepens eye research institute', 'immunomedics',\n",
       "       'regents of university of minnesota', 'gtx',\n",
       "       'translational genomics research institute',\n",
       "       'new jersey institute of technology',\n",
       "       'university of central florida research foundation',\n",
       "       'university of maryland', 'university of maryland baltimore',\n",
       "       'beam engineering for advanced measurements co', 'evisive',\n",
       "       'embera neurotherapeutics', 'wisconsin alumni research foundation',\n",
       "       'virent', 'silatronix', 'applied thin films', 'medimmune limited',\n",
       "       'university of iowa research foundation', 'behavioral diagnostics',\n",
       "       'second sight medical products', 'syracuse university',\n",
       "       'university of akron', 'aeromics', 'nationwide childrens hospital',\n",
       "       'teleputers', 'florida foundation seed producers',\n",
       "       'university of florida foundation', 'siemens energy',\n",
       "       'general motors', 'university of virginia patent foundation',\n",
       "       'platelet targeted therapeutics', 'mri robotics', 'piedrasombra',\n",
       "       'h lee moffitt cancer center and research institute',\n",
       "       'romark laboratories lc', 'george mason university',\n",
       "       'washington state university research foundation',\n",
       "       'washington university', 'curators of university of missouri',\n",
       "       'infectious disease research institute',\n",
       "       'national jewish health a non profit organization', 'picometrix',\n",
       "       'carnegie mellon university',\n",
       "       'university of pittsburgof commonwealth system of higher education',\n",
       "       'h quest vanguard', 'george washington univeristy',\n",
       "       'nemours foundation', 'buck institute for research on aging',\n",
       "       'university of north carolina at charlotte', 'sinewatts',\n",
       "       'nutech ventures', 'li cor',\n",
       "       'florida department of transportation',\n",
       "       'national technology engineering solutions of sandia', 'stcunm',\n",
       "       'university of washington through its center for commercialization',\n",
       "       'fred hutchinson cancer research center', 'inbios international',\n",
       "       'integrated dna technologies', 'city of hope',\n",
       "       'regeneron pharmaceuticals',\n",
       "       'brown university research foundation',\n",
       "       'women infants hospital of rhode island', 'raredon resources',\n",
       "       'purdue research foundation',\n",
       "       'wake forest university health sciences',\n",
       "       'arizona board of regents acting for and on behalf of northern arizona university',\n",
       "       'university of hawaii',\n",
       "       'iowa state university research foundation',\n",
       "       'west virginia university', 'university of kansas',\n",
       "       'southern research institute',\n",
       "       'board of trustees of university of alabama',\n",
       "       'south dakota board of regents', 'siemens healthcare gmbh',\n",
       "       'alliance for sustainable energy', 'social perspective mgmt',\n",
       "       'grow tech', 'ball horticultural', 'gas technology institute',\n",
       "       'worcester polytechnic institute',\n",
       "       'university of notre dame du lac', 'seeo', 'auburn university',\n",
       "       'university of puerto rico', 'university of south carolina',\n",
       "       'faraday technology', 'oregon health science university',\n",
       "       'portland state university', 'providence health servicesoregon',\n",
       "       'continuous solutions',\n",
       "       'university of memphis research foundation',\n",
       "       'florida international university board of trustees',\n",
       "       'syntrix biosystems', 'texas tech university',\n",
       "       'battelle energy alliance', 'trx systems', 'q track',\n",
       "       'polaris sensor technologies', 'cfd research', 'walters gardens',\n",
       "       'lockheed martin coherent technologies', 'separation design group',\n",
       "       'biodesy', 'vistagen therapeutics',\n",
       "       'intelligent fusion technology', 'assured information security',\n",
       "       'actuated medical', 'adcure biotechnologies',\n",
       "       'california state university fresno', 'redrock ranch',\n",
       "       'angion biomedica corp', '3deo', 'azevan pharmaceuticals',\n",
       "       'monolith semiconductor', 'vnomics corp',\n",
       "       'university of central oklahoma',\n",
       "       'board of regents of nevada systems of higher education on behalf of nevada reno'],\n",
       "      dtype=object)"
      ]
     },
     "execution_count": 86,
     "metadata": {},
     "output_type": "execute_result"
    }
   ],
   "source": [
    "assignees['organization'].unique()"
   ]
  },
  {
   "cell_type": "code",
   "execution_count": 89,
   "metadata": {},
   "outputs": [
    {
     "data": {
      "text/html": [
       "<div>\n",
       "<style scoped>\n",
       "    .dataframe tbody tr th:only-of-type {\n",
       "        vertical-align: middle;\n",
       "    }\n",
       "\n",
       "    .dataframe tbody tr th {\n",
       "        vertical-align: top;\n",
       "    }\n",
       "\n",
       "    .dataframe thead th {\n",
       "        text-align: right;\n",
       "    }\n",
       "</style>\n",
       "<table border=\"1\" class=\"dataframe\">\n",
       "  <thead>\n",
       "    <tr style=\"text-align: right;\">\n",
       "      <th></th>\n",
       "      <th>patent_id</th>\n",
       "      <th>organization</th>\n",
       "      <th>org_city</th>\n",
       "      <th>org_state</th>\n",
       "      <th>org_country</th>\n",
       "      <th>org_phonetic</th>\n",
       "    </tr>\n",
       "  </thead>\n",
       "  <tbody>\n",
       "    <tr>\n",
       "      <th>0</th>\n",
       "      <td>9992413</td>\n",
       "      <td>raytheon</td>\n",
       "      <td>Lexington</td>\n",
       "      <td>MA</td>\n",
       "      <td>US</td>\n",
       "      <td>RAYTAN</td>\n",
       "    </tr>\n",
       "    <tr>\n",
       "      <th>1</th>\n",
       "      <td>RE45718</td>\n",
       "      <td>boston scientific</td>\n",
       "      <td>Lexington</td>\n",
       "      <td>MA</td>\n",
       "      <td>US</td>\n",
       "      <td>BASTANSCANTAFAC</td>\n",
       "    </tr>\n",
       "    <tr>\n",
       "      <th>2</th>\n",
       "      <td>9992413</td>\n",
       "      <td>raytheon</td>\n",
       "      <td>Waltham</td>\n",
       "      <td>MA</td>\n",
       "      <td>US</td>\n",
       "      <td>RAYTAN</td>\n",
       "    </tr>\n",
       "    <tr>\n",
       "      <th>3</th>\n",
       "      <td>9988932</td>\n",
       "      <td>honeywell international</td>\n",
       "      <td>Waltham</td>\n",
       "      <td>MA</td>\n",
       "      <td>US</td>\n",
       "      <td>HANAYWALANTARNATANAL</td>\n",
       "    </tr>\n",
       "    <tr>\n",
       "      <th>4</th>\n",
       "      <td>9991578</td>\n",
       "      <td>honeywell international</td>\n",
       "      <td>Waltham</td>\n",
       "      <td>MA</td>\n",
       "      <td>US</td>\n",
       "      <td>HANAYWALANTARNATANAL</td>\n",
       "    </tr>\n",
       "    <tr>\n",
       "      <th>5</th>\n",
       "      <td>9989730</td>\n",
       "      <td>honeywell international</td>\n",
       "      <td>Waltham</td>\n",
       "      <td>MA</td>\n",
       "      <td>US</td>\n",
       "      <td>HANAYWALANTARNATANAL</td>\n",
       "    </tr>\n",
       "    <tr>\n",
       "      <th>6</th>\n",
       "      <td>9993577</td>\n",
       "      <td>trustees of boston university</td>\n",
       "      <td>Waltham</td>\n",
       "      <td>MA</td>\n",
       "      <td>US</td>\n",
       "      <td>TRASTASAFBASTANANAVARSATY</td>\n",
       "    </tr>\n",
       "    <tr>\n",
       "      <th>7</th>\n",
       "      <td>9986740</td>\n",
       "      <td>brandeis university</td>\n",
       "      <td>Waltham</td>\n",
       "      <td>MA</td>\n",
       "      <td>US</td>\n",
       "      <td>BRANDASANAVARSATY</td>\n",
       "    </tr>\n",
       "    <tr>\n",
       "      <th>8</th>\n",
       "      <td>9982790</td>\n",
       "      <td>boston dynamics</td>\n",
       "      <td>Waltham</td>\n",
       "      <td>MA</td>\n",
       "      <td>US</td>\n",
       "      <td>BASTANDYNANAC</td>\n",
       "    </tr>\n",
       "    <tr>\n",
       "      <th>9</th>\n",
       "      <td>9992413</td>\n",
       "      <td>raytheon</td>\n",
       "      <td>Los Angeles</td>\n",
       "      <td>CA</td>\n",
       "      <td>US</td>\n",
       "      <td>RAYTAN</td>\n",
       "    </tr>\n",
       "    <tr>\n",
       "      <th>10</th>\n",
       "      <td>9986934</td>\n",
       "      <td>california institute of technology</td>\n",
       "      <td>Los Angeles</td>\n",
       "      <td>CA</td>\n",
       "      <td>US</td>\n",
       "      <td>CALAFARNANSTATATAFTACNALAGY</td>\n",
       "    </tr>\n",
       "    <tr>\n",
       "      <th>11</th>\n",
       "      <td>9995859</td>\n",
       "      <td>california institute of technology</td>\n",
       "      <td>Los Angeles</td>\n",
       "      <td>CA</td>\n",
       "      <td>US</td>\n",
       "      <td>CALAFARNANSTATATAFTACNALAGY</td>\n",
       "    </tr>\n",
       "    <tr>\n",
       "      <th>12</th>\n",
       "      <td>9988653</td>\n",
       "      <td>california institute of technology</td>\n",
       "      <td>Los Angeles</td>\n",
       "      <td>CA</td>\n",
       "      <td>US</td>\n",
       "      <td>CALAFARNANSTATATAFTACNALAGY</td>\n",
       "    </tr>\n",
       "    <tr>\n",
       "      <th>13</th>\n",
       "      <td>9991677</td>\n",
       "      <td>california institute of technology</td>\n",
       "      <td>Los Angeles</td>\n",
       "      <td>CA</td>\n",
       "      <td>US</td>\n",
       "      <td>CALAFARNANSTATATAFTACNALAGY</td>\n",
       "    </tr>\n",
       "    <tr>\n",
       "      <th>14</th>\n",
       "      <td>9983397</td>\n",
       "      <td>california institute of technology</td>\n",
       "      <td>Los Angeles</td>\n",
       "      <td>CA</td>\n",
       "      <td>US</td>\n",
       "      <td>CALAFARNANSTATATAFTACNALAGY</td>\n",
       "    </tr>\n",
       "    <tr>\n",
       "      <th>15</th>\n",
       "      <td>9998658</td>\n",
       "      <td>california institute of technology</td>\n",
       "      <td>Los Angeles</td>\n",
       "      <td>CA</td>\n",
       "      <td>US</td>\n",
       "      <td>CALAFARNANSTATATAFTACNALAGY</td>\n",
       "    </tr>\n",
       "    <tr>\n",
       "      <th>16</th>\n",
       "      <td>9981389</td>\n",
       "      <td>california institute of technology</td>\n",
       "      <td>Los Angeles</td>\n",
       "      <td>CA</td>\n",
       "      <td>US</td>\n",
       "      <td>CALAFARNANSTATATAFTACNALAGY</td>\n",
       "    </tr>\n",
       "    <tr>\n",
       "      <th>17</th>\n",
       "      <td>9993149</td>\n",
       "      <td>california institute of technology</td>\n",
       "      <td>Los Angeles</td>\n",
       "      <td>CA</td>\n",
       "      <td>US</td>\n",
       "      <td>CALAFARNANSTATATAFTACNALAGY</td>\n",
       "    </tr>\n",
       "    <tr>\n",
       "      <th>18</th>\n",
       "      <td>9989680</td>\n",
       "      <td>california institute of technology</td>\n",
       "      <td>Los Angeles</td>\n",
       "      <td>CA</td>\n",
       "      <td>US</td>\n",
       "      <td>CALAFARNANSTATATAFTACNALAGY</td>\n",
       "    </tr>\n",
       "    <tr>\n",
       "      <th>19</th>\n",
       "      <td>9995930</td>\n",
       "      <td>california institute of technology</td>\n",
       "      <td>Los Angeles</td>\n",
       "      <td>CA</td>\n",
       "      <td>US</td>\n",
       "      <td>CALAFARNANSTATATAFTACNALAGY</td>\n",
       "    </tr>\n",
       "  </tbody>\n",
       "</table>\n",
       "</div>"
      ],
      "text/plain": [
       "   patent_id                        organization     org_city org_state  \\\n",
       "0    9992413                            raytheon    Lexington        MA   \n",
       "1    RE45718                   boston scientific    Lexington        MA   \n",
       "2    9992413                            raytheon      Waltham        MA   \n",
       "3    9988932             honeywell international      Waltham        MA   \n",
       "4    9991578             honeywell international      Waltham        MA   \n",
       "5    9989730             honeywell international      Waltham        MA   \n",
       "6    9993577       trustees of boston university      Waltham        MA   \n",
       "7    9986740                 brandeis university      Waltham        MA   \n",
       "8    9982790                     boston dynamics      Waltham        MA   \n",
       "9    9992413                            raytheon  Los Angeles        CA   \n",
       "10   9986934  california institute of technology  Los Angeles        CA   \n",
       "11   9995859  california institute of technology  Los Angeles        CA   \n",
       "12   9988653  california institute of technology  Los Angeles        CA   \n",
       "13   9991677  california institute of technology  Los Angeles        CA   \n",
       "14   9983397  california institute of technology  Los Angeles        CA   \n",
       "15   9998658  california institute of technology  Los Angeles        CA   \n",
       "16   9981389  california institute of technology  Los Angeles        CA   \n",
       "17   9993149  california institute of technology  Los Angeles        CA   \n",
       "18   9989680  california institute of technology  Los Angeles        CA   \n",
       "19   9995930  california institute of technology  Los Angeles        CA   \n",
       "\n",
       "   org_country                 org_phonetic  \n",
       "0           US                       RAYTAN  \n",
       "1           US              BASTANSCANTAFAC  \n",
       "2           US                       RAYTAN  \n",
       "3           US         HANAYWALANTARNATANAL  \n",
       "4           US         HANAYWALANTARNATANAL  \n",
       "5           US         HANAYWALANTARNATANAL  \n",
       "6           US    TRASTASAFBASTANANAVARSATY  \n",
       "7           US            BRANDASANAVARSATY  \n",
       "8           US                BASTANDYNANAC  \n",
       "9           US                       RAYTAN  \n",
       "10          US  CALAFARNANSTATATAFTACNALAGY  \n",
       "11          US  CALAFARNANSTATATAFTACNALAGY  \n",
       "12          US  CALAFARNANSTATATAFTACNALAGY  \n",
       "13          US  CALAFARNANSTATATAFTACNALAGY  \n",
       "14          US  CALAFARNANSTATATAFTACNALAGY  \n",
       "15          US  CALAFARNANSTATATAFTACNALAGY  \n",
       "16          US  CALAFARNANSTATATAFTACNALAGY  \n",
       "17          US  CALAFARNANSTATATAFTACNALAGY  \n",
       "18          US  CALAFARNANSTATATAFTACNALAGY  \n",
       "19          US  CALAFARNANSTATATAFTACNALAGY  "
      ]
     },
     "execution_count": 89,
     "metadata": {},
     "output_type": "execute_result"
    }
   ],
   "source": [
    "assignees['org_phonetic'] = phonetic(assignees['organization'], method=\"nysiis\")\n",
    "assignees.head(20)"
   ]
  },
  {
   "cell_type": "code",
   "execution_count": 90,
   "metadata": {},
   "outputs": [
    {
     "data": {
      "text/html": [
       "<div>\n",
       "<style scoped>\n",
       "    .dataframe tbody tr th:only-of-type {\n",
       "        vertical-align: middle;\n",
       "    }\n",
       "\n",
       "    .dataframe tbody tr th {\n",
       "        vertical-align: top;\n",
       "    }\n",
       "\n",
       "    .dataframe thead th {\n",
       "        text-align: right;\n",
       "    }\n",
       "</style>\n",
       "<table border=\"1\" class=\"dataframe\">\n",
       "  <thead>\n",
       "    <tr style=\"text-align: right;\">\n",
       "      <th></th>\n",
       "      <th>PROJECT_ID</th>\n",
       "      <th>ORGANIZATION_NAME</th>\n",
       "      <th>ORGANIZATION_CITY</th>\n",
       "      <th>ORGANIZATION_STATE</th>\n",
       "      <th>ORGANIZATION_COUNTRY</th>\n",
       "    </tr>\n",
       "  </thead>\n",
       "  <tbody>\n",
       "    <tr>\n",
       "      <th>0</th>\n",
       "      <td>121219</td>\n",
       "      <td>UNIVERSITY OF ARIZONA</td>\n",
       "      <td>TUCSON</td>\n",
       "      <td>AZ</td>\n",
       "      <td>UNITED STATES</td>\n",
       "    </tr>\n",
       "    <tr>\n",
       "      <th>1</th>\n",
       "      <td>121220</td>\n",
       "      <td>OHIO AEROSPACE INSTITUTE</td>\n",
       "      <td>BROOK PARK</td>\n",
       "      <td>OH</td>\n",
       "      <td>UNITED STATES</td>\n",
       "    </tr>\n",
       "    <tr>\n",
       "      <th>2</th>\n",
       "      <td>121221</td>\n",
       "      <td>NORTHWESTERN UNIVERSITY</td>\n",
       "      <td>EVANSTON</td>\n",
       "      <td>IL</td>\n",
       "      <td>UNITED STATES</td>\n",
       "    </tr>\n",
       "    <tr>\n",
       "      <th>3</th>\n",
       "      <td>121222</td>\n",
       "      <td>UNIVERSITY OF CALIFORNIA SANTA CRUZ</td>\n",
       "      <td>SANTA CRUZ</td>\n",
       "      <td>CA</td>\n",
       "      <td>UNITED STATES</td>\n",
       "    </tr>\n",
       "    <tr>\n",
       "      <th>4</th>\n",
       "      <td>121223</td>\n",
       "      <td>UNIVERSITY OF CALIFORNIA IRVINE</td>\n",
       "      <td>IRVINE</td>\n",
       "      <td>CA</td>\n",
       "      <td>UNITED STATES</td>\n",
       "    </tr>\n",
       "  </tbody>\n",
       "</table>\n",
       "</div>"
      ],
      "text/plain": [
       "   PROJECT_ID                    ORGANIZATION_NAME  ORGANIZATION_CITY  \\\n",
       "0      121219                UNIVERSITY OF ARIZONA             TUCSON   \n",
       "1      121220             OHIO AEROSPACE INSTITUTE         BROOK PARK   \n",
       "2      121221              NORTHWESTERN UNIVERSITY           EVANSTON   \n",
       "3      121222  UNIVERSITY OF CALIFORNIA SANTA CRUZ         SANTA CRUZ   \n",
       "4      121223      UNIVERSITY OF CALIFORNIA IRVINE             IRVINE   \n",
       "\n",
       "   ORGANIZATION_STATE  ORGANIZATION_COUNTRY  \n",
       "0                  AZ         UNITED STATES  \n",
       "1                  OH         UNITED STATES  \n",
       "2                  IL         UNITED STATES  \n",
       "3                  CA         UNITED STATES  \n",
       "4                  CA         UNITED STATES  "
      ]
     },
     "execution_count": 90,
     "metadata": {},
     "output_type": "execute_result"
    }
   ],
   "source": [
    "# Clean organization data\n",
    "organizations.head()"
   ]
  },
  {
   "cell_type": "code",
   "execution_count": 95,
   "metadata": {},
   "outputs": [],
   "source": [
    "organizations[' ORGANIZATION_NAME'] = clean(organizations[' ORGANIZATION_NAME'])"
   ]
  },
  {
   "cell_type": "code",
   "execution_count": 100,
   "metadata": {},
   "outputs": [
    {
     "data": {
      "text/plain": [
       "array(['university of arizona', 'ohio aerospace institute',\n",
       "       'northwestern university', ..., 'stemina biomarker discovery inc',\n",
       "       'achaogen inc', 'defense and veterans brain injury center'],\n",
       "      dtype=object)"
      ]
     },
     "execution_count": 100,
     "metadata": {},
     "output_type": "execute_result"
    }
   ],
   "source": [
    "organizations[' ORGANIZATION_NAME'].unique()"
   ]
  },
  {
   "cell_type": "code",
   "execution_count": 102,
   "metadata": {
    "scrolled": true
   },
   "outputs": [
    {
     "data": {
      "text/html": [
       "<div>\n",
       "<style scoped>\n",
       "    .dataframe tbody tr th:only-of-type {\n",
       "        vertical-align: middle;\n",
       "    }\n",
       "\n",
       "    .dataframe tbody tr th {\n",
       "        vertical-align: top;\n",
       "    }\n",
       "\n",
       "    .dataframe thead th {\n",
       "        text-align: right;\n",
       "    }\n",
       "</style>\n",
       "<table border=\"1\" class=\"dataframe\">\n",
       "  <thead>\n",
       "    <tr style=\"text-align: right;\">\n",
       "      <th></th>\n",
       "      <th>PROJECT_ID</th>\n",
       "      <th>ORGANIZATION_NAME</th>\n",
       "      <th>ORGANIZATION_CITY</th>\n",
       "      <th>ORGANIZATION_STATE</th>\n",
       "      <th>ORGANIZATION_COUNTRY</th>\n",
       "      <th>org_phonetic</th>\n",
       "    </tr>\n",
       "  </thead>\n",
       "  <tbody>\n",
       "    <tr>\n",
       "      <th>0</th>\n",
       "      <td>121219</td>\n",
       "      <td>university of arizona</td>\n",
       "      <td>TUCSON</td>\n",
       "      <td>AZ</td>\n",
       "      <td>UNITED STATES</td>\n",
       "      <td>UNAVARSATYAFARASAN</td>\n",
       "    </tr>\n",
       "    <tr>\n",
       "      <th>1</th>\n",
       "      <td>121220</td>\n",
       "      <td>ohio aerospace institute</td>\n",
       "      <td>BROOK PARK</td>\n",
       "      <td>OH</td>\n",
       "      <td>UNITED STATES</td>\n",
       "      <td>OHARASPACANSTATAT</td>\n",
       "    </tr>\n",
       "    <tr>\n",
       "      <th>2</th>\n",
       "      <td>121221</td>\n",
       "      <td>northwestern university</td>\n",
       "      <td>EVANSTON</td>\n",
       "      <td>IL</td>\n",
       "      <td>UNITED STATES</td>\n",
       "      <td>NARTWASTARNANAVARSATY</td>\n",
       "    </tr>\n",
       "    <tr>\n",
       "      <th>3</th>\n",
       "      <td>121222</td>\n",
       "      <td>university of california santa cruz</td>\n",
       "      <td>SANTA CRUZ</td>\n",
       "      <td>CA</td>\n",
       "      <td>UNITED STATES</td>\n",
       "      <td>UNAVARSATYAFCALAFARNASANTACR</td>\n",
       "    </tr>\n",
       "    <tr>\n",
       "      <th>4</th>\n",
       "      <td>121223</td>\n",
       "      <td>university of california irvine</td>\n",
       "      <td>IRVINE</td>\n",
       "      <td>CA</td>\n",
       "      <td>UNITED STATES</td>\n",
       "      <td>UNAVARSATYAFCALAFARNARVAN</td>\n",
       "    </tr>\n",
       "    <tr>\n",
       "      <th>5</th>\n",
       "      <td>121224</td>\n",
       "      <td>georgia state university</td>\n",
       "      <td>ATLANTA</td>\n",
       "      <td>GA</td>\n",
       "      <td>UNITED STATES</td>\n",
       "      <td>GARGASTATANAVARSATY</td>\n",
       "    </tr>\n",
       "    <tr>\n",
       "      <th>6</th>\n",
       "      <td>121225</td>\n",
       "      <td>virginia commonwealth university</td>\n",
       "      <td>RICHMOND</td>\n",
       "      <td>VA</td>\n",
       "      <td>UNITED STATES</td>\n",
       "      <td>VARGANACANANWALTANAVARSATY</td>\n",
       "    </tr>\n",
       "    <tr>\n",
       "      <th>7</th>\n",
       "      <td>121226</td>\n",
       "      <td>montana state university bozeman</td>\n",
       "      <td>BOZEMAN</td>\n",
       "      <td>MT</td>\n",
       "      <td>UNITED STATES</td>\n",
       "      <td>MANTANASTATANAVARSATYBASANAN</td>\n",
       "    </tr>\n",
       "    <tr>\n",
       "      <th>8</th>\n",
       "      <td>121227</td>\n",
       "      <td>mount holyoke college</td>\n",
       "      <td>SOUTH HADLEY</td>\n",
       "      <td>MA</td>\n",
       "      <td>UNITED STATES</td>\n",
       "      <td>MANTALYACACALAG</td>\n",
       "    </tr>\n",
       "    <tr>\n",
       "      <th>9</th>\n",
       "      <td>121228</td>\n",
       "      <td>university of alaska fairbanks</td>\n",
       "      <td>FAIRBANKS</td>\n",
       "      <td>AK</td>\n",
       "      <td>UNITED STATES</td>\n",
       "      <td>UNAVARSATYAFALASCAFARBANC</td>\n",
       "    </tr>\n",
       "    <tr>\n",
       "      <th>10</th>\n",
       "      <td>121229</td>\n",
       "      <td>university of montana</td>\n",
       "      <td>MISSOULA</td>\n",
       "      <td>MT</td>\n",
       "      <td>UNITED STATES</td>\n",
       "      <td>UNAVARSATYAFNANTAN</td>\n",
       "    </tr>\n",
       "    <tr>\n",
       "      <th>11</th>\n",
       "      <td>121230</td>\n",
       "      <td>university of massachusetts boston</td>\n",
       "      <td>LOWELL</td>\n",
       "      <td>MA</td>\n",
       "      <td>UNITED STATES</td>\n",
       "      <td>UNAVARSATYAFNASACASATSBASTAN</td>\n",
       "    </tr>\n",
       "    <tr>\n",
       "      <th>12</th>\n",
       "      <td>121231</td>\n",
       "      <td>kansas state university</td>\n",
       "      <td>MANHATTAN</td>\n",
       "      <td>KS</td>\n",
       "      <td>UNITED STATES</td>\n",
       "      <td>CANSASTATANAVARSATY</td>\n",
       "    </tr>\n",
       "    <tr>\n",
       "      <th>13</th>\n",
       "      <td>121232</td>\n",
       "      <td>new jersey institute of technology</td>\n",
       "      <td>NEWARK</td>\n",
       "      <td>NJ</td>\n",
       "      <td>UNITED STATES</td>\n",
       "      <td>NAEJARSAYANSTATATAFTACNALAGY</td>\n",
       "    </tr>\n",
       "    <tr>\n",
       "      <th>14</th>\n",
       "      <td>121233</td>\n",
       "      <td>consortium for ocean leadership</td>\n",
       "      <td>WASHINGTON</td>\n",
       "      <td>DC</td>\n",
       "      <td>UNITED STATES</td>\n",
       "      <td>CANSARTANFARACANLADARSAP</td>\n",
       "    </tr>\n",
       "    <tr>\n",
       "      <th>15</th>\n",
       "      <td>121234</td>\n",
       "      <td>rochester institute of technology</td>\n",
       "      <td>ROCHESTER</td>\n",
       "      <td>NY</td>\n",
       "      <td>UNITED STATES</td>\n",
       "      <td>RACASTARANSTATATAFTACNALAGY</td>\n",
       "    </tr>\n",
       "    <tr>\n",
       "      <th>16</th>\n",
       "      <td>121235</td>\n",
       "      <td>educational broadcasting</td>\n",
       "      <td>NEW YORK</td>\n",
       "      <td>NY</td>\n",
       "      <td>UNITED STATES</td>\n",
       "      <td>EDACATANALBRADCASTANG</td>\n",
       "    </tr>\n",
       "    <tr>\n",
       "      <th>17</th>\n",
       "      <td>121236</td>\n",
       "      <td>university of florida</td>\n",
       "      <td>GAINESVILLE</td>\n",
       "      <td>FL</td>\n",
       "      <td>UNITED STATES</td>\n",
       "      <td>UNAVARSATYAFLARAD</td>\n",
       "    </tr>\n",
       "    <tr>\n",
       "      <th>18</th>\n",
       "      <td>121237</td>\n",
       "      <td>university of california san diego</td>\n",
       "      <td>LA JOLLA</td>\n",
       "      <td>CA</td>\n",
       "      <td>UNITED STATES</td>\n",
       "      <td>UNAVARSATYAFCALAFARNASANDAG</td>\n",
       "    </tr>\n",
       "    <tr>\n",
       "      <th>19</th>\n",
       "      <td>121238</td>\n",
       "      <td>optoelectronics industry development association</td>\n",
       "      <td>WASHINGTON</td>\n",
       "      <td>DC</td>\n",
       "      <td>UNITED STATES</td>\n",
       "      <td>OPTALACTRANACSANDASTRYDAFALAPNANTASACATAN</td>\n",
       "    </tr>\n",
       "  </tbody>\n",
       "</table>\n",
       "</div>"
      ],
      "text/plain": [
       "    PROJECT_ID                                 ORGANIZATION_NAME  \\\n",
       "0       121219                             university of arizona   \n",
       "1       121220                          ohio aerospace institute   \n",
       "2       121221                           northwestern university   \n",
       "3       121222               university of california santa cruz   \n",
       "4       121223                   university of california irvine   \n",
       "5       121224                          georgia state university   \n",
       "6       121225                  virginia commonwealth university   \n",
       "7       121226                  montana state university bozeman   \n",
       "8       121227                             mount holyoke college   \n",
       "9       121228                    university of alaska fairbanks   \n",
       "10      121229                             university of montana   \n",
       "11      121230                university of massachusetts boston   \n",
       "12      121231                           kansas state university   \n",
       "13      121232                new jersey institute of technology   \n",
       "14      121233                   consortium for ocean leadership   \n",
       "15      121234                 rochester institute of technology   \n",
       "16      121235                          educational broadcasting   \n",
       "17      121236                             university of florida   \n",
       "18      121237                university of california san diego   \n",
       "19      121238  optoelectronics industry development association   \n",
       "\n",
       "    ORGANIZATION_CITY  ORGANIZATION_STATE  ORGANIZATION_COUNTRY  \\\n",
       "0              TUCSON                  AZ         UNITED STATES   \n",
       "1          BROOK PARK                  OH         UNITED STATES   \n",
       "2            EVANSTON                  IL         UNITED STATES   \n",
       "3          SANTA CRUZ                  CA         UNITED STATES   \n",
       "4              IRVINE                  CA         UNITED STATES   \n",
       "5             ATLANTA                  GA         UNITED STATES   \n",
       "6            RICHMOND                  VA         UNITED STATES   \n",
       "7             BOZEMAN                  MT         UNITED STATES   \n",
       "8        SOUTH HADLEY                  MA         UNITED STATES   \n",
       "9           FAIRBANKS                  AK         UNITED STATES   \n",
       "10           MISSOULA                  MT         UNITED STATES   \n",
       "11             LOWELL                  MA         UNITED STATES   \n",
       "12          MANHATTAN                  KS         UNITED STATES   \n",
       "13             NEWARK                  NJ         UNITED STATES   \n",
       "14         WASHINGTON                  DC         UNITED STATES   \n",
       "15          ROCHESTER                  NY         UNITED STATES   \n",
       "16           NEW YORK                  NY         UNITED STATES   \n",
       "17        GAINESVILLE                  FL         UNITED STATES   \n",
       "18           LA JOLLA                  CA         UNITED STATES   \n",
       "19         WASHINGTON                  DC         UNITED STATES   \n",
       "\n",
       "                                 org_phonetic  \n",
       "0                          UNAVARSATYAFARASAN  \n",
       "1                           OHARASPACANSTATAT  \n",
       "2                       NARTWASTARNANAVARSATY  \n",
       "3                UNAVARSATYAFCALAFARNASANTACR  \n",
       "4                   UNAVARSATYAFCALAFARNARVAN  \n",
       "5                         GARGASTATANAVARSATY  \n",
       "6                  VARGANACANANWALTANAVARSATY  \n",
       "7                MANTANASTATANAVARSATYBASANAN  \n",
       "8                             MANTALYACACALAG  \n",
       "9                   UNAVARSATYAFALASCAFARBANC  \n",
       "10                         UNAVARSATYAFNANTAN  \n",
       "11               UNAVARSATYAFNASACASATSBASTAN  \n",
       "12                        CANSASTATANAVARSATY  \n",
       "13               NAEJARSAYANSTATATAFTACNALAGY  \n",
       "14                   CANSARTANFARACANLADARSAP  \n",
       "15                RACASTARANSTATATAFTACNALAGY  \n",
       "16                      EDACATANALBRADCASTANG  \n",
       "17                          UNAVARSATYAFLARAD  \n",
       "18                UNAVARSATYAFCALAFARNASANDAG  \n",
       "19  OPTALACTRANACSANDASTRYDAFALAPNANTASACATAN  "
      ]
     },
     "execution_count": 102,
     "metadata": {},
     "output_type": "execute_result"
    }
   ],
   "source": [
    "organizations[' ORGANIZATION_NAME']=organizations[' ORGANIZATION_NAME'].str.replace('company','')\n",
    "organizations[' ORGANIZATION_NAME']=organizations[' ORGANIZATION_NAME'].str.replace('corporation','')\n",
    "organizations[' ORGANIZATION_NAME']=organizations[' ORGANIZATION_NAME'].str.replace('the ','')\n",
    "organizations[' ORGANIZATION_NAME']=organizations[' ORGANIZATION_NAME'].str.replace(' llc','')\n",
    "organizations[' ORGANIZATION_NAME']=organizations[' ORGANIZATION_NAME'].str.replace(' inc','')\n",
    "organizations[' ORGANIZATION_NAME'] = clean(organizations[' ORGANIZATION_NAME'])\n",
    "organizations['org_phonetic'] = phonetic(organizations[' ORGANIZATION_NAME'], method=\"nysiis\")\n",
    "organizations.head(20)"
   ]
  },
  {
   "cell_type": "code",
   "execution_count": 106,
   "metadata": {},
   "outputs": [],
   "source": [
    "#Merging\n",
    "merge_org = assignees.merge(organizations,on=['org_phonetic'])"
   ]
  },
  {
   "cell_type": "code",
   "execution_count": 108,
   "metadata": {},
   "outputs": [
    {
     "data": {
      "text/plain": [
       "195"
      ]
     },
     "execution_count": 108,
     "metadata": {},
     "output_type": "execute_result"
    }
   ],
   "source": [
    "merge_org['patent_id'].nunique()"
   ]
  },
  {
   "cell_type": "code",
   "execution_count": 112,
   "metadata": {},
   "outputs": [
    {
     "data": {
      "text/plain": [
       "582"
      ]
     },
     "execution_count": 112,
     "metadata": {},
     "output_type": "execute_result"
    }
   ],
   "source": [
    "assignees['patent_id'].nunique()"
   ]
  },
  {
   "cell_type": "code",
   "execution_count": 111,
   "metadata": {},
   "outputs": [
    {
     "data": {
      "text/plain": [
       "0.33505154639175255"
      ]
     },
     "execution_count": 111,
     "metadata": {},
     "output_type": "execute_result"
    }
   ],
   "source": [
    "#How many patents issued bwt 2015-2019 are from organizations that received grants in 2010\n",
    "merge_org['patent_id'].nunique()/assignees['patent_id'].nunique()"
   ]
  },
  {
   "cell_type": "code",
   "execution_count": 115,
   "metadata": {},
   "outputs": [
    {
     "data": {
      "text/plain": [
       "0.19348313378164125"
      ]
     },
     "execution_count": 115,
     "metadata": {},
     "output_type": "execute_result"
    }
   ],
   "source": [
    "#How many granted projects in 2010 are from the organizations that gained patents bwt 2015-2019\n",
    "merge_org['PROJECT_ID'].nunique()/organizations['PROJECT_ID'].nunique()"
   ]
  },
  {
   "cell_type": "markdown",
   "metadata": {},
   "source": [
    "# Deterministic Matching"
   ]
  },
  {
   "cell_type": "markdown",
   "metadata": {},
   "source": [
    "### Individual-level links"
   ]
  },
  {
   "cell_type": "markdown",
   "metadata": {},
   "source": [
    "Let's first do an exact match (merge) on the **first, middle, last name** and examine the results."
   ]
  },
  {
   "cell_type": "code",
   "execution_count": 116,
   "metadata": {
    "ExecuteTime": {
     "end_time": "2020-01-24T14:08:37.455461Z",
     "start_time": "2020-01-24T14:08:37.191526Z"
    }
   },
   "outputs": [],
   "source": [
    "# Merge on first, middle, last name\n",
    "merge_name = inventors.merge(pi,on=['name_first','name_last','name_middle'])"
   ]
  },
  {
   "cell_type": "markdown",
   "metadata": {},
   "source": [
    "Let's count how many unique inventor IDs and PI names got matched."
   ]
  },
  {
   "cell_type": "code",
   "execution_count": 117,
   "metadata": {
    "ExecuteTime": {
     "end_time": "2020-01-24T14:08:38.330109Z",
     "start_time": "2020-01-24T14:08:38.321829Z"
    }
   },
   "outputs": [
    {
     "data": {
      "text/plain": [
       "250"
      ]
     },
     "execution_count": 117,
     "metadata": {},
     "output_type": "execute_result"
    }
   ],
   "source": [
    "# Let's check the count of unique inventor_ids\n",
    "merge_name['inventor_id'].nunique()"
   ]
  },
  {
   "cell_type": "markdown",
   "metadata": {},
   "source": [
    "We can now merge on the **phonetic first, middle, last name**."
   ]
  },
  {
   "cell_type": "code",
   "execution_count": 118,
   "metadata": {
    "ExecuteTime": {
     "end_time": "2020-01-24T14:08:40.630385Z",
     "start_time": "2020-01-24T14:08:40.477841Z"
    }
   },
   "outputs": [],
   "source": [
    "# Merge on phonetic first, middle, last name\n",
    "merge_name_phonetic_middle = inventors.merge(pi,on=['phonetic_first','phonetic_last','phonetic_middle'])"
   ]
  },
  {
   "cell_type": "code",
   "execution_count": 119,
   "metadata": {
    "ExecuteTime": {
     "end_time": "2020-01-24T14:08:41.146596Z",
     "start_time": "2020-01-24T14:08:41.140676Z"
    }
   },
   "outputs": [
    {
     "data": {
      "text/plain": [
       "307"
      ]
     },
     "execution_count": 119,
     "metadata": {},
     "output_type": "execute_result"
    }
   ],
   "source": [
    "# Let's check the count of unique inventor_ids\n",
    "merge_name_phonetic_middle['inventor_id'].nunique()"
   ]
  },
  {
   "cell_type": "markdown",
   "metadata": {},
   "source": [
    "You can enlarge your links and only merge on **first and last name**."
   ]
  },
  {
   "cell_type": "code",
   "execution_count": 120,
   "metadata": {
    "ExecuteTime": {
     "end_time": "2020-01-24T14:08:44.588372Z",
     "start_time": "2020-01-24T14:08:44.434250Z"
    }
   },
   "outputs": [],
   "source": [
    "merge_name_first_last = inventors.merge(pi,on=['name_first','name_last'])"
   ]
  },
  {
   "cell_type": "code",
   "execution_count": 121,
   "metadata": {
    "ExecuteTime": {
     "end_time": "2020-01-24T14:08:45.109034Z",
     "start_time": "2020-01-24T14:08:45.100831Z"
    }
   },
   "outputs": [
    {
     "data": {
      "text/plain": [
       "384"
      ]
     },
     "execution_count": 121,
     "metadata": {},
     "output_type": "execute_result"
    }
   ],
   "source": [
    "# Check the counts\n",
    "merge_name_first_last['inventor_id'].nunique()"
   ]
  },
  {
   "cell_type": "markdown",
   "metadata": {},
   "source": [
    "You can also try merging on **phonetic first and last name**."
   ]
  },
  {
   "cell_type": "code",
   "execution_count": 122,
   "metadata": {
    "ExecuteTime": {
     "end_time": "2020-01-24T14:08:47.160148Z",
     "start_time": "2020-01-24T14:08:47.014443Z"
    }
   },
   "outputs": [],
   "source": [
    "merge_name_phonetic = inventors.merge(pi,on=['phonetic_first','phonetic_last'])"
   ]
  },
  {
   "cell_type": "code",
   "execution_count": 123,
   "metadata": {
    "ExecuteTime": {
     "end_time": "2020-01-24T14:08:47.679196Z",
     "start_time": "2020-01-24T14:08:47.671819Z"
    }
   },
   "outputs": [
    {
     "data": {
      "text/plain": [
       "537"
      ]
     },
     "execution_count": 123,
     "metadata": {},
     "output_type": "execute_result"
    }
   ],
   "source": [
    "merge_name_phonetic['inventor_id'].nunique()"
   ]
  },
  {
   "cell_type": "markdown",
   "metadata": {},
   "source": [
    "What if we blocked by state?"
   ]
  },
  {
   "cell_type": "code",
   "execution_count": 124,
   "metadata": {
    "ExecuteTime": {
     "end_time": "2020-01-24T14:08:50.702811Z",
     "start_time": "2020-01-24T14:08:50.568627Z"
    }
   },
   "outputs": [],
   "source": [
    "# Rename columns in both datasets to the same name\n",
    "inventors = inventors.rename(columns={'inventor_state':'state'})\n",
    "pi = pi.rename(columns={' ORGANIZATION_STATE':'state'})"
   ]
  },
  {
   "cell_type": "markdown",
   "metadata": {
    "ExecuteTime": {
     "end_time": "2020-01-23T01:13:34.620172Z",
     "start_time": "2020-01-23T01:13:34.611235Z"
    }
   },
   "source": [
    "Merge on **first, middle, last name, and state**."
   ]
  },
  {
   "cell_type": "code",
   "execution_count": 125,
   "metadata": {
    "ExecuteTime": {
     "end_time": "2020-01-24T14:08:54.368754Z",
     "start_time": "2020-01-24T14:08:54.220228Z"
    }
   },
   "outputs": [],
   "source": [
    "merge_name_state = inventors.merge(pi,on=['name_first','name_last','name_middle','state'])"
   ]
  },
  {
   "cell_type": "markdown",
   "metadata": {},
   "source": [
    "How many matches did we get?"
   ]
  },
  {
   "cell_type": "code",
   "execution_count": 126,
   "metadata": {
    "ExecuteTime": {
     "end_time": "2020-01-24T14:08:55.457575Z",
     "start_time": "2020-01-24T14:08:55.449147Z"
    }
   },
   "outputs": [
    {
     "data": {
      "text/plain": [
       "221"
      ]
     },
     "execution_count": 126,
     "metadata": {},
     "output_type": "execute_result"
    }
   ],
   "source": [
    "merge_name_state['inventor_id'].nunique()"
   ]
  },
  {
   "cell_type": "code",
   "execution_count": 127,
   "metadata": {
    "ExecuteTime": {
     "end_time": "2020-01-24T14:09:00.618563Z",
     "start_time": "2020-01-24T14:09:00.460766Z"
    }
   },
   "outputs": [],
   "source": [
    "merge_phonetic_name_state = inventors.merge(pi,on=['phonetic_first','phonetic_last','phonetic_middle','state'])"
   ]
  },
  {
   "cell_type": "code",
   "execution_count": 128,
   "metadata": {
    "ExecuteTime": {
     "end_time": "2020-01-24T14:09:01.130691Z",
     "start_time": "2020-01-24T14:09:01.124743Z"
    }
   },
   "outputs": [
    {
     "data": {
      "text/plain": [
       "244"
      ]
     },
     "execution_count": 128,
     "metadata": {},
     "output_type": "execute_result"
    }
   ],
   "source": [
    "merge_phonetic_name_state['inventor_id'].nunique()"
   ]
  },
  {
   "cell_type": "markdown",
   "metadata": {},
   "source": [
    "Now let's try blocking by **full name, city and state**."
   ]
  },
  {
   "cell_type": "code",
   "execution_count": 129,
   "metadata": {
    "ExecuteTime": {
     "end_time": "2020-01-24T14:09:08.334950Z",
     "start_time": "2020-01-24T14:09:08.295112Z"
    }
   },
   "outputs": [
    {
     "data": {
      "text/html": [
       "<div>\n",
       "<style scoped>\n",
       "    .dataframe tbody tr th:only-of-type {\n",
       "        vertical-align: middle;\n",
       "    }\n",
       "\n",
       "    .dataframe tbody tr th {\n",
       "        vertical-align: top;\n",
       "    }\n",
       "\n",
       "    .dataframe thead th {\n",
       "        text-align: right;\n",
       "    }\n",
       "</style>\n",
       "<table border=\"1\" class=\"dataframe\">\n",
       "  <thead>\n",
       "    <tr style=\"text-align: right;\">\n",
       "      <th></th>\n",
       "      <th>patent_id</th>\n",
       "      <th>year</th>\n",
       "      <th>inventor_id</th>\n",
       "      <th>name_first</th>\n",
       "      <th>name_last</th>\n",
       "      <th>inventor_city</th>\n",
       "      <th>state</th>\n",
       "      <th>inventor_country</th>\n",
       "      <th>name_middle</th>\n",
       "      <th>phonetic_first</th>\n",
       "      <th>phonetic_last</th>\n",
       "      <th>phonetic_middle</th>\n",
       "    </tr>\n",
       "  </thead>\n",
       "  <tbody>\n",
       "    <tr>\n",
       "      <th>3</th>\n",
       "      <td>9980641</td>\n",
       "      <td>2018</td>\n",
       "      <td>5321501-6</td>\n",
       "      <td>joel</td>\n",
       "      <td>schuman</td>\n",
       "      <td>Pittsburgh</td>\n",
       "      <td>PA</td>\n",
       "      <td>US</td>\n",
       "      <td>s</td>\n",
       "      <td>JAL</td>\n",
       "      <td>SANAN</td>\n",
       "      <td>S</td>\n",
       "    </tr>\n",
       "    <tr>\n",
       "      <th>4</th>\n",
       "      <td>9980641</td>\n",
       "      <td>2018</td>\n",
       "      <td>9980641-3</td>\n",
       "      <td>lawrence</td>\n",
       "      <td>kagemann</td>\n",
       "      <td>Pittsburgh</td>\n",
       "      <td>PA</td>\n",
       "      <td>US</td>\n",
       "      <td>edward</td>\n",
       "      <td>LARANC</td>\n",
       "      <td>CAGANAN</td>\n",
       "      <td>EDWAD</td>\n",
       "    </tr>\n",
       "    <tr>\n",
       "      <th>5</th>\n",
       "      <td>9980645</td>\n",
       "      <td>2018</td>\n",
       "      <td>9037248-2</td>\n",
       "      <td>brian</td>\n",
       "      <td>wodlinger</td>\n",
       "      <td>Pittsburgh</td>\n",
       "      <td>PA</td>\n",
       "      <td>US</td>\n",
       "      <td>NaN</td>\n",
       "      <td>BRAN</td>\n",
       "      <td>WADLANGAR</td>\n",
       "      <td>NaN</td>\n",
       "    </tr>\n",
       "    <tr>\n",
       "      <th>6</th>\n",
       "      <td>9981048</td>\n",
       "      <td>2018</td>\n",
       "      <td>9981048-1</td>\n",
       "      <td>ira</td>\n",
       "      <td>fox</td>\n",
       "      <td>Pittsburgh</td>\n",
       "      <td>PA</td>\n",
       "      <td>US</td>\n",
       "      <td>jacob</td>\n",
       "      <td>IR</td>\n",
       "      <td>FAX</td>\n",
       "      <td>JACAB</td>\n",
       "    </tr>\n",
       "    <tr>\n",
       "      <th>7</th>\n",
       "      <td>9981048</td>\n",
       "      <td>2018</td>\n",
       "      <td>9981048-3</td>\n",
       "      <td>taichiro</td>\n",
       "      <td>nishikawa</td>\n",
       "      <td>Pittsburgh</td>\n",
       "      <td>PA</td>\n",
       "      <td>US</td>\n",
       "      <td>n</td>\n",
       "      <td>TACAR</td>\n",
       "      <td>NASAC</td>\n",
       "      <td>N</td>\n",
       "    </tr>\n",
       "  </tbody>\n",
       "</table>\n",
       "</div>"
      ],
      "text/plain": [
       "  patent_id  year inventor_id name_first  name_last inventor_city state  \\\n",
       "3   9980641  2018   5321501-6       joel    schuman    Pittsburgh    PA   \n",
       "4   9980641  2018   9980641-3   lawrence   kagemann    Pittsburgh    PA   \n",
       "5   9980645  2018   9037248-2      brian  wodlinger    Pittsburgh    PA   \n",
       "6   9981048  2018   9981048-1        ira        fox    Pittsburgh    PA   \n",
       "7   9981048  2018   9981048-3   taichiro  nishikawa    Pittsburgh    PA   \n",
       "\n",
       "  inventor_country name_middle phonetic_first phonetic_last phonetic_middle  \n",
       "3               US           s            JAL         SANAN               S  \n",
       "4               US      edward         LARANC       CAGANAN           EDWAD  \n",
       "5               US         NaN           BRAN     WADLANGAR             NaN  \n",
       "6               US       jacob             IR           FAX           JACAB  \n",
       "7               US           n          TACAR         NASAC               N  "
      ]
     },
     "execution_count": 129,
     "metadata": {},
     "output_type": "execute_result"
    }
   ],
   "source": [
    "inventors.head()"
   ]
  },
  {
   "cell_type": "code",
   "execution_count": 130,
   "metadata": {
    "ExecuteTime": {
     "end_time": "2020-01-24T14:09:13.738365Z",
     "start_time": "2020-01-24T14:09:13.712641Z"
    }
   },
   "outputs": [
    {
     "data": {
      "text/html": [
       "<div>\n",
       "<style scoped>\n",
       "    .dataframe tbody tr th:only-of-type {\n",
       "        vertical-align: middle;\n",
       "    }\n",
       "\n",
       "    .dataframe tbody tr th {\n",
       "        vertical-align: top;\n",
       "    }\n",
       "\n",
       "    .dataframe thead th {\n",
       "        text-align: right;\n",
       "    }\n",
       "</style>\n",
       "<table border=\"1\" class=\"dataframe\">\n",
       "  <thead>\n",
       "    <tr style=\"text-align: right;\">\n",
       "      <th></th>\n",
       "      <th>PROJECT_ID</th>\n",
       "      <th>CONTACT_PI_PROJECT_LEADER</th>\n",
       "      <th>OTHER_PIS</th>\n",
       "      <th>ORGANIZATION_CITY</th>\n",
       "      <th>state</th>\n",
       "      <th>ORGANIZATION_COUNTRY</th>\n",
       "      <th>name_first</th>\n",
       "      <th>name_last</th>\n",
       "      <th>name_middle</th>\n",
       "      <th>phonetic_first</th>\n",
       "      <th>phonetic_last</th>\n",
       "      <th>phonetic_middle</th>\n",
       "    </tr>\n",
       "  </thead>\n",
       "  <tbody>\n",
       "    <tr>\n",
       "      <th>0</th>\n",
       "      <td>121219</td>\n",
       "      <td>poirer david</td>\n",
       "      <td>NaN</td>\n",
       "      <td>TUCSON</td>\n",
       "      <td>AZ</td>\n",
       "      <td>UNITED STATES</td>\n",
       "      <td>david</td>\n",
       "      <td>poirer</td>\n",
       "      <td>NaN</td>\n",
       "      <td>DAVAD</td>\n",
       "      <td>PARAR</td>\n",
       "      <td>NaN</td>\n",
       "    </tr>\n",
       "    <tr>\n",
       "      <th>1</th>\n",
       "      <td>121220</td>\n",
       "      <td>heyward ann o</td>\n",
       "      <td>NaN</td>\n",
       "      <td>BROOK PARK</td>\n",
       "      <td>OH</td>\n",
       "      <td>UNITED STATES</td>\n",
       "      <td>ann</td>\n",
       "      <td>heyward</td>\n",
       "      <td>o</td>\n",
       "      <td>AN</td>\n",
       "      <td>HAYWAD</td>\n",
       "      <td>O</td>\n",
       "    </tr>\n",
       "    <tr>\n",
       "      <th>2</th>\n",
       "      <td>121221</td>\n",
       "      <td>kalogera vassiliki</td>\n",
       "      <td>LUIJTEN, ERIK</td>\n",
       "      <td>EVANSTON</td>\n",
       "      <td>IL</td>\n",
       "      <td>UNITED STATES</td>\n",
       "      <td>vassiliki</td>\n",
       "      <td>kalogera</td>\n",
       "      <td>NaN</td>\n",
       "      <td>VASALAC</td>\n",
       "      <td>CALAGAR</td>\n",
       "      <td>NaN</td>\n",
       "    </tr>\n",
       "    <tr>\n",
       "      <th>3</th>\n",
       "      <td>121222</td>\n",
       "      <td>guilderson thomas p</td>\n",
       "      <td>NaN</td>\n",
       "      <td>SANTA CRUZ</td>\n",
       "      <td>CA</td>\n",
       "      <td>UNITED STATES</td>\n",
       "      <td>thomas</td>\n",
       "      <td>guilderson</td>\n",
       "      <td>p</td>\n",
       "      <td>TAN</td>\n",
       "      <td>GALDARSAN</td>\n",
       "      <td>P</td>\n",
       "    </tr>\n",
       "    <tr>\n",
       "      <th>4</th>\n",
       "      <td>121223</td>\n",
       "      <td>hayes gillian</td>\n",
       "      <td>TENTORI, MONICA</td>\n",
       "      <td>IRVINE</td>\n",
       "      <td>CA</td>\n",
       "      <td>UNITED STATES</td>\n",
       "      <td>gillian</td>\n",
       "      <td>hayes</td>\n",
       "      <td>NaN</td>\n",
       "      <td>GALAN</td>\n",
       "      <td>HAY</td>\n",
       "      <td>NaN</td>\n",
       "    </tr>\n",
       "  </tbody>\n",
       "</table>\n",
       "</div>"
      ],
      "text/plain": [
       "   PROJECT_ID  CONTACT_PI_PROJECT_LEADER        OTHER_PIS  ORGANIZATION_CITY  \\\n",
       "0      121219               poirer david              NaN             TUCSON   \n",
       "1      121220              heyward ann o              NaN         BROOK PARK   \n",
       "2      121221         kalogera vassiliki    LUIJTEN, ERIK           EVANSTON   \n",
       "3      121222        guilderson thomas p              NaN         SANTA CRUZ   \n",
       "4      121223              hayes gillian  TENTORI, MONICA             IRVINE   \n",
       "\n",
       "  state  ORGANIZATION_COUNTRY name_first   name_last name_middle  \\\n",
       "0    AZ         UNITED STATES      david      poirer         NaN   \n",
       "1    OH         UNITED STATES        ann     heyward           o   \n",
       "2    IL         UNITED STATES  vassiliki    kalogera         NaN   \n",
       "3    CA         UNITED STATES     thomas  guilderson           p   \n",
       "4    CA         UNITED STATES    gillian       hayes         NaN   \n",
       "\n",
       "  phonetic_first phonetic_last phonetic_middle  \n",
       "0          DAVAD         PARAR             NaN  \n",
       "1             AN        HAYWAD               O  \n",
       "2        VASALAC       CALAGAR             NaN  \n",
       "3            TAN     GALDARSAN               P  \n",
       "4          GALAN           HAY             NaN  "
      ]
     },
     "execution_count": 130,
     "metadata": {},
     "output_type": "execute_result"
    }
   ],
   "source": [
    "pi.head()"
   ]
  },
  {
   "cell_type": "code",
   "execution_count": 131,
   "metadata": {
    "ExecuteTime": {
     "end_time": "2020-01-24T14:09:17.286825Z",
     "start_time": "2020-01-24T14:09:17.273931Z"
    }
   },
   "outputs": [],
   "source": [
    "inventors['inventor_city'] = inventors['inventor_city'].str.upper()"
   ]
  },
  {
   "cell_type": "code",
   "execution_count": 132,
   "metadata": {
    "ExecuteTime": {
     "end_time": "2020-01-24T14:09:17.954049Z",
     "start_time": "2020-01-24T14:09:17.934740Z"
    }
   },
   "outputs": [],
   "source": [
    "inventors = inventors.rename(columns={'inventor_city':'city'})"
   ]
  },
  {
   "cell_type": "code",
   "execution_count": 133,
   "metadata": {
    "ExecuteTime": {
     "end_time": "2020-01-24T14:09:19.102560Z",
     "start_time": "2020-01-24T14:09:18.953622Z"
    }
   },
   "outputs": [],
   "source": [
    "pi = pi.rename(columns={' ORGANIZATION_CITY':'city'})"
   ]
  },
  {
   "cell_type": "code",
   "execution_count": 134,
   "metadata": {
    "ExecuteTime": {
     "end_time": "2020-01-24T14:09:19.805744Z",
     "start_time": "2020-01-24T14:09:19.634521Z"
    }
   },
   "outputs": [],
   "source": [
    "merge_name_location_city = inventors.merge(pi, on=['name_first','name_last','name_middle','state','city'])"
   ]
  },
  {
   "cell_type": "markdown",
   "metadata": {},
   "source": [
    "How many matches did we get?"
   ]
  },
  {
   "cell_type": "code",
   "execution_count": 135,
   "metadata": {
    "ExecuteTime": {
     "end_time": "2020-01-24T14:09:20.358641Z",
     "start_time": "2020-01-24T14:09:20.351231Z"
    }
   },
   "outputs": [
    {
     "data": {
      "text/plain": [
       "135"
      ]
     },
     "execution_count": 135,
     "metadata": {},
     "output_type": "execute_result"
    }
   ],
   "source": [
    "merge_name_location_city['inventor_id'].nunique()"
   ]
  },
  {
   "cell_type": "code",
   "execution_count": 136,
   "metadata": {
    "ExecuteTime": {
     "end_time": "2020-01-24T14:09:21.053118Z",
     "start_time": "2020-01-24T14:09:20.885688Z"
    }
   },
   "outputs": [],
   "source": [
    "merge_phonetic_name_location_city = inventors.merge(pi, on=['phonetic_first','phonetic_last','state','city'])"
   ]
  },
  {
   "cell_type": "code",
   "execution_count": 137,
   "metadata": {
    "ExecuteTime": {
     "end_time": "2020-01-24T14:09:21.677570Z",
     "start_time": "2020-01-24T14:09:21.660224Z"
    }
   },
   "outputs": [
    {
     "data": {
      "text/plain": [
       "190"
      ]
     },
     "execution_count": 137,
     "metadata": {},
     "output_type": "execute_result"
    }
   ],
   "source": [
    "merge_phonetic_name_location_city['inventor_id'].nunique()"
   ]
  },
  {
   "cell_type": "markdown",
   "metadata": {},
   "source": [
    "<span style=\"color:red\">**Checkpoint 3: Deterministic matching of organization names**</span>"
   ]
  },
  {
   "cell_type": "markdown",
   "metadata": {},
   "source": [
    "Now try doing different types of merges using organization names, blocking on different variables and seeing the differences."
   ]
  },
  {
   "cell_type": "code",
   "execution_count": 149,
   "metadata": {},
   "outputs": [
    {
     "data": {
      "text/html": [
       "<div>\n",
       "<style scoped>\n",
       "    .dataframe tbody tr th:only-of-type {\n",
       "        vertical-align: middle;\n",
       "    }\n",
       "\n",
       "    .dataframe tbody tr th {\n",
       "        vertical-align: top;\n",
       "    }\n",
       "\n",
       "    .dataframe thead th {\n",
       "        text-align: right;\n",
       "    }\n",
       "</style>\n",
       "<table border=\"1\" class=\"dataframe\">\n",
       "  <thead>\n",
       "    <tr style=\"text-align: right;\">\n",
       "      <th></th>\n",
       "      <th>patent_id</th>\n",
       "      <th>organization</th>\n",
       "      <th>org_city</th>\n",
       "      <th>org_state</th>\n",
       "      <th>org_country</th>\n",
       "      <th>org_phonetic</th>\n",
       "    </tr>\n",
       "  </thead>\n",
       "  <tbody>\n",
       "    <tr>\n",
       "      <th>0</th>\n",
       "      <td>9992413</td>\n",
       "      <td>raytheon</td>\n",
       "      <td>LEXINGTON</td>\n",
       "      <td>MA</td>\n",
       "      <td>US</td>\n",
       "      <td>RAYTAN</td>\n",
       "    </tr>\n",
       "    <tr>\n",
       "      <th>1</th>\n",
       "      <td>RE45718</td>\n",
       "      <td>boston scientific</td>\n",
       "      <td>LEXINGTON</td>\n",
       "      <td>MA</td>\n",
       "      <td>US</td>\n",
       "      <td>BASTANSCANTAFAC</td>\n",
       "    </tr>\n",
       "    <tr>\n",
       "      <th>2</th>\n",
       "      <td>9992413</td>\n",
       "      <td>raytheon</td>\n",
       "      <td>WALTHAM</td>\n",
       "      <td>MA</td>\n",
       "      <td>US</td>\n",
       "      <td>RAYTAN</td>\n",
       "    </tr>\n",
       "    <tr>\n",
       "      <th>3</th>\n",
       "      <td>9988932</td>\n",
       "      <td>honeywell international</td>\n",
       "      <td>WALTHAM</td>\n",
       "      <td>MA</td>\n",
       "      <td>US</td>\n",
       "      <td>HANAYWALANTARNATANAL</td>\n",
       "    </tr>\n",
       "    <tr>\n",
       "      <th>4</th>\n",
       "      <td>9991578</td>\n",
       "      <td>honeywell international</td>\n",
       "      <td>WALTHAM</td>\n",
       "      <td>MA</td>\n",
       "      <td>US</td>\n",
       "      <td>HANAYWALANTARNATANAL</td>\n",
       "    </tr>\n",
       "  </tbody>\n",
       "</table>\n",
       "</div>"
      ],
      "text/plain": [
       "  patent_id             organization   org_city org_state org_country  \\\n",
       "0   9992413                 raytheon  LEXINGTON        MA          US   \n",
       "1   RE45718        boston scientific  LEXINGTON        MA          US   \n",
       "2   9992413                 raytheon    WALTHAM        MA          US   \n",
       "3   9988932  honeywell international    WALTHAM        MA          US   \n",
       "4   9991578  honeywell international    WALTHAM        MA          US   \n",
       "\n",
       "           org_phonetic  \n",
       "0                RAYTAN  \n",
       "1       BASTANSCANTAFAC  \n",
       "2                RAYTAN  \n",
       "3  HANAYWALANTARNATANAL  \n",
       "4  HANAYWALANTARNATANAL  "
      ]
     },
     "execution_count": 149,
     "metadata": {},
     "output_type": "execute_result"
    }
   ],
   "source": [
    "assignees['org_city'] = assignees['org_city'].str.upper()\n",
    "assignees.head()"
   ]
  },
  {
   "cell_type": "code",
   "execution_count": 158,
   "metadata": {},
   "outputs": [],
   "source": [
    "organizations = organizations.rename(columns={' ORGANIZATION_STATE':'org_state'})\n",
    "organizations = organizations.rename(columns={' ORGANIZATION_CITY':'org_city'})\n",
    "organizations = organizations.rename(columns={' ORGANIZATION_NAME':'organization'})"
   ]
  },
  {
   "cell_type": "code",
   "execution_count": 159,
   "metadata": {},
   "outputs": [
    {
     "data": {
      "text/html": [
       "<div>\n",
       "<style scoped>\n",
       "    .dataframe tbody tr th:only-of-type {\n",
       "        vertical-align: middle;\n",
       "    }\n",
       "\n",
       "    .dataframe tbody tr th {\n",
       "        vertical-align: top;\n",
       "    }\n",
       "\n",
       "    .dataframe thead th {\n",
       "        text-align: right;\n",
       "    }\n",
       "</style>\n",
       "<table border=\"1\" class=\"dataframe\">\n",
       "  <thead>\n",
       "    <tr style=\"text-align: right;\">\n",
       "      <th></th>\n",
       "      <th>PROJECT_ID</th>\n",
       "      <th>organization</th>\n",
       "      <th>org_city</th>\n",
       "      <th>org_state</th>\n",
       "      <th>ORGANIZATION_COUNTRY</th>\n",
       "      <th>org_phonetic</th>\n",
       "    </tr>\n",
       "  </thead>\n",
       "  <tbody>\n",
       "    <tr>\n",
       "      <th>0</th>\n",
       "      <td>121219</td>\n",
       "      <td>university of arizona</td>\n",
       "      <td>TUCSON</td>\n",
       "      <td>AZ</td>\n",
       "      <td>UNITED STATES</td>\n",
       "      <td>UNAVARSATYAFARASAN</td>\n",
       "    </tr>\n",
       "    <tr>\n",
       "      <th>1</th>\n",
       "      <td>121220</td>\n",
       "      <td>ohio aerospace institute</td>\n",
       "      <td>BROOK PARK</td>\n",
       "      <td>OH</td>\n",
       "      <td>UNITED STATES</td>\n",
       "      <td>OHARASPACANSTATAT</td>\n",
       "    </tr>\n",
       "    <tr>\n",
       "      <th>2</th>\n",
       "      <td>121221</td>\n",
       "      <td>northwestern university</td>\n",
       "      <td>EVANSTON</td>\n",
       "      <td>IL</td>\n",
       "      <td>UNITED STATES</td>\n",
       "      <td>NARTWASTARNANAVARSATY</td>\n",
       "    </tr>\n",
       "    <tr>\n",
       "      <th>3</th>\n",
       "      <td>121222</td>\n",
       "      <td>university of california santa cruz</td>\n",
       "      <td>SANTA CRUZ</td>\n",
       "      <td>CA</td>\n",
       "      <td>UNITED STATES</td>\n",
       "      <td>UNAVARSATYAFCALAFARNASANTACR</td>\n",
       "    </tr>\n",
       "    <tr>\n",
       "      <th>4</th>\n",
       "      <td>121223</td>\n",
       "      <td>university of california irvine</td>\n",
       "      <td>IRVINE</td>\n",
       "      <td>CA</td>\n",
       "      <td>UNITED STATES</td>\n",
       "      <td>UNAVARSATYAFCALAFARNARVAN</td>\n",
       "    </tr>\n",
       "  </tbody>\n",
       "</table>\n",
       "</div>"
      ],
      "text/plain": [
       "   PROJECT_ID                         organization    org_city org_state  \\\n",
       "0      121219                university of arizona      TUCSON        AZ   \n",
       "1      121220             ohio aerospace institute  BROOK PARK        OH   \n",
       "2      121221              northwestern university    EVANSTON        IL   \n",
       "3      121222  university of california santa cruz  SANTA CRUZ        CA   \n",
       "4      121223      university of california irvine      IRVINE        CA   \n",
       "\n",
       "   ORGANIZATION_COUNTRY                  org_phonetic  \n",
       "0         UNITED STATES            UNAVARSATYAFARASAN  \n",
       "1         UNITED STATES             OHARASPACANSTATAT  \n",
       "2         UNITED STATES         NARTWASTARNANAVARSATY  \n",
       "3         UNITED STATES  UNAVARSATYAFCALAFARNASANTACR  \n",
       "4         UNITED STATES     UNAVARSATYAFCALAFARNARVAN  "
      ]
     },
     "execution_count": 159,
     "metadata": {},
     "output_type": "execute_result"
    }
   ],
   "source": [
    "organizations.head()"
   ]
  },
  {
   "cell_type": "code",
   "execution_count": 160,
   "metadata": {},
   "outputs": [
    {
     "name": "stdout",
     "output_type": "stream",
     "text": [
      "191\n",
      "0.3281786941580756\n"
     ]
    }
   ],
   "source": [
    "#Merging with organization names only\n",
    "mrg = assignees.merge(organizations,on=['organization'])\n",
    "print(mrg['patent_id'].nunique())\n",
    "print(mrg['patent_id'].nunique()/assignees['patent_id'].nunique())"
   ]
  },
  {
   "cell_type": "code",
   "execution_count": 153,
   "metadata": {
    "ExecuteTime": {
     "end_time": "2020-01-24T14:07:30.224447Z",
     "start_time": "2020-01-24T14:07:30.215459Z"
    }
   },
   "outputs": [
    {
     "name": "stdout",
     "output_type": "stream",
     "text": [
      "195\n",
      "0.33505154639175255\n"
     ]
    }
   ],
   "source": [
    "#Merging with organization names only\n",
    "merge_org = assignees.merge(organizations,on=['org_phonetic'])\n",
    "print(merge_org['patent_id'].nunique())\n",
    "print(merge_org['patent_id'].nunique()/assignees['patent_id'].nunique())"
   ]
  },
  {
   "cell_type": "code",
   "execution_count": 155,
   "metadata": {},
   "outputs": [
    {
     "name": "stdout",
     "output_type": "stream",
     "text": [
      "193\n",
      "0.3316151202749141\n"
     ]
    }
   ],
   "source": [
    "#Merging with organization names with state\n",
    "merge_org_st = assignees.merge(organizations,on=['org_phonetic','org_state'])\n",
    "print(merge_org_st['patent_id'].nunique())\n",
    "print(merge_org_st['patent_id'].nunique()/assignees['patent_id'].nunique())"
   ]
  },
  {
   "cell_type": "code",
   "execution_count": 161,
   "metadata": {},
   "outputs": [
    {
     "name": "stdout",
     "output_type": "stream",
     "text": [
      "171\n",
      "0.29381443298969073\n"
     ]
    }
   ],
   "source": [
    "#Merging with organization names with state and city\n",
    "merge_org_st_city = assignees.merge(organizations,on=['org_phonetic','org_state','org_city'])\n",
    "print(merge_org_st_city['patent_id'].nunique())\n",
    "\n",
    "#How many patents issued bwt 2015-2019 are from organizations that received grants in 2010?\n",
    "print(merge_org_st_city['patent_id'].nunique()/assignees['patent_id'].nunique())"
   ]
  },
  {
   "cell_type": "code",
   "execution_count": 163,
   "metadata": {},
   "outputs": [
    {
     "name": "stdout",
     "output_type": "stream",
     "text": [
      "280\n",
      "5486\n",
      "75\n"
     ]
    }
   ],
   "source": [
    "print(assignees['org_phonetic'].nunique())\n",
    "print(organizations['org_phonetic'].nunique())\n",
    "print(merge_org_st_city['org_phonetic'].nunique())"
   ]
  },
  {
   "cell_type": "markdown",
   "metadata": {},
   "source": [
    "**Optional: Regular Expressions - regex**\n",
    "\n",
    "When defining a regular expression search pattern, it is a good idea to start out by writing down, explicitly, in plain English, what you are trying to search for and exactly how you identify when you've found a match.\n",
    "For example, if we look at an author field formatted as \"<last_name> , <first_name> <middle_name>\", in plain English, this is how I would explain where to find the last name: \"starting from the beginning of the line, take all the characters until you see a comma.\"\n",
    "\n",
    "We can build a regular expression that captures this idea from the following components:\n",
    "- ^ Matches beginning of the line\n",
    "- . Matches any character\n",
    "- .+ A modifier that means \"match one or more of the preceding expression\"\n",
    "\n",
    "In a regular expression, there are special reserved characters and character classes like those in the list above. Anything that is not a special character or class is just looked for explicitly (for example, a comma is not a special character in regular expressions, so if it is in a regular expression pattern, the regular expression processor will just be looking for a comma in the string, at that point in the pattern).\n",
    "\n",
    "Note: if you want to actually look for one of these reserved characters, it must be escaped, so that, for example, the expression looks for a literal period, rather than the special regular expression meaning of a period. To escape a reserved character in a regular expression, precede it with a back slash ( \".\" ).\n",
    "This results in the regular expression: ^.+,\n",
    "\n",
    "We start at the beginning of the line ( \"^\" ), matching any characters ( \".+\" ) until we come to the literal character of a comma ( \",\" ).\n",
    "\n",
    "In python, to use a regular expression like this to search for matches in a given string, we use the built-in \"re\" package ( https://docs.python.org/2/library/re.html ), specifically the \"re.search()\" method. To use \"re.search()\", pass it first the regular expression you want to use to search, enclosed in quotation marks, and then the string you want to search within. \n",
    "\n",
    "#### REGEX CHEATSHEET\n",
    "\n",
    "\n",
    "    - abc...     Letters\n",
    "    - 123...     Digits\n",
    "    - \\d         Any Digit\n",
    "    - \\D         Any non-Digit Character\n",
    "    - .          Any Character\n",
    "    - \\.         Period\n",
    "    - [a,b,c]    Only a, b or c\n",
    "    - [^a,b,c]   Not a,b, or c\n",
    "    - [a-z]      Characters a to z\n",
    "    - [0-9]      Numbers 0 to 9\n",
    "    - \\w any     Alphanumeric chracter\n",
    "    - \\W         any non-Alphanumeric character\n",
    "    - {m}        m Repetitions\n",
    "    - {m,n}      m to n repetitions\n",
    "    - *          Zero or more repetitions\n",
    "    - +          One or more repetitions\n",
    "    - ?          Optional Character\n",
    "    - \\s         any Whitespace\n",
    "    - \\S         any non-Whitespace character\n",
    "    - ^...$      Starts & Ends\n",
    "    - (...)      Capture Group\n",
    "    - (a(bc))    Capture sub-Group\n",
    "    - (.*)       Capture All\n",
    "    - (abc|def)  Capture abc or def\n",
    "     \n",
    "#### EXAMPLES\n",
    "    - (\\d\\d|\\D) will match 22X, 23G, 56H, etc...\n",
    "    - \\w will match any characters between 0-9 or a-z\n",
    "    - \\w{1-3} will match any alphanumeric character of a length of 1 to 3. \n",
    "    - (spell|spells) will match spell or spells"
   ]
  },
  {
   "cell_type": "markdown",
   "metadata": {},
   "source": [
    "## References and Further Readings\n",
    "\n",
    "\n",
    "### Record Linkage\n",
    "Winkler, William E. 2009. “Record Linkage.” In Handbook of Statistics 29a, Sample Surveys: Design, Methods and Applications, edited by D. Pfeffermann and C.\n",
    "R. Rao, 351–80. Elsevier.\n",
    "\n",
    "Lane, Julia, Ian Foster, Rayid Ghani, Ron S. Jarmin, Frauke Kreuter (editors), Big Data and Social Science: A Practical Guide to Methods and Tools, Chapman and Hall/CRC Press, 2016. \n",
    "https://coleridge-initiative.github.io/big-data-and-social-science/chap-link.html\n",
    "\n",
    "### Parsing\n",
    "\n",
    "* Python online documentation: https://docs.python.org/2/library/string.html#deprecated-string-functions\n",
    "* Python 2.7 Tutorial (Splitting and Joining Strings): http://www.pitt.edu/~naraehan/python2/split_join.html\n",
    "\n",
    "### Regular Expression\n",
    "\n",
    "* Python documentation: https://docs.python.org/2/library/re.html#regular-expression-syntax\n",
    "* Online regular expression tester (good for learning): http://regex101.com/\n",
    "\n",
    "### Record Linkage Python package\n",
    "* `recordlinkage` Python package: https://recordlinkage.readthedocs.io/en/latest/index.html"
   ]
  },
  {
   "cell_type": "code",
   "execution_count": null,
   "metadata": {},
   "outputs": [],
   "source": []
  }
 ],
 "metadata": {
  "kernelspec": {
   "display_name": "Python 3",
   "language": "python",
   "name": "python3"
  },
  "language_info": {
   "codemirror_mode": {
    "name": "ipython",
    "version": 3
   },
   "file_extension": ".py",
   "mimetype": "text/x-python",
   "name": "python",
   "nbconvert_exporter": "python",
   "pygments_lexer": "ipython3",
   "version": "3.7.3"
  },
  "toc": {
   "base_numbering": 1,
   "nav_menu": {},
   "number_sections": true,
   "sideBar": true,
   "skip_h1_title": false,
   "title_cell": "Table of Contents",
   "title_sidebar": "Contents",
   "toc_cell": true,
   "toc_position": {
    "height": "calc(100% - 180px)",
    "left": "10px",
    "top": "150px",
    "width": "165px"
   },
   "toc_section_display": true,
   "toc_window_display": false
  },
  "varInspector": {
   "cols": {
    "lenName": 16,
    "lenType": 16,
    "lenVar": 40
   },
   "kernels_config": {
    "python": {
     "delete_cmd_postfix": "",
     "delete_cmd_prefix": "del ",
     "library": "var_list.py",
     "varRefreshCmd": "print(var_dic_list())"
    },
    "r": {
     "delete_cmd_postfix": ") ",
     "delete_cmd_prefix": "rm(",
     "library": "var_list.r",
     "varRefreshCmd": "cat(var_dic_list()) "
    }
   },
   "types_to_exclude": [
    "module",
    "function",
    "builtin_function_or_method",
    "instance",
    "_Feature"
   ],
   "window_display": false
  }
 },
 "nbformat": 4,
 "nbformat_minor": 2
}
